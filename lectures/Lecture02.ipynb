{
 "cells": [
  {
   "attachments": {},
   "cell_type": "markdown",
   "id": "d6515b7c",
   "metadata": {
    "slideshow": {
     "slide_type": "slide"
    }
   },
   "source": [
    "# Programming with Python\n",
    "\n",
    "## Lecture 02: Basic string operations\n",
    "\n",
    "### Khachatur Khechoyan\n",
    "\n",
    "#### Yerevan State University\n",
    "#### Portmind"
   ]
  },
  {
   "attachments": {},
   "cell_type": "markdown",
   "id": "de7cfa6d",
   "metadata": {},
   "source": [
    "# String length"
   ]
  },
  {
   "cell_type": "code",
   "execution_count": null,
   "id": "f574a822",
   "metadata": {},
   "outputs": [],
   "source": [
    "string = \"Hello World!\"\n",
    "length = len(string)\n",
    "print(length)"
   ]
  },
  {
   "attachments": {},
   "cell_type": "markdown",
   "id": "4518a3ce",
   "metadata": {},
   "source": [
    "# String indexing"
   ]
  },
  {
   "attachments": {},
   "cell_type": "markdown",
   "id": "8c847861",
   "metadata": {},
   "source": [
    "string[`start`:`end`:`step`]\n"
   ]
  },
  {
   "cell_type": "code",
   "execution_count": null,
   "id": "7814a4f3",
   "metadata": {},
   "outputs": [],
   "source": [
    "s = 'Hello, world!'\n",
    "print(s[0])"
   ]
  },
  {
   "cell_type": "code",
   "execution_count": null,
   "id": "6b0306a8",
   "metadata": {},
   "outputs": [],
   "source": [
    "print(s[2])"
   ]
  },
  {
   "cell_type": "code",
   "execution_count": null,
   "id": "cddfc79c",
   "metadata": {},
   "outputs": [],
   "source": [
    "print(s[-1])"
   ]
  },
  {
   "cell_type": "code",
   "execution_count": null,
   "id": "c07babac",
   "metadata": {},
   "outputs": [],
   "source": [
    "print(s[0:5])\n",
    "print(s[:5])"
   ]
  },
  {
   "cell_type": "code",
   "execution_count": null,
   "id": "d71807a6",
   "metadata": {},
   "outputs": [],
   "source": [
    "print(s[7:])\n",
    "print(s[7:len(s)])"
   ]
  },
  {
   "cell_type": "code",
   "execution_count": null,
   "id": "df3abf96",
   "metadata": {},
   "outputs": [],
   "source": [
    "print(s[:])"
   ]
  },
  {
   "cell_type": "code",
   "execution_count": null,
   "id": "b20acc27",
   "metadata": {},
   "outputs": [],
   "source": [
    "print(s[0:5:2])\n",
    "print(s[0:5:1])\n",
    "print(s[::-1]) # reverse string"
   ]
  },
  {
   "attachments": {},
   "cell_type": "markdown",
   "id": "83bff730",
   "metadata": {},
   "source": [
    "# Basic string manipulations"
   ]
  },
  {
   "attachments": {},
   "cell_type": "markdown",
   "id": "b20eb2ae",
   "metadata": {},
   "source": [
    "| Operator   | Name          | Example        | Meaning                             |\n",
    "|------------|---------------|----------------|-------------------------------------|\n",
    "| \\+         | Concatenation | x \\+ y         | Concatenates two strings            |\n",
    "| \\*         | Repetition    | x \\* y         | Repeats a string for integral times |\n"
   ]
  },
  {
   "attachments": {},
   "cell_type": "markdown",
   "id": "30f7135c",
   "metadata": {},
   "source": [
    "# Concatenation\n",
    "    \n",
    "```python\n",
    ">>> 'Hello' + ' ' + 'World!'\n",
    "'Hello World!'\n",
    "```"
   ]
  },
  {
   "cell_type": "code",
   "execution_count": null,
   "id": "510629b4",
   "metadata": {},
   "outputs": [],
   "source": [
    "first_string = \"Hello\"\n",
    "second_string = \"World!\"\n",
    "concatenated_string = first_string + second_string\n",
    "print(concatenated_string)\n",
    "\n",
    "concatenated_string_2 = first_string + \" \" + second_string\n",
    "print(concatenated_string_2)"
   ]
  },
  {
   "attachments": {},
   "cell_type": "markdown",
   "id": "5b8d78ed",
   "metadata": {},
   "source": [
    "# Repetition\n",
    "\n",
    "```python\n",
    ">>> 'Hello' * 3\n",
    "'HelloHelloHello'\n",
    "```"
   ]
  },
  {
   "cell_type": "code",
   "execution_count": null,
   "id": "0d414d86",
   "metadata": {},
   "outputs": [],
   "source": [
    "first_string = \"Hello\"\n",
    "repeated_string = first_string * 3\n",
    "print(repeated_string)"
   ]
  },
  {
   "attachments": {},
   "cell_type": "markdown",
   "id": "2dc9338c",
   "metadata": {},
   "source": [
    "## Exercise 1\n",
    "\n",
    "*Write a program that asks the user for their name and a number and prints out the name that many times.*\n",
    "\n",
    "```python\n",
    "Enter your name: Khachatur\n",
    "Enter a number: 3\n",
    "\n",
    "\"KhachaturKhachaturKhachatur\"\n",
    "```"
   ]
  },
  {
   "cell_type": "code",
   "execution_count": null,
   "id": "6d8a6a65",
   "metadata": {},
   "outputs": [],
   "source": []
  },
  {
   "attachments": {},
   "cell_type": "markdown",
   "id": "8b0cc371",
   "metadata": {},
   "source": [
    "## Exercise 2\n",
    "\n",
    "*Write a program that asks the user for a two numbers and prints out the division of the concatenation of the two numbers by the sum of the two numbers.*\n",
    "\n",
    "```python\n",
    "Enter a number: 3\n",
    "Enter another number: 4\n",
    "\n",
    "\"34 / 7 = 4.857142857142857\"\n",
    "```"
   ]
  },
  {
   "cell_type": "code",
   "execution_count": null,
   "id": "15bd2ca3",
   "metadata": {},
   "outputs": [],
   "source": []
  },
  {
   "attachments": {},
   "cell_type": "markdown",
   "id": "407db90f",
   "metadata": {},
   "source": [
    "## Exercise 3\n",
    "\n",
    "*Write a program that asks the user for a string and a number and prints out the characters of the string at the positions of the number.*\n",
    "\n",
    "```python\n",
    "\n",
    "Enter a string: Hello\n",
    "Enter a number: 3\n",
    "\n",
    "\"l\"\n",
    "```\n",
    "\n"
   ]
  },
  {
   "cell_type": "code",
   "execution_count": null,
   "id": "cec05e84",
   "metadata": {},
   "outputs": [],
   "source": []
  },
  {
   "attachments": {},
   "cell_type": "markdown",
   "id": "6c9e8f43",
   "metadata": {},
   "source": [
    "# String methods"
   ]
  },
  {
   "attachments": {},
   "cell_type": "markdown",
   "id": "58e7f330",
   "metadata": {},
   "source": [
    "#### `str.upper()`\n",
    "\n",
    "```python\n",
    ">>> 'hello'.upper() # Makes all characters uppercase\n",
    "'HELLO'\n",
    "```\n"
   ]
  },
  {
   "attachments": {},
   "cell_type": "markdown",
   "id": "fe3df150",
   "metadata": {},
   "source": [
    "#### `str.lower()`\n",
    "\n",
    "```python\n",
    ">>> 'HELLO'.lower() # Makes all characters lowercase\n",
    "'hello'\n",
    "```"
   ]
  },
  {
   "cell_type": "code",
   "execution_count": null,
   "id": "3cbc7b5d",
   "metadata": {},
   "outputs": [],
   "source": [
    "s = \"Hello, world!\"\n",
    "print(s.upper())\n",
    "print(s.lower())"
   ]
  },
  {
   "attachments": {},
   "cell_type": "markdown",
   "id": "3c32fddd",
   "metadata": {},
   "source": [
    "#### `str.capitalize()`\n",
    "\n",
    "```python\n",
    ">>> 'hello'.capitalize() # Capitalizes the first letter\n",
    "'Hello'\n",
    "```"
   ]
  },
  {
   "cell_type": "code",
   "execution_count": null,
   "id": "59cfe04c",
   "metadata": {},
   "outputs": [],
   "source": [
    "s = \"hello, world!\"\n",
    "print(s.capitalize())"
   ]
  },
  {
   "attachments": {},
   "cell_type": "markdown",
   "id": "ce032768",
   "metadata": {},
   "source": [
    "#### `str.title()`\n",
    "\n",
    "```python\n",
    ">>> 'hello world'.title() # Makes the first letter of each word uppercase and the rest lowercase\n",
    "'Hello World'\n",
    "```"
   ]
  },
  {
   "cell_type": "code",
   "execution_count": null,
   "id": "d68c04d8",
   "metadata": {},
   "outputs": [],
   "source": [
    "print(s.title())"
   ]
  },
  {
   "attachments": {},
   "cell_type": "markdown",
   "id": "0fd80049",
   "metadata": {},
   "source": [
    "#### `str.swapcase()`\n",
    "\n",
    "```python\n",
    ">>> 'Hello World'.swapcase() # Swaps the case of each letter\n",
    "'hELLO wORLD'\n",
    "```"
   ]
  },
  {
   "cell_type": "code",
   "execution_count": null,
   "id": "e935c8dc",
   "metadata": {},
   "outputs": [],
   "source": [
    "s = \"Hello, world!\"\n",
    "print(s.swapcase())"
   ]
  },
  {
   "attachments": {},
   "cell_type": "markdown",
   "id": "1462f2c2",
   "metadata": {},
   "source": [
    "#### `str.strip()`\n",
    "\n",
    "```python\n",
    ">>> '   Hello World   '.strip()  # Removes leading and trailing whitespaces, also removes leading and trailing characters if specified\n",
    "'Hello World'\n",
    "```"
   ]
  },
  {
   "cell_type": "code",
   "execution_count": null,
   "id": "ed946a63",
   "metadata": {},
   "outputs": [],
   "source": [
    "s = \"    Hello, world!        \"\n",
    "print(s.strip())\n",
    "\n",
    "s = \"aaaaHello, world!aaaaaa\"\n",
    "print(s.strip('a'))\n",
    "\n",
    "s = \"abHello, world!ba\"\n",
    "print(s.strip('ab'))"
   ]
  },
  {
   "attachments": {},
   "cell_type": "markdown",
   "id": "659d47bc",
   "metadata": {},
   "source": [
    "#### `str.lstrip()`\n",
    "\n",
    "```python\n",
    ">>> '   Hello World   '.lstrip() # Removes leading whitespaces, also removes leading characters if specified\n",
    "'Hello World   '\n",
    "```"
   ]
  },
  {
   "attachments": {},
   "cell_type": "markdown",
   "id": "734cb1ad",
   "metadata": {},
   "source": [
    "#### `str.rstrip()`\n",
    "\n",
    "```python\n",
    ">>> '   Hello World   '.rstrip() # Removes trailing whitespaces, also removes trailing characters if specified\n",
    "'   Hello World'\n",
    "```"
   ]
  },
  {
   "cell_type": "code",
   "execution_count": null,
   "id": "90995582",
   "metadata": {},
   "outputs": [],
   "source": [
    "s = \"    Hello, world!   \"\n",
    "print(s.rstrip())\n",
    "print(s.lstrip())\n"
   ]
  },
  {
   "attachments": {},
   "cell_type": "markdown",
   "id": "30fc2d8a",
   "metadata": {},
   "source": [
    "#### `str.replace()`\n",
    "\n",
    "```python\n",
    ">>> 'Hello World'.replace('World', 'Python') # Replaces all occurrences of the first argument with the second argument\n",
    "'Hello Python'\n",
    "```"
   ]
  },
  {
   "cell_type": "code",
   "execution_count": null,
   "id": "c81216f0",
   "metadata": {},
   "outputs": [],
   "source": [
    "s = \"Hello, world!\"\n",
    "print(s.replace(\"world\", \"Python\"))\n",
    "\n",
    "s = \"Hello, world world world world!\"\n",
    "print(s.replace(\"world\", \"Python\", 2))"
   ]
  },
  {
   "attachments": {},
   "cell_type": "markdown",
   "id": "015e44da",
   "metadata": {},
   "source": [
    "# Basic string formatting"
   ]
  },
  {
   "attachments": {},
   "cell_type": "markdown",
   "id": "4f68c349",
   "metadata": {},
   "source": [
    "#### `str.format()`\n",
    "\n",
    "```python\n",
    ">>> 'Hello {}!'.format('World') # Replaces the curly braces with the arguments\n",
    "'Hello World!'\n",
    ">>> 'Hello {0}!'.format('World') # Replaces the curly braces with the arguments\n",
    "'Hello World!'\n",
    ">>> 'Hello {name}!'.format(name='World') # Replaces the curly braces with the arguments\n",
    "'Hello World!'\n",
    ">>> 'Hello {0} and {1}!'.format('World', 'Python') # Replaces the curly braces with the arguments\n",
    "'Hello World and Python!'\n",
    ">>> 'Hello {1} and {0}!'.format('World', 'Python') # Replaces the curly braces with the arguments\n",
    "'Hello Python and World!'\n",
    "```"
   ]
  },
  {
   "cell_type": "code",
   "execution_count": null,
   "id": "31eaa50b",
   "metadata": {},
   "outputs": [],
   "source": [
    "name = \"Khachatur\"\n",
    "age = 25\n",
    "print(\"My name is {0} and I am {1} years old\".format(name, age))"
   ]
  },
  {
   "attachments": {},
   "cell_type": "markdown",
   "id": "317eb799",
   "metadata": {},
   "source": [
    "#### `f-strings (Python 3.6+) My favorite`\n",
    "\n",
    "```python\n",
    ">>> name = 'Khachatur'\n",
    ">>> age = 25\n",
    ">>> f'Hello {name}!' # Replaces the curly braces with the arguments\n",
    "'Hello Khachatur!'\n",
    ">>> f'Hello {name.upper()}!'\n",
    "'Hello KHACHATUR!'\n",
    ">>> f'Hello {name}! You are {age} years old.'\n",
    "'Hello Khachatur! You are 25 years old.'\n",
    "```"
   ]
  },
  {
   "cell_type": "code",
   "execution_count": null,
   "id": "199e0317",
   "metadata": {},
   "outputs": [],
   "source": [
    "name = \"Khachatur\"\n",
    "age = 25\n",
    "print(f\"My name is {name} I am {age} years old\")"
   ]
  },
  {
   "attachments": {},
   "cell_type": "markdown",
   "id": "400ce43a",
   "metadata": {},
   "source": [
    "# Whitespace characters"
   ]
  },
  {
   "attachments": {},
   "cell_type": "markdown",
   "id": "e60e1600",
   "metadata": {},
   "source": [
    "`\\n` - newline \\\n",
    "`\\t` - tab"
   ]
  },
  {
   "cell_type": "code",
   "execution_count": null,
   "id": "72f82755",
   "metadata": {},
   "outputs": [],
   "source": [
    "print('Hello\\nworld!')"
   ]
  },
  {
   "cell_type": "code",
   "execution_count": null,
   "id": "7e120489",
   "metadata": {},
   "outputs": [],
   "source": [
    "print('Hello\\tworld!')"
   ]
  },
  {
   "cell_type": "code",
   "execution_count": null,
   "id": "550810e8",
   "metadata": {},
   "outputs": [],
   "source": [
    "print('\\t\\t\\tworld!')"
   ]
  }
 ],
 "metadata": {
  "celltoolbar": "Slideshow",
  "kernelspec": {
   "display_name": "Python 3 (ipykernel)",
   "language": "python",
   "name": "python3"
  },
  "language_info": {
   "codemirror_mode": {
    "name": "ipython",
    "version": 3
   },
   "file_extension": ".py",
   "mimetype": "text/x-python",
   "name": "python",
   "nbconvert_exporter": "python",
   "pygments_lexer": "ipython3",
   "version": "3.11.5"
  },
  "vscode": {
   "interpreter": {
    "hash": "916dbcbb3f70747c44a77c7bcd40155683ae19c65e1c03b4aa3499c5328201f1"
   }
  }
 },
 "nbformat": 4,
 "nbformat_minor": 5
}
