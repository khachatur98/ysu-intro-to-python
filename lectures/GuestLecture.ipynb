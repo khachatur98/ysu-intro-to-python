{
 "cells": [
  {
   "cell_type": "code",
   "execution_count": 1,
   "id": "787f7ea4",
   "metadata": {},
   "outputs": [],
   "source": [
    "P = 1000\n",
    "r = 0.05\n",
    "C = 400\n",
    "p = 0.15\n",
    "N = 40"
   ]
  },
  {
   "cell_type": "code",
   "execution_count": 3,
   "id": "ac336579",
   "metadata": {},
   "outputs": [],
   "source": [
    "import random"
   ]
  },
  {
   "cell_type": "code",
   "execution_count": 50,
   "id": "6ba916f9",
   "metadata": {},
   "outputs": [],
   "source": [
    "def calc_final_amount(P=1000, C=400, N=40):\n",
    "\n",
    "    deposit = P\n",
    "    add_invest = C\n",
    "    for i in range(N):\n",
    "        deposit = deposit * (1+r)\n",
    "\n",
    "        p = random.randint(5,35)/100\n",
    "        add_invest = add_invest + add_invest*p\n",
    "\n",
    "        deposit = deposit + add_invest\n",
    "\n",
    "        #print (\"---Current amount at the end of year\" + str(i+1) + \": \" + str(deposit))\n",
    "    return int(deposit)\n",
    "\n",
    "    "
   ]
  },
  {
   "cell_type": "code",
   "execution_count": 51,
   "id": "f8fc2a86",
   "metadata": {},
   "outputs": [
    {
     "data": {
      "text/plain": [
       "2941981"
      ]
     },
     "execution_count": 51,
     "metadata": {},
     "output_type": "execute_result"
    }
   ],
   "source": [
    "calc_final_amount()"
   ]
  },
  {
   "cell_type": "code",
   "execution_count": 58,
   "id": "49b0edf2",
   "metadata": {},
   "outputs": [],
   "source": [
    "amounts = []\n",
    "for i in range(500):\n",
    "    amount_i = calc_final_amount()\n",
    "    amounts.append(amount_i)"
   ]
  },
  {
   "cell_type": "code",
   "execution_count": 60,
   "id": "ebb2d798",
   "metadata": {},
   "outputs": [
    {
     "data": {
      "text/plain": [
       "1383215"
      ]
     },
     "execution_count": 60,
     "metadata": {},
     "output_type": "execute_result"
    }
   ],
   "source": [
    "min(amounts)"
   ]
  },
  {
   "cell_type": "code",
   "execution_count": 61,
   "id": "3e21c89f",
   "metadata": {},
   "outputs": [],
   "source": [
    "import matplotlib.pyplot as plt"
   ]
  },
  {
   "cell_type": "code",
   "execution_count": 62,
   "id": "76a871eb",
   "metadata": {},
   "outputs": [
    {
     "data": {
      "image/png": "[encoded data removed]",
      "text/plain": [
       "<Figure size 432x288 with 1 Axes>"
      ]
     },
     "metadata": {
      "needs_background": "light"
     },
     "output_type": "display_data"
    }
   ],
   "source": [
    "plt.hist(amounts)\n",
    "plt.show()"
   ]
  },
  {
   "cell_type": "code",
   "execution_count": null,
   "id": "fd848673",
   "metadata": {},
   "outputs": [],
   "source": []
  },
  {
   "cell_type": "code",
   "execution_count": null,
   "id": "afec8820",
   "metadata": {},
   "outputs": [],
   "source": []
  },
  {
   "cell_type": "code",
   "execution_count": 23,
   "id": "2cf485d5",
   "metadata": {},
   "outputs": [],
   "source": [
    "import random"
   ]
  },
  {
   "cell_type": "code",
   "execution_count": 79,
   "id": "f0d8355a",
   "metadata": {},
   "outputs": [],
   "source": [
    "N = 3000000"
   ]
  },
  {
   "cell_type": "code",
   "execution_count": 80,
   "id": "fc863fa9",
   "metadata": {},
   "outputs": [
    {
     "name": "stdout",
     "output_type": "stream",
     "text": [
      "The estimated pi is: 3.141476\n"
     ]
    }
   ],
   "source": [
    "N_inside_circle = 0\n",
    "for i in range(N):\n",
    "    x = random.uniform(-1, 1)\n",
    "    y = random.uniform(-1, 1)\n",
    "    is_inside_circle = ((x**2+y**2-1)<0)\n",
    "    if is_inside_circle:\n",
    "        N_inside_circle += 1\n",
    "        \n",
    "print(\"The estimated pi is: \" + str(N_inside_circle/N*4))\n",
    "        "
   ]
  },
  {
   "cell_type": "code",
   "execution_count": 46,
   "id": "83e5a84e",
   "metadata": {},
   "outputs": [
    {
     "data": {
      "text/plain": [
       "34"
      ]
     },
     "execution_count": 46,
     "metadata": {},
     "output_type": "execute_result"
    }
   ],
   "source": [
    "N_inside_circle"
   ]
  },
  {
   "cell_type": "code",
   "execution_count": 73,
   "id": "2d29cc44",
   "metadata": {},
   "outputs": [
    {
     "data": {
      "text/plain": [
       "0.8814845234686317"
      ]
     },
     "execution_count": 73,
     "metadata": {},
     "output_type": "execute_result"
    }
   ],
   "source": [
    "random.uniform(-1, 1)"
   ]
  },
  {
   "cell_type": "code",
   "execution_count": null,
   "id": "2f663b0a",
   "metadata": {},
   "outputs": [],
   "source": []
  },
  {
   "cell_type": "code",
   "execution_count": null,
   "id": "01128bf6",
   "metadata": {},
   "outputs": [],
   "source": []
  },
  {
   "cell_type": "code",
   "execution_count": null,
   "id": "8a0a2937",
   "metadata": {},
   "outputs": [],
   "source": []
  },
  {
   "cell_type": "code",
   "execution_count": null,
   "id": "c37f0dea",
   "metadata": {},
   "outputs": [],
   "source": []
  },
  {
   "cell_type": "code",
   "execution_count": null,
   "id": "12e94e39",
   "metadata": {},
   "outputs": [],
   "source": []
  }
 ],
 "metadata": {
  "kernelspec": {
   "display_name": "Python 3 (ipykernel)",
   "language": "python",
   "name": "python3"
  },
  "language_info": {
   "codemirror_mode": {
    "name": "ipython",
    "version": 3
   },
   "file_extension": ".py",
   "mimetype": "text/x-python",
   "name": "python",
   "nbconvert_exporter": "python",
   "pygments_lexer": "ipython3",
   "version": "3.9.7"
  }
 },
 "nbformat": 4,
 "nbformat_minor": 5
}
