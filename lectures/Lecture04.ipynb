{
 "cells": [
  {
   "attachments": {},
   "cell_type": "markdown",
   "id": "d6515b7c",
   "metadata": {
    "slideshow": {
     "slide_type": "slide"
    }
   },
   "source": [
    "# Programming with Python\n",
    "\n",
    "## Lecture 04: Boolean and assignment operators, `if` statement\n",
    "\n",
    "### Khachatur Khechoyan\n",
    "\n",
    "#### Yerevan State University\n",
    "#### Portmind"
   ]
  },
  {
   "attachments": {},
   "cell_type": "markdown",
   "id": "62de4921",
   "metadata": {},
   "source": [
    "# Assignment operators\n",
    "\n",
    "| Operator | Name                               | Example   | Meaning                                                                        |\n",
    "|----------|------------------------------------|-----------|--------------------------------------------------------------------------------|\n",
    "| =        | Assignment                         | x = 3     | Assign the value of right\\-hand side expression to the left\\-hand side operand |\n",
    "| \\+=      | Addition and assignment            | x \\+= 3   | Equivalent to x = x \\+ 3                                                       |\n",
    "| \\-=      | Subtraction and assignment         | x \\-= 3   | Equivalent to x = x \\- 3                                                       |\n",
    "| \\*=      | Multiplication and assignment      | x \\*= 3   | Equivalent to x = x \\* 3                                                       |\n",
    "| /=       | Division and assignment            | x /= 3    | Equivalent to x = x / 3                                                        |\n",
    "| %=       | Modulus and assignment             | x %= 3    | Equivalent to x = x % 3                                                        |\n",
    "| //=      | Floor division and assignment      | x //= 3   | Equivalent to x = x // 3                                                       |\n",
    "| \\*\\*=    | Exponentiation and assignment      | x \\*\\*= 3 | Equivalent to x = x \\*\\* 3                                                     |\n",
    "\n",
    "\n",
    "In short `x <op>= y` is equivalent to `x = x <op> y` for the above operators."
   ]
  },
  {
   "attachments": {},
   "cell_type": "markdown",
   "id": "e9afc4dd",
   "metadata": {},
   "source": [
    "### Assignment"
   ]
  },
  {
   "cell_type": "code",
   "execution_count": null,
   "id": "5ac6ee8c",
   "metadata": {},
   "outputs": [],
   "source": [
    "x = 5\n",
    "print(x)\n",
    "\n",
    "x = \"hello world\"\n",
    "print(x)"
   ]
  },
  {
   "attachments": {},
   "cell_type": "markdown",
   "id": "22a80a19",
   "metadata": {},
   "source": [
    "### Addition and assignment"
   ]
  },
  {
   "cell_type": "code",
   "execution_count": null,
   "id": "26909f66",
   "metadata": {},
   "outputs": [],
   "source": [
    "x = 5\n",
    "print(x)\n",
    "\n",
    "x += 3\n",
    "print(x)"
   ]
  },
  {
   "attachments": {},
   "cell_type": "markdown",
   "id": "fa7a1d8d",
   "metadata": {},
   "source": [
    "### Subtraction and assignment"
   ]
  },
  {
   "cell_type": "code",
   "execution_count": null,
   "id": "5fb338ca",
   "metadata": {},
   "outputs": [],
   "source": [
    "x = 5\n",
    "print(x)\n",
    "\n",
    "x -= 3\n",
    "print(x)"
   ]
  },
  {
   "attachments": {},
   "cell_type": "markdown",
   "id": "f74630a3",
   "metadata": {},
   "source": [
    "### Multiplication and assignment"
   ]
  },
  {
   "cell_type": "code",
   "execution_count": null,
   "id": "453d4823",
   "metadata": {},
   "outputs": [],
   "source": [
    "x = 5\n",
    "print(x)\n",
    "\n",
    "x *= 3\n",
    "print(x)"
   ]
  },
  {
   "attachments": {},
   "cell_type": "markdown",
   "id": "de625c87",
   "metadata": {},
   "source": [
    "### Division and assignment"
   ]
  },
  {
   "cell_type": "code",
   "execution_count": null,
   "id": "9e823707",
   "metadata": {},
   "outputs": [],
   "source": [
    "x = 5\n",
    "print(x)\n",
    "\n",
    "x /= 3\n",
    "print(x)"
   ]
  },
  {
   "attachments": {},
   "cell_type": "markdown",
   "id": "2d7fa414",
   "metadata": {},
   "source": [
    "### Modulus and assignment"
   ]
  },
  {
   "cell_type": "code",
   "execution_count": null,
   "id": "45d751c5",
   "metadata": {},
   "outputs": [],
   "source": [
    "x = 5\n",
    "print(x)\n",
    "\n",
    "x %= 3\n",
    "print(x)"
   ]
  },
  {
   "attachments": {},
   "cell_type": "markdown",
   "id": "2e9b8236",
   "metadata": {},
   "source": [
    "### Floor division and assignment"
   ]
  },
  {
   "cell_type": "code",
   "execution_count": null,
   "id": "4fdbd973",
   "metadata": {},
   "outputs": [],
   "source": [
    "x = 5\n",
    "print(x)\n",
    "\n",
    "x //= 3\n",
    "print(x)"
   ]
  },
  {
   "attachments": {},
   "cell_type": "markdown",
   "id": "e4f7f00a",
   "metadata": {},
   "source": [
    "### Exponentiation and assignment"
   ]
  },
  {
   "cell_type": "code",
   "execution_count": null,
   "id": "5931b752",
   "metadata": {},
   "outputs": [],
   "source": [
    "x = 5\n",
    "print(x)\n",
    "\n",
    "x **= 3\n",
    "print(x)"
   ]
  },
  {
   "attachments": {},
   "cell_type": "markdown",
   "id": "79d530b3",
   "metadata": {
    "slideshow": {
     "slide_type": "slide"
    }
   },
   "source": [
    "# Boolean operators\n",
    "\n",
    "| Operator | Name                   | Example | Meaning                                    |\n",
    "|----------|------------------------|---------|--------------------------------------------|\n",
    "| or       | Logical or             | x or y  | if `x` is false, then `y`, else `x`        |\n",
    "| and      | Logical and            | x and y | if `x` is false, then `x`, else `y`        |\n",
    "| not      | Logical not / negation | not x   | if `x` is false, then `True`, else `False` |"
   ]
  },
  {
   "attachments": {},
   "cell_type": "markdown",
   "id": "80efeeeb",
   "metadata": {
    "slideshow": {
     "slide_type": "subslide"
    }
   },
   "source": [
    "## Logical or\n",
    "\n",
    "| x     | y     | x or y |\n",
    "|-------|-------|--------|\n",
    "| False | False | False  |\n",
    "| False | True  | True   |\n",
    "| True  | False | True   |\n",
    "| True  | True  | True   |"
   ]
  },
  {
   "cell_type": "code",
   "execution_count": null,
   "id": "67a18cb4",
   "metadata": {
    "slideshow": {
     "slide_type": "fragment"
    }
   },
   "outputs": [],
   "source": [
    "print(False or False)\n",
    "print(False or True)\n",
    "print(True or False)\n",
    "print(True or True)"
   ]
  },
  {
   "cell_type": "code",
   "execution_count": null,
   "id": "fbba27f5",
   "metadata": {
    "slideshow": {
     "slide_type": "fragment"
    }
   },
   "outputs": [],
   "source": [
    "x = 5 < 10\n",
    "y = 6 > 8\n",
    "\n",
    "x or y"
   ]
  },
  {
   "cell_type": "code",
   "execution_count": null,
   "id": "981aa727",
   "metadata": {
    "slideshow": {
     "slide_type": "fragment"
    }
   },
   "outputs": [],
   "source": [
    "x = 5 > 10\n",
    "y = 6 < 4\n",
    "\n",
    "x or y"
   ]
  },
  {
   "attachments": {},
   "cell_type": "markdown",
   "id": "6f73a527",
   "metadata": {
    "slideshow": {
     "slide_type": "subslide"
    }
   },
   "source": [
    "## Evaluation of arguments\n",
    "\n",
    "**Meaning**: if `x` is false, then `y`, else `x`"
   ]
  },
  {
   "cell_type": "code",
   "execution_count": null,
   "id": "58d46f89",
   "metadata": {
    "slideshow": {
     "slide_type": "fragment"
    }
   },
   "outputs": [],
   "source": [
    "7.2 > 4 or 1 / 0"
   ]
  },
  {
   "cell_type": "code",
   "execution_count": null,
   "id": "f8c39209",
   "metadata": {
    "slideshow": {
     "slide_type": "fragment"
    }
   },
   "outputs": [],
   "source": [
    "7.2 < 4 or 1 / 0"
   ]
  },
  {
   "cell_type": "code",
   "execution_count": null,
   "id": "27482592",
   "metadata": {
    "slideshow": {
     "slide_type": "fragment"
    }
   },
   "outputs": [],
   "source": [
    "7.2 > 4 or 42"
   ]
  },
  {
   "cell_type": "code",
   "execution_count": null,
   "id": "0bbaec93",
   "metadata": {
    "slideshow": {
     "slide_type": "fragment"
    }
   },
   "outputs": [],
   "source": [
    "7.2 < 4 or 42"
   ]
  },
  {
   "cell_type": "code",
   "execution_count": null,
   "id": "0485ea99",
   "metadata": {
    "slideshow": {
     "slide_type": "fragment"
    }
   },
   "outputs": [],
   "source": [
    "7.2 > 4 or \"Bruce Wayne\""
   ]
  },
  {
   "cell_type": "code",
   "execution_count": null,
   "id": "fc31a05a",
   "metadata": {
    "slideshow": {
     "slide_type": "fragment"
    }
   },
   "outputs": [],
   "source": [
    "7.2 < 4 or \"Bruce Wayne\""
   ]
  },
  {
   "attachments": {},
   "cell_type": "markdown",
   "id": "f939a1ee",
   "metadata": {
    "slideshow": {
     "slide_type": "subslide"
    }
   },
   "source": [
    "## Logical and\n",
    "\n",
    "| x     | y     | x and y |\n",
    "|-------|-------|---------|\n",
    "| False | False | False   |\n",
    "| False | True  | False   |\n",
    "| True  | False | False   |\n",
    "| True  | True  | True    |"
   ]
  },
  {
   "cell_type": "code",
   "execution_count": null,
   "id": "b8f84fed",
   "metadata": {
    "slideshow": {
     "slide_type": "fragment"
    }
   },
   "outputs": [],
   "source": [
    "print(False and False)\n",
    "print(False and True)\n",
    "print(True and False)\n",
    "print(True and True)"
   ]
  },
  {
   "cell_type": "code",
   "execution_count": null,
   "id": "ef1c7326",
   "metadata": {
    "slideshow": {
     "slide_type": "fragment"
    }
   },
   "outputs": [],
   "source": [
    "x = 5 < 10\n",
    "y = 6 > 8\n",
    "\n",
    "x and y"
   ]
  },
  {
   "cell_type": "code",
   "execution_count": null,
   "id": "052e6529",
   "metadata": {
    "slideshow": {
     "slide_type": "fragment"
    }
   },
   "outputs": [],
   "source": [
    "x = 5 < 10\n",
    "y = 6 > 4\n",
    "\n",
    "x and y"
   ]
  },
  {
   "attachments": {},
   "cell_type": "markdown",
   "id": "e4bc1d9f",
   "metadata": {
    "slideshow": {
     "slide_type": "subslide"
    }
   },
   "source": [
    "## Evaluation of arguments\n",
    "\n",
    "**Meaning:** if `x` is false, then `x`, else `y`"
   ]
  },
  {
   "cell_type": "code",
   "execution_count": null,
   "id": "d1fc26cb",
   "metadata": {
    "slideshow": {
     "slide_type": "fragment"
    }
   },
   "outputs": [],
   "source": [
    "7.2 > 4 and 1 / 0"
   ]
  },
  {
   "cell_type": "code",
   "execution_count": null,
   "id": "0fe8c18b",
   "metadata": {
    "slideshow": {
     "slide_type": "fragment"
    }
   },
   "outputs": [],
   "source": [
    "7.2 < 4 and 1 / 0"
   ]
  },
  {
   "cell_type": "code",
   "execution_count": null,
   "id": "063f6c78",
   "metadata": {
    "slideshow": {
     "slide_type": "fragment"
    }
   },
   "outputs": [],
   "source": [
    "7.2 > 4 and 42"
   ]
  },
  {
   "cell_type": "code",
   "execution_count": null,
   "id": "eab13dbd",
   "metadata": {
    "slideshow": {
     "slide_type": "fragment"
    }
   },
   "outputs": [],
   "source": [
    "7.2 < 4 and 42"
   ]
  },
  {
   "cell_type": "code",
   "execution_count": null,
   "id": "27cfe67a",
   "metadata": {
    "slideshow": {
     "slide_type": "fragment"
    }
   },
   "outputs": [],
   "source": [
    "7.2 > 4 and \"Bruce Wayne\""
   ]
  },
  {
   "cell_type": "code",
   "execution_count": null,
   "id": "615c0056",
   "metadata": {
    "slideshow": {
     "slide_type": "fragment"
    }
   },
   "outputs": [],
   "source": [
    "7.2 < 4 and \"Bruce Wayne\""
   ]
  },
  {
   "attachments": {},
   "cell_type": "markdown",
   "id": "94f09b3d",
   "metadata": {
    "slideshow": {
     "slide_type": "subslide"
    }
   },
   "source": [
    "## Logical not\n",
    "\n",
    "| x     | not x |\n",
    "|-------|-------|\n",
    "| False | True  |\n",
    "| True  | False |"
   ]
  },
  {
   "cell_type": "code",
   "execution_count": null,
   "id": "2dcc5c99",
   "metadata": {
    "slideshow": {
     "slide_type": "fragment"
    }
   },
   "outputs": [],
   "source": [
    "print(not False)\n",
    "print(not True)"
   ]
  },
  {
   "cell_type": "code",
   "execution_count": null,
   "id": "b753b013",
   "metadata": {
    "slideshow": {
     "slide_type": "fragment"
    }
   },
   "outputs": [],
   "source": [
    "x = 5 < 10\n",
    "\n",
    "not x"
   ]
  },
  {
   "cell_type": "code",
   "execution_count": null,
   "id": "b1587054",
   "metadata": {
    "slideshow": {
     "slide_type": "fragment"
    }
   },
   "outputs": [],
   "source": [
    "x = 6 > 42\n",
    "\n",
    "not x"
   ]
  },
  {
   "attachments": {},
   "cell_type": "markdown",
   "id": "cdc80220",
   "metadata": {
    "slideshow": {
     "slide_type": "subslide"
    }
   },
   "source": [
    "## Short-circuit evaluation\n",
    "\n",
    "**Short-circuit evaluation**, a.k.a. **minimal evaluation** or **McCarthy evaluation**, is the semantics of some Boolean operators in some programming languages in which the second argument is executed or evaluated only if the first argument does not suffice to determine the value of the expression.\n",
    "\n",
    "Reference: [Wiki on Short-circuit evaluation](https://en.wikipedia.org/wiki/Short-circuit_evaluation)."
   ]
  },
  {
   "attachments": {},
   "cell_type": "markdown",
   "id": "60a41064",
   "metadata": {
    "slideshow": {
     "slide_type": "subslide"
    }
   },
   "source": [
    "### Compound `or` expressions\n",
    "\n",
    "- $x_1$ `or` $x_2 \\dots$ `or` $x_{n-1}$ `or` $x_{n}$ evaluates to `True` if any $x_i$ evaluates to `True`. \n",
    "- This is performed by short-circuit evaluation."
   ]
  },
  {
   "cell_type": "code",
   "execution_count": null,
   "id": "986c34a1",
   "metadata": {
    "slideshow": {
     "slide_type": "fragment"
    }
   },
   "outputs": [],
   "source": [
    "x1 = 1 > 2\n",
    "x2 = 10 == 10\n",
    "\n",
    "x1 or x2 or 1 / 0"
   ]
  },
  {
   "cell_type": "code",
   "execution_count": null,
   "id": "5b61f53a",
   "metadata": {
    "slideshow": {
     "slide_type": "fragment"
    }
   },
   "outputs": [],
   "source": [
    "x1 = 1 > 2\n",
    "x2 = 10 != 10\n",
    "\n",
    "x1 or x2 or 1 / 0"
   ]
  },
  {
   "attachments": {},
   "cell_type": "markdown",
   "id": "1d3ee6a8",
   "metadata": {
    "slideshow": {
     "slide_type": "subslide"
    }
   },
   "source": [
    "### Compound `and` expressions\n",
    "\n",
    "- $x_1$ `and` $x_2 \\dots$ `and` $x_{n-1}$ `and` $x_{n}$ evaluates to `True` if all $x_i$s evaluate to `True`. \n",
    "- This is performed by short-circuit evaluation."
   ]
  },
  {
   "cell_type": "code",
   "execution_count": null,
   "id": "bd7aaba4",
   "metadata": {
    "slideshow": {
     "slide_type": "fragment"
    }
   },
   "outputs": [],
   "source": [
    "x1 = 1 > 2\n",
    "x2 = 10 == 10\n",
    "\n",
    "x1 and x2 and 1 / 0"
   ]
  },
  {
   "cell_type": "code",
   "execution_count": null,
   "id": "cc86e4b2",
   "metadata": {
    "slideshow": {
     "slide_type": "fragment"
    }
   },
   "outputs": [],
   "source": [
    "x1 = 11 > 2\n",
    "x2 = 10 == 10\n",
    "\n",
    "x1 and x2 and 1 / 0"
   ]
  },
  {
   "attachments": {},
   "cell_type": "markdown",
   "id": "d785cf26",
   "metadata": {
    "slideshow": {
     "slide_type": "subslide"
    }
   },
   "source": [
    "## Chained comparisons\n",
    "\n",
    "Comparison operators can be chained together, such as `1 < 2 <=3` or `10 > 5 < 8`.\n",
    "\n",
    "The following two expressions result in the same Boolean value.\n",
    "\n",
    "- **Compound:** $x_1 op_1 x_2$ `and` $x_2 op_2 x_3 \\dots$ `and` $x_{n-1} op_n x_n$\n",
    "- **Chained:** $x_1 op_1 x_2 op_2 \\dots x_{n-1} op_n x_n$"
   ]
  },
  {
   "cell_type": "code",
   "execution_count": null,
   "id": "b121c2da",
   "metadata": {
    "slideshow": {
     "slide_type": "subslide"
    }
   },
   "outputs": [],
   "source": [
    "# compound\n",
    "\n",
    "1 < 2 and 2 <= 8 and 8 > 5 and 5 < 7"
   ]
  },
  {
   "cell_type": "code",
   "execution_count": null,
   "id": "adb095b1",
   "metadata": {
    "slideshow": {
     "slide_type": "fragment"
    }
   },
   "outputs": [],
   "source": [
    "# chained\n",
    "\n",
    "1 < 2 <= 8 > 5 < 7"
   ]
  },
  {
   "cell_type": "code",
   "execution_count": null,
   "id": "ba2ab326",
   "metadata": {
    "slideshow": {
     "slide_type": "fragment"
    }
   },
   "outputs": [],
   "source": [
    "# compound\n",
    "\n",
    "1 < 2 and 2 <= 8 and 8 > 5 and 5 < 7 and 7 >= 15"
   ]
  },
  {
   "cell_type": "code",
   "execution_count": null,
   "id": "6fd14962",
   "metadata": {
    "slideshow": {
     "slide_type": "fragment"
    }
   },
   "outputs": [],
   "source": [
    "# chained\n",
    "\n",
    "1 < 2 <= 8 > 5 < 7 >= 15"
   ]
  },
  {
   "attachments": {},
   "cell_type": "markdown",
   "id": "7c8c8d5b",
   "metadata": {},
   "source": [
    "# Control flow\n",
    "\n",
    "**Control flow** is the order in which statements are executed.\n",
    "\n",
    "- `if` statements are conditional statements and allow us to have branching in our programs.\n",
    "- loop statements are iterative statements and allow us to have repetition in our programs."
   ]
  },
  {
   "attachments": {},
   "cell_type": "markdown",
   "id": "d1814420",
   "metadata": {},
   "source": [
    "# `if` statements\n",
    "\n",
    "`if` statement is a way to have conditional statements in programs.\n",
    "\n",
    "```python\n",
    "if <condition>:\n",
    "    <block_of_statements>\n",
    "```\n",
    "\n",
    "- `<condition>` is an expression evaluated in a boolean context. If it evaluates to `True`, `<block_of_statements>` block is executed. Otherwise, it is skipped and nothing happens in this scope.\n",
    "- `<block_of_statements>` is a block that can include one or more statements."
   ]
  },
  {
   "cell_type": "code",
   "execution_count": null,
   "id": "cd50a50d",
   "metadata": {},
   "outputs": [],
   "source": [
    "temperature = -10\n",
    "\n",
    "if temperature < 0:\n",
    "    print(\"It is cold outside\")"
   ]
  },
  {
   "cell_type": "code",
   "execution_count": null,
   "id": "f1860d70",
   "metadata": {},
   "outputs": [],
   "source": [
    "temperature = 5\n",
    "\n",
    "if temperature < 0:\n",
    "    print(\"It is cold outside\")"
   ]
  },
  {
   "attachments": {},
   "cell_type": "markdown",
   "id": "dc238f24",
   "metadata": {},
   "source": [
    "# Indentation and block\n",
    "\n",
    "Block is a group of statements that is defined by its indentation. In Python, indentation is usually defined as 4 whitespaces.\n",
    "\n",
    "```python\n",
    "if <condition>:\n",
    "    <statement_1>\n",
    "    <statement_2>\n",
    "    ...\n",
    "    <statement_n>\n",
    "\n",
    "<statement_n+1>\n",
    "```"
   ]
  },
  {
   "cell_type": "code",
   "execution_count": null,
   "id": "060f3792",
   "metadata": {},
   "outputs": [],
   "source": [
    "temperature = -10\n",
    "is_heater_on = False\n",
    "\n",
    "if temperature < 0:\n",
    "    print(\"It is cold outside\")\n",
    "    print(\"You should dress warmly\")\n",
    "    is_heater_on = True\n",
    "\n",
    "is_heater_on"
   ]
  },
  {
   "cell_type": "code",
   "execution_count": null,
   "id": "08f7b020",
   "metadata": {},
   "outputs": [],
   "source": [
    "temperature = 5\n",
    "is_heater_on = False\n",
    "\n",
    "if temperature < 0:\n",
    "    print(\"It is cold outside\")\n",
    "    print(\"You should dress warmly\")\n",
    "    is_heater_on = True\n",
    "\n",
    "is_heater_on"
   ]
  },
  {
   "attachments": {},
   "cell_type": "markdown",
   "id": "2d481e1b",
   "metadata": {},
   "source": [
    "# `if-else` statements\n",
    "\n",
    "```python\n",
    "if <condition>:\n",
    "    <block_of_statements_1>\n",
    "else:\n",
    "    <block_of_statements_2>\n",
    "```\n",
    "\n",
    "- `<condition>` is an expression evaluated in a boolean context. If it evaluates to `True`, `<block_of_statements_1>` block is executed. Otherwise, `<block_of_statements_2>` block is executed.\n",
    "- `<block_of_statements_1>` and `<block_of_statements_2>` are blocks that can include one or more statements.\n",
    "- Each of these blocks are branches in the flow of execution."
   ]
  },
  {
   "cell_type": "code",
   "execution_count": null,
   "id": "686a1e4e",
   "metadata": {},
   "outputs": [],
   "source": [
    "temperature = -10\n",
    "\n",
    "if temperature < 0:\n",
    "    print(\"It is cold outside\")\n",
    "    print(\"You should dress warmly\")\n",
    "    is_heater_on = True\n",
    "else:\n",
    "    print(\"It is not cold outside\")\n",
    "    print(\"But you should still dress warmly\")\n",
    "    is_heater_on = False\n",
    "\n",
    "is_heater_on"
   ]
  },
  {
   "cell_type": "code",
   "execution_count": null,
   "id": "946f7339",
   "metadata": {},
   "outputs": [],
   "source": [
    "temperature = 5\n",
    "\n",
    "if temperature < 0:\n",
    "    print(\"It is cold outside\")\n",
    "    print(\"You should dress warmly\")\n",
    "    is_heater_on = True\n",
    "else:\n",
    "    print(\"It is not cold outside\")\n",
    "    print(\"But you should still dress warmly\")\n",
    "    is_heater_on = False\n",
    "\n",
    "is_heater_on"
   ]
  },
  {
   "attachments": {},
   "cell_type": "markdown",
   "id": "cbb9e283",
   "metadata": {},
   "source": [
    "# `if-elif-else` statements / chained condionals\n",
    "\n",
    "```python\n",
    "if <condition>:\n",
    "    <block_of_statements_1>\n",
    "elif:\n",
    "    <block_of_statements_2> (optional)\n",
    "elif:\n",
    "    <block_of_statements_3> (optional)\n",
    "...\n",
    "else:\n",
    "    <block_of_statements_n> (optional)\n",
    "```\n",
    "\n",
    "- each `<condition_i>` is an expression evaluated in a boolean context. If a `<condition_i>` evaluates to `True`, `<block_of_statements_i>` block is executed. If none of them is `True` and `else` block is provided, `<block_of_statements_n>` block is executed.\n",
    "- each `<block_of_statements_i>` is a block that can include one or more statements.\n",
    "- Each of these blocks are branches in the flow of execution."
   ]
  },
  {
   "cell_type": "code",
   "execution_count": null,
   "id": "13209ddb",
   "metadata": {},
   "outputs": [],
   "source": [
    "temperature = 0\n",
    "\n",
    "if temperature < 0:\n",
    "    print(\"It is cold outside\")\n",
    "    print(\"You should dress warmly\")\n",
    "    is_heater_on = True\n",
    "elif temperature < 15:\n",
    "    print(\"It is not cold outside\")\n",
    "    print(\"But you should still dress warmly\")\n",
    "    is_heater_on = False\n",
    "elif temperature < 25:\n",
    "    print(\"It is warm outside\")\n",
    "    print(\"You should not dress warmly\")\n",
    "    is_heater_on = False\n",
    "else:\n",
    "    print(\"It is hot outside\")\n",
    "    print(\"You should wear shorts and grab a cold drink\")\n",
    "    is_heater_on = False\n",
    "is_heater_on"
   ]
  },
  {
   "cell_type": "code",
   "execution_count": null,
   "id": "936dfafe",
   "metadata": {},
   "outputs": [],
   "source": [
    "x = int(input(\"Enter a number: \"))\n",
    "\n",
    "if x % 3 == 0:\n",
    "    print(f\"{x} is divisible by 3\")\n",
    "elif x % 4 == 0:\n",
    "    print(f\"{x} is divisible by 4\")\n",
    "elif x % 5 == 0:\n",
    "    print(f\"{x} is divisible by 5\")"
   ]
  },
  {
   "cell_type": "code",
   "execution_count": null,
   "id": "91b20d22",
   "metadata": {},
   "outputs": [],
   "source": [
    "x = int(input(\"Enter a number: \"))\n",
    "\n",
    "if x % 3 == 0:\n",
    "    print(f\"{x} is divisible by 3\")\n",
    "elif x % 4 == 0:\n",
    "    print(f\"{x} is divisible by 4\")\n",
    "elif x % 5 == 0:\n",
    "    print(f\"{x} is divisible by 5\")\n",
    "else:\n",
    "    print(f\"{x} is neither divisible by 3, 4 nor 5\")"
   ]
  }
 ],
 "metadata": {
  "celltoolbar": "Slideshow",
  "kernelspec": {
   "display_name": "Python 3 (ipykernel)",
   "language": "python",
   "name": "python3"
  },
  "language_info": {
   "codemirror_mode": {
    "name": "ipython",
    "version": 3
   },
   "file_extension": ".py",
   "mimetype": "text/x-python",
   "name": "python",
   "nbconvert_exporter": "python",
   "pygments_lexer": "ipython3",
   "version": "3.11.5"
  },
  "vscode": {
   "interpreter": {
    "hash": "916dbcbb3f70747c44a77c7bcd40155683ae19c65e1c03b4aa3499c5328201f1"
   }
  }
 },
 "nbformat": 4,
 "nbformat_minor": 5
}
