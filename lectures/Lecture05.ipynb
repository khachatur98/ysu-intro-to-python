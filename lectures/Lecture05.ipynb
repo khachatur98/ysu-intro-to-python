{
 "cells": [
  {
   "attachments": {},
   "cell_type": "markdown",
   "id": "d6515b7c",
   "metadata": {
    "slideshow": {
     "slide_type": "slide"
    }
   },
   "source": [
    "# Programming with Python\n",
    "\n",
    "## Lecture 05: `while` loop\n",
    "\n",
    "### Khachatur Khechoyan\n",
    "\n",
    "#### Yerevan State University\n",
    "#### Portmind"
   ]
  },
  {
   "attachments": {},
   "cell_type": "markdown",
   "id": "c1dd3968",
   "metadata": {},
   "source": [
    "# `while` loops\n",
    "\n",
    "Loop statements allow programmers to have a repeated execution of statements, which is known as **iteration**.\n",
    "\n",
    "```python\n",
    "while <condition>:\n",
    "    <block_of_statements>\n",
    "```\n",
    "\n",
    "- `<condition>` is an expression evaluated in a boolean context. As long as it evaluates to `True`, `<block_of_statements>` block is executed repeatedly. Otherwise, the loop stops and normal execution continues.\n",
    "- `<block_of_statements>` is a block that can include one or more statements."
   ]
  },
  {
   "cell_type": "code",
   "execution_count": null,
   "id": "cb4758db",
   "metadata": {},
   "outputs": [],
   "source": [
    "i = 0\n",
    "\n",
    "while i < 10:\n",
    "    print(i)\n",
    "    i += 1"
   ]
  },
  {
   "cell_type": "code",
   "execution_count": null,
   "id": "58d12c9a",
   "metadata": {},
   "outputs": [],
   "source": [
    "i = 10\n",
    "\n",
    "while i < 10:\n",
    "    print(i)\n",
    "    i += 1"
   ]
  },
  {
   "attachments": {},
   "cell_type": "markdown",
   "id": "87e23d52",
   "metadata": {},
   "source": [
    "# `break` statement\n",
    "\n",
    "`break` is a control statement that is used to terminate the execution of a loop. When a `break` statement is encountered within a loop, the loop is immediately exited and the program control resumes at the next statement following the loop.\n",
    "\n",
    "```python\n",
    "while <condition>:\n",
    "    <block_of_statements_1>\n",
    "    break\n",
    "    <block_of_statements_2>\n",
    "<block_of_statements_3>\n",
    "```"
   ]
  },
  {
   "attachments": {},
   "cell_type": "markdown",
   "id": "0b9e62cf",
   "metadata": {},
   "source": [
    "- `<condition>` is an expression evaluated in a boolean context. As long as it evaluates to `True`, loop body is executed.\n",
    "- `<block_of_statements_1>`, `<block_of_statements_2>` and `<block_of_statements_3>` are blocks that can include one or more statements.\n",
    "- `<block_of_statements_1>` may be executed while `<block_of_statements_2>` is not because it comes after `break` statement.\n",
    "- After `break` statement, the loop is terminated and `<block_of_statements_3>` continues the program execution."
   ]
  },
  {
   "cell_type": "code",
   "execution_count": null,
   "id": "9c861a39",
   "metadata": {},
   "outputs": [],
   "source": [
    "i = 0\n",
    "\n",
    "while i < 10:\n",
    "    if i == 5:\n",
    "        break\n",
    "\n",
    "    print(i)\n",
    "    i += 1\n",
    "\n",
    "print(f\"While loop ended: i = {i}\")"
   ]
  },
  {
   "attachments": {},
   "cell_type": "markdown",
   "id": "dd31b8f4",
   "metadata": {},
   "source": [
    "# `continue` statement\n",
    "\n",
    "`continue` is a control statement that is used to skip the current iteration of a loop and move on to the next iteration. When a `continue` statement is encountered within a loop, the current iteration of the loop is terminated and the loop immediately starts the next iteration.\n",
    "\n",
    "```python\n",
    "while <condition>:\n",
    "    <block_of_statements_1>\n",
    "    continue\n",
    "    <block_of_statements_2>\n",
    "<block_of_statements_3>\n",
    "```"
   ]
  },
  {
   "attachments": {},
   "cell_type": "markdown",
   "id": "4c905da5",
   "metadata": {},
   "source": [
    "- `<condition>` is an expression evaluated in a boolean context. As long as it evaluates to `True`, loop body is executed.\n",
    "- `<block_of_statements_1>`, `<block_of_statements_2>` and `<block_of_statements_3>` are blocks that can include one or more statements.\n",
    "- `<block_of_statements_1>` is executed while`<block_of_statements_2>` is not because it comes after `continue` statement.\n",
    "- After `continue` statement, the loop proceeds with the next loop iteration."
   ]
  },
  {
   "cell_type": "code",
   "execution_count": null,
   "id": "4b91c960",
   "metadata": {},
   "outputs": [],
   "source": [
    "i = 0\n",
    "\n",
    "while i < 10:\n",
    "    i += 1\n",
    "\n",
    "    if i % 2 == 0:\n",
    "        continue\n",
    "\n",
    "    print(i)\n",
    "\n",
    "print(f\"While loop ended: i = {i}\")"
   ]
  },
  {
   "attachments": {},
   "cell_type": "markdown",
   "id": "33d549c6",
   "metadata": {},
   "source": [
    "# `while-else` statement\n",
    "\n",
    "```python\n",
    "while <condition>:\n",
    "    <block_of_statements_1>\n",
    "else:\n",
    "    <block_of_statements_2>\n",
    "```\n",
    "\n",
    "- `<condition>` is an expression evaluated in a boolean context. As long as it evaluates to `True`, loop body, i.e. `<block_of_statements_1>`, is executed.\n",
    "- `<block_of_statements_1>` and `<block_of_statements_2>` are blocks that can include one or more statements.\n",
    "- `<block_of_statements_2>` is executed only if the loop terminates by exhaustation, i.e. the loop is executed until `<condition>` evaluates to `False`."
   ]
  },
  {
   "cell_type": "code",
   "execution_count": null,
   "id": "fb3a5ba4",
   "metadata": {},
   "outputs": [],
   "source": [
    "i = 0\n",
    "\n",
    "while i < 10:\n",
    "    print(i)\n",
    "    i += 1\n",
    "print(\"While loop ended\")"
   ]
  },
  {
   "cell_type": "code",
   "execution_count": null,
   "id": "c033a726",
   "metadata": {},
   "outputs": [],
   "source": [
    "i = 0\n",
    "\n",
    "while i < 10:\n",
    "    if i == 5:\n",
    "        break\n",
    "    print(i)\n",
    "    i += 1\n",
    "print(\"While loop ended\")"
   ]
  },
  {
   "cell_type": "code",
   "execution_count": null,
   "id": "040c5bcb",
   "metadata": {},
   "outputs": [],
   "source": [
    "i = 0\n",
    "\n",
    "while i < 10:\n",
    "    print(i)\n",
    "    i += 1\n",
    "else:\n",
    "    print(\"While loop ended\")"
   ]
  },
  {
   "cell_type": "code",
   "execution_count": null,
   "id": "eba8e48c",
   "metadata": {},
   "outputs": [],
   "source": [
    "i = 0\n",
    "\n",
    "while i < 10:\n",
    "    if i == 5:\n",
    "        break\n",
    "    print(i)\n",
    "    i += 1\n",
    "else:\n",
    "    print(\"While loop ended\")"
   ]
  },
  {
   "attachments": {},
   "cell_type": "markdown",
   "id": "356cb3a5",
   "metadata": {},
   "source": [
    "# Nested `while` statements\n",
    "\n",
    "```python\n",
    "while <condition_1>:\n",
    "    <block_of_statements_1>\n",
    "\n",
    "    while <condition_2>:\n",
    "        <block_of_statements_2>\n",
    "```\n",
    "\n",
    "- `<condition_1>` and `<condition_2>` are expressions evaluated in a boolean context.\n",
    "- `<block_of_statements_1>` and `<block_of_statements_2>` are blocks that can include one or more statements.\n",
    "- The body of outer loop, including the inner loop, is executed as long as `<condition_1>` evaluates to `True`.\n",
    "- The body of inner loop is executed as long as `<condition_2>` evaluates to `True`."
   ]
  },
  {
   "cell_type": "code",
   "execution_count": null,
   "id": "a52ed201",
   "metadata": {},
   "outputs": [],
   "source": [
    "i = 0\n",
    "while i < 5:\n",
    "    j = 0\n",
    "    while j < 10:\n",
    "        print(f\"({i}, {j})\")\n",
    "        j += 1\n",
    "    i += 1"
   ]
  },
  {
   "cell_type": "code",
   "execution_count": null,
   "id": "75ae8427",
   "metadata": {},
   "outputs": [],
   "source": [
    "i = 0\n",
    "while i < 5:\n",
    "    j = 0\n",
    "    while j < 10:\n",
    "        k = 0\n",
    "        while k < 3:\n",
    "            print(f\"({i}, {j}, {k})\")\n",
    "            k += 1\n",
    "        j += 1\n",
    "    i += 1"
   ]
  },
  {
   "attachments": {},
   "cell_type": "markdown",
   "id": "a006ea0b",
   "metadata": {},
   "source": [
    "## `break` from nested loops\n",
    "\n",
    "A `break` statement applies to the nearest enclosing loop."
   ]
  },
  {
   "cell_type": "code",
   "execution_count": null,
   "id": "1198f5e7",
   "metadata": {},
   "outputs": [],
   "source": [
    "i = 0\n",
    "while i < 5:\n",
    "    j = 0\n",
    "    while j < 10:\n",
    "        print(f\"({i}, {j})\")\n",
    "        j += 1\n",
    "        if j == 2:\n",
    "            break\n",
    "    i += 1"
   ]
  },
  {
   "cell_type": "code",
   "execution_count": null,
   "id": "85bb4676",
   "metadata": {},
   "outputs": [],
   "source": [
    "i = 0\n",
    "while i < 5:\n",
    "    j = 0\n",
    "    while j < 10:\n",
    "        print(f\"({i}, {j})\")\n",
    "        j += 1\n",
    "        if j == 2:\n",
    "            break\n",
    "    i += 1\n",
    "    if i == 3:\n",
    "        break"
   ]
  },
  {
   "attachments": {},
   "cell_type": "markdown",
   "id": "ba5c69fd",
   "metadata": {},
   "source": [
    "# One-line `while` statements\n",
    "\n",
    "```python\n",
    "while <condition>: <statement_1>; <statement_2>; ...\n",
    "```\n",
    "\n",
    "- `<condition>` is an expression evaluated in a boolean context.\n",
    "- `<statement_1>`, `<statement_2>`, ... are several statements.\n",
    "- As long as `<condition>` evaluates to `True`, `<statement_1>`, `<statement_2>`, ... are executed.\n",
    "\n",
    "**Note:** This is not a recommended construct."
   ]
  },
  {
   "cell_type": "code",
   "execution_count": null,
   "id": "1a4a8cb3",
   "metadata": {},
   "outputs": [],
   "source": [
    "# Not recommended\n",
    "\n",
    "i = 10\n",
    "\n",
    "while i > 0: print(i); i -= 1"
   ]
  },
  {
   "attachments": {},
   "cell_type": "markdown",
   "id": "5b2860b4",
   "metadata": {},
   "source": [
    "# Infinite loops\n",
    "\n",
    "- Infinite loops are such loops where the condition always evaluates to `True` and the loop can theoretically execute forever.\n",
    "- Sometimes infinite loops useful for running programs that need to wait for an event almost forever, such as web server waiting for a request.\n",
    "- Usually, infinite loops have some termination conditions implemented via `break` statements."
   ]
  },
  {
   "cell_type": "code",
   "execution_count": null,
   "id": "c65da1e7",
   "metadata": {},
   "outputs": [],
   "source": [
    "while True:\n",
    "    print(\"Hello world\")"
   ]
  },
  {
   "cell_type": "code",
   "execution_count": null,
   "id": "8d72db4c",
   "metadata": {},
   "outputs": [],
   "source": [
    "i = 1\n",
    "\n",
    "while True:\n",
    "    print(i)\n",
    "    i += 1"
   ]
  },
  {
   "cell_type": "code",
   "execution_count": null,
   "id": "35f11aa5",
   "metadata": {},
   "outputs": [],
   "source": [
    "i = 1\n",
    "\n",
    "while True:\n",
    "    print(i)\n",
    "    i += 1\n",
    "    if i == 10:\n",
    "        break"
   ]
  },
  {
   "cell_type": "code",
   "execution_count": null,
   "id": "e21bd8a8",
   "metadata": {},
   "outputs": [],
   "source": [
    "i = 1\n",
    "\n",
    "while True:\n",
    "    print(i)\n",
    "    i += 1\n",
    "    if i == 10:\n",
    "        break\n",
    "    i **= 2\n",
    "    if i > 10:\n",
    "        print(i)\n",
    "        break"
   ]
  },
  {
   "attachments": {},
   "cell_type": "markdown",
   "id": "6034e322",
   "metadata": {},
   "source": [
    "# Examples"
   ]
  },
  {
   "attachments": {},
   "cell_type": "markdown",
   "id": "19b377d1",
   "metadata": {},
   "source": [
    "## Sum of series $\\frac{1}{n^2}$"
   ]
  },
  {
   "cell_type": "code",
   "execution_count": null,
   "id": "e6335e7e",
   "metadata": {},
   "outputs": [],
   "source": [
    "n = int(input(\"Enter a number: \"))\n",
    "\n",
    "sum = 0\n",
    "i = 1\n",
    "while i <= n:\n",
    "    sum += 1/i**2\n",
    "    i += 1\n",
    "\n",
    "print(f\"Sum = {sum}\")"
   ]
  },
  {
   "cell_type": "code",
   "execution_count": null,
   "id": "541a8c42",
   "metadata": {},
   "outputs": [],
   "source": [
    "import math\n",
    "print(math.pi**2/6)"
   ]
  },
  {
   "attachments": {},
   "cell_type": "markdown",
   "id": "070c5bcf",
   "metadata": {},
   "source": [
    "## Sum of series $\\frac{1}{2^n}$"
   ]
  },
  {
   "cell_type": "code",
   "execution_count": null,
   "id": "65b4c21e",
   "metadata": {},
   "outputs": [],
   "source": [
    "# Your code here"
   ]
  },
  {
   "attachments": {},
   "cell_type": "markdown",
   "id": "f1fde21a",
   "metadata": {},
   "source": [
    "## Using infinite loops to get desired answers"
   ]
  },
  {
   "cell_type": "code",
   "execution_count": null,
   "id": "40eccb41",
   "metadata": {},
   "outputs": [],
   "source": [
    "while True:\n",
    "    n = int(input(\"Enter a non-negative number: \"))\n",
    "    \n",
    "    if n >= 0:\n",
    "        break\n",
    "    \n",
    "    print(\"The number you entered is not non-negative\")\n",
    "    \n",
    "n"
   ]
  }
 ],
 "metadata": {
  "celltoolbar": "Slideshow",
  "kernelspec": {
   "display_name": "Python 3 (ipykernel)",
   "language": "python",
   "name": "python3"
  },
  "language_info": {
   "codemirror_mode": {
    "name": "ipython",
    "version": 3
   },
   "file_extension": ".py",
   "mimetype": "text/x-python",
   "name": "python",
   "nbconvert_exporter": "python",
   "pygments_lexer": "ipython3",
   "version": "3.11.5"
  },
  "vscode": {
   "interpreter": {
    "hash": "916dbcbb3f70747c44a77c7bcd40155683ae19c65e1c03b4aa3499c5328201f1"
   }
  }
 },
 "nbformat": 4,
 "nbformat_minor": 5
}
