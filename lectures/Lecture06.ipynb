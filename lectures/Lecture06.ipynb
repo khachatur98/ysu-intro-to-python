{
 "cells": [
  {
   "cell_type": "markdown",
   "metadata": {},
   "source": [
    "# Programming with Python\n",
    "\n",
    "## Lecture 06: `while` loops\n",
    "\n",
    "### Khachatur Khechoyan\n",
    "\n",
    "#### Yerevan State University\n",
    "#### Portmind"
   ]
  },
  {
   "cell_type": "markdown",
   "metadata": {},
   "source": [
    "# Homework 02 review\n",
    "\n",
    "### General feedback\n",
    "\n",
    "- **No late homeworks.** A penalty of 10 points is applied for each day.\n",
    "- **No plagiarism.** Collaboration is encouraged, but copying someone else's work without proper attribution is not admitted and invalidates the submission. A penalty is applied to all parties included.\n",
    "- Don't forget to include your name in the files as a comment.\n",
    "- **Only .py files are accepted.**\n",
    "- Always **check your code before submitting**. `python {filename}.py` should run without errors.\n",
    "- Use only materials **covered in the lectures**. If you want to use something else, please ask first.\n",
    "- Use `input()` to get input from the user, don't hardcode values, unless explicitly asked."
   ]
  },
  {
   "cell_type": "markdown",
   "metadata": {},
   "source": [
    "# Problem solving session"
   ]
  },
  {
   "cell_type": "markdown",
   "metadata": {},
   "source": [
    "## Problem 1 - Factorial\n",
    "\n",
    "Write a program that calculates the factorial of a given number by **user**.\n",
    "\n",
    "Hints:\n",
    "- Use `input()` to get the number from the user.\n",
    "- Check if the input is a positive integer.\n",
    "- Use a variable to store the result.\n",
    "- Use a `while` loop to calculate the factorial.\n"
   ]
  },
  {
   "cell_type": "code",
   "execution_count": null,
   "metadata": {},
   "outputs": [],
   "source": []
  },
  {
   "cell_type": "markdown",
   "metadata": {},
   "source": [
    "## Problem 2\n",
    "\n",
    "Write a Python program that takes a positive integer as an input and checks if the number is prime or composite.\n",
    "\n",
    "Hints:\n",
    "- Use `input()` to get the number from the user.\n",
    "- Check if the input is a positive integer.\n",
    "- What is a prime number? What is a composite number? Use the definitions.\n",
    "- Use a variable to store the result.\n",
    "- Use a `while` loop to calculate the factorial."
   ]
  },
  {
   "cell_type": "code",
   "execution_count": null,
   "metadata": {},
   "outputs": [],
   "source": []
  },
  {
   "cell_type": "markdown",
   "metadata": {},
   "source": [
    "## Problem 3\n",
    "\n",
    "Write a Python program that takes a number as an input and outputs the sum of all the digits in the number.\n",
    "For example, if the number is 1234, the output should be 10.\n",
    "\n",
    "Hints:\n",
    "- How to get the last digit of a number?\n",
    "- How to remove the last digit of a number?"
   ]
  },
  {
   "cell_type": "code",
   "execution_count": null,
   "metadata": {},
   "outputs": [],
   "source": []
  },
  {
   "cell_type": "markdown",
   "metadata": {},
   "source": [
    "## Problem 4\n",
    "\n",
    "Write a Python program that takes a positive integer as an input and checks if the number is palindrome or not.\n",
    "\n",
    "Hints:\n",
    "- How to reverse a number?"
   ]
  },
  {
   "cell_type": "code",
   "execution_count": null,
   "metadata": {},
   "outputs": [],
   "source": []
  },
  {
   "cell_type": "markdown",
   "metadata": {},
   "source": [
    "## Problem 5\n",
    "\n",
    "Write a Python guessing game program where the user has to guess a randomly generated number between $1$ and $100$. The program will give hints after each guess whether the guess is higher or lower than the actual number.\n"
   ]
  },
  {
   "cell_type": "code",
   "execution_count": null,
   "metadata": {},
   "outputs": [],
   "source": []
  },
  {
   "cell_type": "markdown",
   "metadata": {},
   "source": [
    "## Problem 6.\n",
    "The value of $\\pi$ can be approximated by the following formula:\n",
    "\n",
    "$$\\pi = \\sqrt{6 \\times (1 + \\frac{1}{4} + \\frac{1}{9} + \\frac{1}{16} + \\dots + \\frac{1}{n ^ 2})}$$\n",
    "\n",
    "Write a Python program that takes a positive integer $n$ as an input and approximates the value of $\\pi$.\n"
   ]
  },
  {
   "cell_type": "code",
   "execution_count": null,
   "metadata": {},
   "outputs": [],
   "source": []
  },
  {
   "cell_type": "markdown",
   "metadata": {},
   "source": []
  }
 ],
 "metadata": {
  "language_info": {
   "name": "python"
  },
  "orig_nbformat": 4
 },
 "nbformat": 4,
 "nbformat_minor": 2
}
