{
 "cells": [
  {
   "cell_type": "markdown",
   "metadata": {},
   "source": [
    "# Programming with Python\n",
    "\n",
    "## Lecture 15: File I/O\n",
    "\n",
    "### Khachatur Khechoyan\n",
    "\n",
    "#### Yerevan State University\n",
    "#### Portmind"
   ]
  },
  {
   "cell_type": "markdown",
   "metadata": {},
   "source": [
    "# `os.path` module\n",
    "\n",
    "The `os.path` module in Python provides functions for working with file paths and manipulating path-related strings.\n",
    "\n",
    "- `os.path.join(path, *paths)`: This function joins one or more path components intelligently. It concatenates the specified paths using the appropriate path separator for the underlying operating system.\n",
    "- `os.path.abspath(path)`: This function returns the absolute version of a path. It resolves any symbolic links and references to parent directories ('..' and '.').\n",
    "\n",
    "For more information, see https://docs.python.org/3/library/os.path.html"
   ]
  },
  {
   "cell_type": "markdown",
   "metadata": {},
   "source": [
    "## `os.path.join(path, *paths)`"
   ]
  },
  {
   "cell_type": "code",
   "execution_count": null,
   "metadata": {},
   "outputs": [],
   "source": [
    "import os\n",
    "\n",
    "sample_input_path = os.path.join(\"resources\", \"lecture29\", \"sample_input.txt\")\n",
    "sample_input_path"
   ]
  },
  {
   "cell_type": "code",
   "execution_count": null,
   "metadata": {},
   "outputs": [],
   "source": [
    "import os\n",
    "\n",
    "resources_path = os.path.join(\"resources\")\n",
    "lecture_29_path = os.path.join(resources_path, \"lecture29\")\n",
    "\n",
    "sample_input_path = os.path.join(lecture_29_path, \"sample_input.txt\")\n",
    "sample_input_path"
   ]
  },
  {
   "cell_type": "markdown",
   "metadata": {},
   "source": [
    "## `os.path.abspath(path)`"
   ]
  },
  {
   "cell_type": "code",
   "execution_count": null,
   "metadata": {},
   "outputs": [],
   "source": [
    "import os\n",
    "\n",
    "os.path.abspath(\"resources\")"
   ]
  },
  {
   "cell_type": "code",
   "execution_count": null,
   "metadata": {},
   "outputs": [],
   "source": [
    "os.path.abspath(sample_input_path)"
   ]
  },
  {
   "cell_type": "markdown",
   "metadata": {},
   "source": [
    "# `pathlib` module\n",
    "\n",
    "The `pathlib` module in Python provides an object-oriented approach to working with file system paths. It was introduced in Python 3.4 and offers a more intuitive and expressive way to manipulate paths compared to the traditional string-based path operations.\n",
    "\n",
    "The `pathlib` module provides the `Path` class, which represents a file or directory path. Nevertheless, `os.path` module is still widely used."
   ]
  },
  {
   "cell_type": "code",
   "execution_count": null,
   "metadata": {},
   "outputs": [],
   "source": [
    "from pathlib import Path\n",
    "\n",
    "resources_path = Path(\"resources\")\n",
    "lecture_29_path = resources_path / \"lecture29\"\n",
    "\n",
    "sample_input_path = lecture_29_path / \"sample_input.txt\"\n",
    "sample_input_path"
   ]
  },
  {
   "cell_type": "markdown",
   "metadata": {},
   "source": [
    "# Write to a file\n",
    "\n",
    "There are several methods you can use to write to a file in Python. Here are some common approaches:\n",
    "\n",
    "- `.write(string)` method\n",
    "- `.writelines(seq)` method"
   ]
  },
  {
   "cell_type": "markdown",
   "metadata": {},
   "source": [
    "# `.write(string)` method\n",
    "\n",
    "This method writes the provided string to a file."
   ]
  },
  {
   "cell_type": "code",
   "execution_count": null,
   "metadata": {},
   "outputs": [],
   "source": [
    "output_path = lecture_29_path / \"output.txt\""
   ]
  },
  {
   "cell_type": "code",
   "execution_count": null,
   "metadata": {},
   "outputs": [],
   "source": [
    "with open(output_path, \"w\") as fp:\n",
    "    fp.write(\"Hello world!\\n\")"
   ]
  },
  {
   "cell_type": "code",
   "execution_count": null,
   "metadata": {},
   "outputs": [],
   "source": [
    "with open(output_path, \"w\") as fp:\n",
    "    fp.write(\"We are learning Python!\\n\")"
   ]
  },
  {
   "cell_type": "markdown",
   "metadata": {},
   "source": [
    "# `.writelines(seq)` method\n",
    "\n",
    "This method writes the provided sequence to a file."
   ]
  },
  {
   "cell_type": "code",
   "execution_count": null,
   "metadata": {},
   "outputs": [],
   "source": [
    "lorem_ipsum = [\n",
    "    \"Lorem ipsum dolor sit amet, consectetur adipiscing elit.\\n\",\n",
    "    \"Mauris orci magna, ullamcorper eget accumsan ut, varius et justo.\\n\",\n",
    "    \"Duis ultricies eleifend magna sagittis finibus.\\n\",\n",
    "]\n",
    "\n",
    "with open(output_path, \"w\") as fp:\n",
    "    fp.writelines(lorem_ipsum)"
   ]
  },
  {
   "cell_type": "markdown",
   "metadata": {},
   "source": [
    "## Problem solving"
   ]
  },
  {
   "cell_type": "markdown",
   "metadata": {},
   "source": [
    "Top 10000 most frequent English words https://github.com/first20hours/google-10000-english/blob/master/google-10000-english.txt"
   ]
  },
  {
   "cell_type": "markdown",
   "metadata": {},
   "source": [
    "Cypher text that we need to decrypt https://github.com/JasnaMRB/Caesar-Cipher/blob/master/story.txt"
   ]
  },
  {
   "cell_type": "markdown",
   "metadata": {},
   "source": [
    "In this problem we will decypher a text file that was encrypted using a simple substitution cipher (Cesar cipher).\n",
    "We will solve this problem in two steps:\n",
    "1. We will generate a key for the cipher using brute force.\n",
    "2. We will use the key to decrypt the text, and see we get english words."
   ]
  },
  {
   "cell_type": "code",
   "execution_count": null,
   "metadata": {},
   "outputs": [],
   "source": [
    "def shift_elements(input_list, shift):\n",
    "    d = {}\n",
    "    for i in range(len(input_list)):\n",
    "        d[input_list[i]] = input_list[(i+shift) % len(input_list)]\n",
    "    return d\n",
    "\n",
    "shift_elements(['a', 'b', 'c', 'd'], 0)"
   ]
  },
  {
   "cell_type": "code",
   "execution_count": null,
   "metadata": {},
   "outputs": [],
   "source": [
    "def substitution_cipher(message, substitution):\n",
    "    a = \"\"\n",
    "    for letter in message:\n",
    "        sub = substitution.get(letter.lower(), letter)\n",
    "        if letter.isupper():\n",
    "            sub = sub.upper()\n",
    "        a += sub\n",
    "    return a"
   ]
  },
  {
   "cell_type": "code",
   "execution_count": null,
   "metadata": {},
   "outputs": [],
   "source": [
    "import string\n",
    "characters = string.ascii_lowercase\n",
    "\n",
    "substitution = shift_elements(characters, 3)\n"
   ]
  },
  {
   "cell_type": "code",
   "execution_count": null,
   "metadata": {},
   "outputs": [],
   "source": [
    "def find_substitution(story, words):\n",
    "    # This function will find the most likely substitution\n",
    "    pass"
   ]
  },
  {
   "cell_type": "code",
   "execution_count": null,
   "metadata": {},
   "outputs": [],
   "source": []
  }
 ],
 "metadata": {
  "kernelspec": {
   "display_name": ".py312",
   "language": "python",
   "name": "python3"
  },
  "language_info": {
   "codemirror_mode": {
    "name": "ipython",
    "version": 3
   },
   "file_extension": ".py",
   "mimetype": "text/x-python",
   "name": "python",
   "nbconvert_exporter": "python",
   "pygments_lexer": "ipython3",
   "version": "3.9.6"
  }
 },
 "nbformat": 4,
 "nbformat_minor": 2
}
