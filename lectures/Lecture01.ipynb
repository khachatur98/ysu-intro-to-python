{
 "cells": [
  {
   "attachments": {},
   "cell_type": "markdown",
   "id": "d6515b7c",
   "metadata": {
    "slideshow": {
     "slide_type": "slide"
    }
   },
   "source": [
    "# Programming with Python\n",
    "\n",
    "## Lecture 01: Introduction to Python, data types, variables and operators\n",
    "\n",
    "#### Khachatur Khechoyan\n",
    "#### Yerevan State University\n",
    "#### Portmind"
   ]
  },
  {
   "attachments": {},
   "cell_type": "markdown",
   "id": "56de312b",
   "metadata": {
    "slideshow": {
     "slide_type": "slide"
    }
   },
   "source": [
    "# Differences of programming languages\n",
    "\n",
    "- **Low-level vs. high-level**\n",
    "\n",
    "The distinction refers to whether instructions and data objects are programmed at the machine's level or abstract operations.\n",
    "\n",
    "- **General-purpose vs. domain-specific**\n",
    "\n",
    "The difference between whether the basic operations of the language are widely usable or are specialized for a specific field.\n",
    "\n",
    "- **Interpreted vs. compiled**\n",
    "\n",
    "The difference refers to whether the programmer's sequence of instructions, known as source code, is executed directly by an interpreter or first transformed by a compiler into a series of low-level machine operations. Both methods have their benefits. It is often easier to troubleshoot programs written in interpreted languages. Compiled languages typically generate programs that run faster and use less memory."
   ]
  },
  {
   "attachments": {},
   "cell_type": "markdown",
   "id": "35de3854",
   "metadata": {
    "slideshow": {
     "slide_type": "slide"
    }
   },
   "source": [
    "# Introduction to Python\n",
    "\n",
    "- High-level, general-purpose programming language.\n",
    "- Designed by Guido van Rossum\n",
    "- First appeared in 1991\n",
    "- Python 2.0 was released in 2000 and deprecated in 2020\n",
    "- Python 3.0 was released in 2008, which was not backward compatible with Python 2\n",
    "\n",
    "For more information on the status of Python version, please go to [this page](https://devguide.python.org/versions/)."
   ]
  },
  {
   "attachments": {},
   "cell_type": "markdown",
   "id": "cba2ab3c",
   "metadata": {
    "slideshow": {
     "slide_type": "slide"
    }
   },
   "source": [
    "# Python applications\n",
    "\n",
    "- Web development\n",
    "- Scientific and numeric computing\n",
    "- Data analysis and visualization\n",
    "- Machine Learning and Artificial Intelligence\n",
    "- Desktop GUI applications\n",
    "- Automation\n",
    "- Network programming\n",
    "- Gaming"
   ]
  },
  {
   "attachments": {},
   "cell_type": "markdown",
   "id": "afb40135",
   "metadata": {
    "slideshow": {
     "slide_type": "slide"
    }
   },
   "source": [
    "# Install Python\n",
    "\n",
    "### Linux\n",
    "\n",
    "```sh\n",
    "$ sudo apt-get update\n",
    "$ sudo apt-get install python3.11\n",
    "```\n",
    "\n",
    "For more information go to [Downloads](https://www.python.org/downloads/) page on the official Python website.\n",
    "\n",
    "### MacOS and Windows\n",
    "\n",
    "Go to [Downloads](https://www.python.org/downloads/) page on the official Python website and follow \"Download\" instructions.\n"
   ]
  },
  {
   "attachments": {},
   "cell_type": "markdown",
   "id": "ea02c190",
   "metadata": {
    "slideshow": {
     "slide_type": "slide"
    }
   },
   "source": [
    "# \"Hello world\" program\n",
    "\n",
    "1. Open terminal on your operating system.\n",
    "2. Run `python3` to open Python interactive shell (Read-eval-print-loop, i.e. REPL).\n",
    "3. Write the following instruction and hit \"Enter\".\n",
    "\n",
    "```python\n",
    "print('Hello world!')\n",
    "```"
   ]
  },
  {
   "attachments": {},
   "cell_type": "markdown",
   "id": "b6c113c8",
   "metadata": {
    "slideshow": {
     "slide_type": "slide"
    }
   },
   "source": [
    "# python hello.py\n",
    "\n",
    "1. Create a file called `hello.py`.\n",
    "2. Open it in your favorite text editor or IDE.\n",
    "3. Write `print('Hello world!')` to the file.\n",
    "4. Run `python3 hello.py`."
   ]
  },
  {
   "attachments": {},
   "cell_type": "markdown",
   "id": "3ffebf4e",
   "metadata": {
    "slideshow": {
     "slide_type": "slide"
    }
   },
   "source": [
    "# Jupyter\n",
    "\n",
    "Jupyter projects (Jupyter Notebook, JupyterLab, etc.) are web-based interactive development environment (IDE) for writing and sharing code.\n",
    "\n",
    "- **Local development environment:** Please follow the instructions on [Installing Jupyter](https://jupyter.org/install)\n",
    "- **Online**: [Google Colab](https://colab.research.google.com/)\n",
    "\n",
    "1. Insert a code cell.\n",
    "2. Write `print('Hello world!')`.\n",
    "3. Run the code cell."
   ]
  },
  {
   "attachments": {},
   "cell_type": "markdown",
   "id": "912d55cd",
   "metadata": {
    "slideshow": {
     "slide_type": "slide"
    }
   },
   "source": [
    "# Interactive development environments and text editors\n",
    "\n",
    "An Integrated Development Environment (IDE) is a software application that provides a comprehensive environment for software development, including a source code editor, build automation tools, and a debugger, to increase developer productivity.\n",
    "\n",
    "- [Visual Studio Code](https://code.visualstudio.com/)\n",
    "- [PyCharm](https://www.jetbrains.com/pycharm/)\n",
    "- [vim](https://www.vim.org/) and [neovim](https://neovim.io/)\n",
    "- Online IDE on [Replit](https://replit.com/)"
   ]
  },
  {
   "attachments": {},
   "cell_type": "markdown",
   "id": "747c6f7a",
   "metadata": {
    "slideshow": {
     "slide_type": "slide"
    }
   },
   "source": [
    "# Improving the \"Hello World\" program\n",
    "\n",
    "- We would like to get an input from the user.\n",
    "- This can be done via `input` function that takes a prompt as an argument.\n",
    "- Also, we can use a variable to store data into a container.\n",
    "\n",
    "```python\n",
    "name = input('What is your name? ')\n",
    "print('Hello', name)\n",
    "```"
   ]
  },
  {
   "attachments": {},
   "cell_type": "markdown",
   "id": "a1b98bf6",
   "metadata": {
    "slideshow": {
     "slide_type": "slide"
    }
   },
   "source": [
    "# Comments\n",
    "\n",
    "Comments are text that are ignored by Python. They can help you write free-form text in your code or document your code.\n",
    "\n",
    "- Single line comments\n",
    "\n",
    "```python\n",
    "# This is just a comment.\n",
    "```\n",
    "\n",
    "```python\n",
    "# This is just\n",
    "# a comment.\n",
    "```\n",
    "\n",
    "- Multi-line comments\n",
    "\n",
    "\n",
    "```python\n",
    "\"\"\"\n",
    "This is just a comment.\n",
    "\"\"\"\n",
    "```\n",
    "\n",
    "\n",
    "```python\n",
    "\"\"\"\n",
    "This is just\n",
    "a comment.\n",
    "\"\"\"\n",
    "```"
   ]
  },
  {
   "attachments": {},
   "cell_type": "markdown",
   "id": "1fc80cbe",
   "metadata": {
    "slideshow": {
     "slide_type": "slide"
    }
   },
   "source": [
    "# Variables\n",
    "\n",
    "A variable is a container for storing a value in your program.\n",
    "\n",
    "A value is given to a variable by assignment operator `=`.\n",
    "\n",
    "```python\n",
    "x = 123\n",
    "\n",
    "print(x)\n",
    "```\n",
    "\n",
    "Later it can be changed to another value.\n",
    "\n",
    "```python\n",
    "x = 456\n",
    "\n",
    "print(x)\n",
    "```\n",
    "\n",
    "Chained assignment is also available.\n",
    "\n",
    "```python\n",
    "x = y = z = 'Hello World'\n",
    "\n",
    "print(x, y, z)\n",
    "```"
   ]
  },
  {
   "attachments": {},
   "cell_type": "markdown",
   "id": "f4db13b4",
   "metadata": {
    "slideshow": {
     "slide_type": "slide"
    }
   },
   "source": [
    "# Variable names\n",
    "\n",
    "Variable names should follow the following rules:\n",
    "- They can consist of\n",
    "    - Uppercase and lowercase letters (A-Z, a-z)\n",
    "    - Digits (0-9)\n",
    "    - The underscore character (_)\n",
    "- Cannot start with a number\n",
    "- Cannot be a Python keyword"
   ]
  },
  {
   "attachments": {},
   "cell_type": "markdown",
   "id": "fcb7f75e",
   "metadata": {
    "slideshow": {
     "slide_type": "subslide"
    }
   },
   "source": [
    "**Valid examples**\n",
    "\n",
    "- `abc`\n",
    "- `x1`\n",
    "- `_y1`\n",
    "\n",
    "**Invalid examples**\n",
    "\n",
    "- `a b`\n",
    "- `1x`\n",
    "- `if`"
   ]
  },
  {
   "attachments": {},
   "cell_type": "markdown",
   "id": "0f989869",
   "metadata": {
    "slideshow": {
     "slide_type": "slide"
    }
   },
   "source": [
    "# Python keywords\n",
    "\n",
    "In Python, keywords are reserved words with specific meanings and functionality that cannot be used for any other purpose besides what they have been defined for.\n",
    "\n",
    "The following keywords are available in Python:\n",
    "\n",
    "`False`, `None`, `True`, `and`, `as`, `assert`, `async`, `await`, `break`, `class`, `continue`, `def`, `del`, `elif`, `else`, `except`, `finally`, `for`, `from`, `global`, `if`, `import`, `in`, `is`, `lambda`, `nonlocal`, `not`, `or`, `pass`, `raise`, `return`, `try`, `while`, `with`, `yield`"
   ]
  },
  {
   "cell_type": "code",
   "execution_count": null,
   "id": "d586aa22",
   "metadata": {
    "slideshow": {
     "slide_type": "subslide"
    }
   },
   "outputs": [],
   "source": [
    "import keyword\n",
    "\n",
    "keyword.kwlist"
   ]
  },
  {
   "attachments": {},
   "cell_type": "markdown",
   "id": "40b89371",
   "metadata": {
    "slideshow": {
     "slide_type": "slide"
    }
   },
   "source": [
    "# Data types\n",
    "\n",
    "1. Numeric types: `int`, `float`, `complex`\n",
    "2. Text type: `str`\n",
    "3. Boolean type: `bool`\n",
    "4. None type: `NoneType`\n",
    "5. Sequence types: `list`, `tuple`, `range`\n",
    "6. Set types: `set`, `frozenset`\n",
    "7. Mapping type: `dict`\n",
    "8. Binary types: `bytes`, `bytearray`, `memoryview`"
   ]
  },
  {
   "attachments": {},
   "cell_type": "markdown",
   "id": "89b03ba7",
   "metadata": {
    "slideshow": {
     "slide_type": "slide"
    }
   },
   "source": [
    "# type() function\n",
    "\n",
    "In Python, `type()` is a built-in function that returns the type of a provided parameter.\n",
    "\n",
    "```python\n",
    "print(type(42))\n",
    "```"
   ]
  },
  {
   "cell_type": "code",
   "execution_count": null,
   "id": "b2ca6fd5",
   "metadata": {
    "slideshow": {
     "slide_type": "subslide"
    }
   },
   "outputs": [],
   "source": [
    "print(type(42))"
   ]
  },
  {
   "attachments": {},
   "cell_type": "markdown",
   "id": "e4af2129",
   "metadata": {
    "slideshow": {
     "slide_type": "slide"
    }
   },
   "source": [
    "# Numeric types\n",
    "\n",
    "- `int`: represents signed (negative and positive) integers, such as `42`\n",
    "- `float`: represents real numbers\n",
    "    - floating-point precision numbers: `42.5`, `-24.79`\n",
    "    - scientific notation: `1e4`, `-4e2`\n",
    "    - infinity: `float('inf')` and `float('-inf')`\n",
    "- `complex`: represents complex numbers, such as `1 + 2j`"
   ]
  },
  {
   "cell_type": "code",
   "execution_count": null,
   "id": "252b875a",
   "metadata": {
    "slideshow": {
     "slide_type": "subslide"
    }
   },
   "outputs": [],
   "source": [
    "# int\n",
    "\n",
    "print(-42)\n",
    "print(0)\n",
    "print(42)\n",
    "\n",
    "print(type(-42))"
   ]
  },
  {
   "cell_type": "code",
   "execution_count": null,
   "id": "74357d42",
   "metadata": {
    "slideshow": {
     "slide_type": "subslide"
    }
   },
   "outputs": [],
   "source": [
    "# float\n",
    "\n",
    "print(42.5)\n",
    "print(1e4)\n",
    "print(float('inf'))\n",
    "\n",
    "print(type(42.5))"
   ]
  },
  {
   "cell_type": "code",
   "execution_count": null,
   "id": "68db9a5c",
   "metadata": {
    "slideshow": {
     "slide_type": "subslide"
    }
   },
   "outputs": [],
   "source": [
    "# complex\n",
    "\n",
    "print(1 + 2j)\n",
    "print(type(1 + 2j))"
   ]
  },
  {
   "attachments": {},
   "cell_type": "markdown",
   "id": "1265f9f6",
   "metadata": {
    "slideshow": {
     "slide_type": "slide"
    }
   },
   "source": [
    "# Text type\n",
    "\n",
    "- `str`: represents text data, i.e. a sequence of characters, such as `'a'`, `'abc'`, and `'I am going home'`."
   ]
  },
  {
   "cell_type": "code",
   "execution_count": null,
   "id": "374e4adb",
   "metadata": {
    "slideshow": {
     "slide_type": "subslide"
    }
   },
   "outputs": [],
   "source": [
    "print('a')\n",
    "print('abc')\n",
    "print('I am going home')\n",
    "\n",
    "print(type('a'))\n",
    "print(type('abc'))\n",
    "print(type('I am going home'))"
   ]
  },
  {
   "attachments": {},
   "cell_type": "markdown",
   "id": "db5556f9",
   "metadata": {
    "slideshow": {
     "slide_type": "slide"
    }
   },
   "source": [
    "# Boolean type\n",
    "\n",
    "- `bool`: represent a logic value and takes one of the following two values:\n",
    "    - `True`\n",
    "    - `False`"
   ]
  },
  {
   "cell_type": "code",
   "execution_count": null,
   "id": "6bfc40dd",
   "metadata": {
    "slideshow": {
     "slide_type": "subslide"
    }
   },
   "outputs": [],
   "source": [
    "print(True)\n",
    "print(False)\n",
    "\n",
    "print(type(True))\n",
    "print(type(False))"
   ]
  },
  {
   "attachments": {},
   "cell_type": "markdown",
   "id": "c794fc41",
   "metadata": {
    "slideshow": {
     "slide_type": "slide"
    }
   },
   "source": [
    "# None type\n",
    "\n",
    "- `NoneType` - represents a null (empty) value and takes a single value `None`"
   ]
  },
  {
   "cell_type": "code",
   "execution_count": null,
   "id": "9dcf0b05",
   "metadata": {
    "slideshow": {
     "slide_type": "subslide"
    }
   },
   "outputs": [],
   "source": [
    "print(None)\n",
    "\n",
    "print(type(None))"
   ]
  },
  {
   "attachments": {},
   "cell_type": "markdown",
   "id": "8f09eabc",
   "metadata": {
    "slideshow": {
     "slide_type": "slide"
    }
   },
   "source": [
    "# Arithmetic operators\n",
    "\n",
    "| Operator | Name             | Example | Meaning                                                               |\n",
    "|----------|------------------|---------|-----------------------------------------------------------------------|\n",
    "| +        | Positive         | +x      | Does nothing ;)                                                      |\n",
    "| -        | Negation         | -x      | Negates x                                                             |\n",
    "| +        | Addition         | x + y   | Sum of x and y                                                        |\n",
    "| -        | Subtraction      | x - y   | Subtracts y from x                                                    |\n",
    "| *        | Multiplication   | x * y   | Multiplies x and y                                                    |\n",
    "| /        | Division         | x / y   | Divides x by y, resulting in a float                                  |\n",
    "| %        | Modulo           | x % y   | Remainder when x is divided by y                                      |\n",
    "| //       | Integer division | x // y  | Quotient when x is divided by y, rounded to the next smallest integer |\n",
    "| **       | Exponentiation   | x ** y  | x is raised to the power of y                                         |"
   ]
  },
  {
   "attachments": {},
   "cell_type": "markdown",
   "id": "076a17aa",
   "metadata": {},
   "source": [
    "## Positive"
   ]
  },
  {
   "cell_type": "code",
   "execution_count": null,
   "id": "4e186c4b",
   "metadata": {},
   "outputs": [
    {
     "data": {
      "text/plain": [
       "(5, int, -5, int)"
      ]
     },
     "metadata": {},
     "output_type": "display_data"
    }
   ],
   "source": [
    "# int\n",
    "\n",
    "x = 5\n",
    "y = -5\n",
    "\n",
    "+x, type(+x), +y, type(+y)"
   ]
  },
  {
   "cell_type": "code",
   "execution_count": null,
   "id": "f916a615",
   "metadata": {},
   "outputs": [],
   "source": [
    "# float\n",
    "\n",
    "x = 5.6\n",
    "y = -5.6\n",
    "\n",
    "+x, type(+x), +y, type(+y)"
   ]
  },
  {
   "cell_type": "code",
   "execution_count": null,
   "id": "49b0d163",
   "metadata": {},
   "outputs": [],
   "source": [
    "# complex\n",
    "\n",
    "x = 5.6 + 3j\n",
    "y = -5.6 -3j\n",
    "\n",
    "+x, type(+x), +y, type(+y)"
   ]
  },
  {
   "attachments": {},
   "cell_type": "markdown",
   "id": "5e9ba7b9",
   "metadata": {},
   "source": [
    "## Negation"
   ]
  },
  {
   "cell_type": "code",
   "execution_count": null,
   "id": "90741f04",
   "metadata": {},
   "outputs": [],
   "source": [
    "# int\n",
    "\n",
    "x = 5\n",
    "y = -5\n",
    "\n",
    "-x, type(-x), -y, type(-y)"
   ]
  },
  {
   "cell_type": "code",
   "execution_count": null,
   "id": "fca00c9a",
   "metadata": {},
   "outputs": [],
   "source": [
    "# float\n",
    "\n",
    "x = 5.6\n",
    "y = -5.6\n",
    "\n",
    "-x, type(-x), -y, type(-y)"
   ]
  },
  {
   "cell_type": "code",
   "execution_count": null,
   "id": "aaa022ee",
   "metadata": {},
   "outputs": [],
   "source": [
    "# complex\n",
    "\n",
    "x = 5.6 + 3j\n",
    "y = -5.6 - 3j\n",
    "\n",
    "-x, type(-x), -y, type(-y)"
   ]
  },
  {
   "attachments": {},
   "cell_type": "markdown",
   "id": "3775f8ec",
   "metadata": {},
   "source": [
    "## Addition"
   ]
  },
  {
   "cell_type": "code",
   "execution_count": null,
   "id": "d217646a",
   "metadata": {},
   "outputs": [],
   "source": [
    "# int + int -> int\n",
    "\n",
    "x = 5\n",
    "y = 6\n",
    "\n",
    "x + y, type(x + y)"
   ]
  },
  {
   "cell_type": "code",
   "execution_count": null,
   "id": "f1cba1ac",
   "metadata": {},
   "outputs": [],
   "source": [
    "# float + float -> float\n",
    "\n",
    "x = 5.6\n",
    "y = 6.82\n",
    "\n",
    "x + y, type(x + y)"
   ]
  },
  {
   "cell_type": "code",
   "execution_count": null,
   "id": "a89dce7f",
   "metadata": {},
   "outputs": [],
   "source": [
    "# complex + complex -> complex\n",
    "\n",
    "x = 5.6 + 3.2j\n",
    "y = 6.82 - 11j\n",
    "\n",
    "x + y, type(x + y)"
   ]
  },
  {
   "cell_type": "code",
   "execution_count": null,
   "id": "2efc5070",
   "metadata": {},
   "outputs": [],
   "source": [
    "# int + float -> float\n",
    "\n",
    "x = 5\n",
    "y = 6.82\n",
    "\n",
    "x + y, type(x + y)"
   ]
  },
  {
   "cell_type": "code",
   "execution_count": null,
   "id": "567ca529",
   "metadata": {},
   "outputs": [],
   "source": [
    "# int + complex -> complex\n",
    "\n",
    "x = 5\n",
    "y = 6.82 - 11j\n",
    "\n",
    "x + y, type(x + y)"
   ]
  },
  {
   "cell_type": "code",
   "execution_count": null,
   "id": "4d77ecca",
   "metadata": {},
   "outputs": [],
   "source": [
    "# float + complex -> complex\n",
    "\n",
    "x = 5.6\n",
    "y = 6.82 - 11j\n",
    "\n",
    "x + y, type(x + y)"
   ]
  },
  {
   "attachments": {},
   "cell_type": "markdown",
   "id": "8543e284",
   "metadata": {},
   "source": [
    "## Substraction"
   ]
  },
  {
   "cell_type": "code",
   "execution_count": null,
   "id": "b0edb20b",
   "metadata": {},
   "outputs": [],
   "source": [
    "# int - int -> int\n",
    "\n",
    "x = 5\n",
    "y = 6\n",
    "\n",
    "x - y, type(x - y)"
   ]
  },
  {
   "cell_type": "code",
   "execution_count": null,
   "id": "031bdc5b",
   "metadata": {},
   "outputs": [],
   "source": [
    "# float - float -> float\n",
    "\n",
    "x = 5.6\n",
    "y = 6.82\n",
    "\n",
    "x - y, type(x - y)"
   ]
  },
  {
   "cell_type": "code",
   "execution_count": null,
   "id": "30890943",
   "metadata": {},
   "outputs": [],
   "source": [
    "# complex - complex -> complex\n",
    "\n",
    "x = 5.6 + 3.2j\n",
    "y = 6.82 - 11j\n",
    "\n",
    "x - y, type(x - y)"
   ]
  },
  {
   "cell_type": "code",
   "execution_count": null,
   "id": "fdfedf61",
   "metadata": {},
   "outputs": [],
   "source": [
    "# int - float -> float\n",
    "\n",
    "x = 5\n",
    "y = 6.82\n",
    "\n",
    "x - y, type(x - y)"
   ]
  },
  {
   "cell_type": "code",
   "execution_count": null,
   "id": "1721d097",
   "metadata": {},
   "outputs": [],
   "source": [
    "# int - complex -> complex\n",
    "\n",
    "x = 5\n",
    "y = 6.82 - 11j\n",
    "\n",
    "x - y, type(x - y)"
   ]
  },
  {
   "cell_type": "code",
   "execution_count": null,
   "id": "c76c74f3",
   "metadata": {},
   "outputs": [],
   "source": [
    "# float - complex -> complex\n",
    "\n",
    "x = 5.6\n",
    "y = 6.82 - 11j\n",
    "\n",
    "x - y, type(x - y)"
   ]
  },
  {
   "attachments": {},
   "cell_type": "markdown",
   "id": "69c7aa0f",
   "metadata": {},
   "source": [
    "## Multiplication"
   ]
  },
  {
   "cell_type": "code",
   "execution_count": null,
   "id": "286b831a",
   "metadata": {},
   "outputs": [],
   "source": [
    "# int * int -> int\n",
    "\n",
    "x = 5\n",
    "y = 6\n",
    "\n",
    "x * y, type(x * y)"
   ]
  },
  {
   "cell_type": "code",
   "execution_count": null,
   "id": "da0661c5",
   "metadata": {},
   "outputs": [],
   "source": [
    "# float * float -> float\n",
    "\n",
    "x = 5.6\n",
    "y = 6.82\n",
    "\n",
    "x * y, type(x * y)"
   ]
  },
  {
   "cell_type": "code",
   "execution_count": null,
   "id": "fd670378",
   "metadata": {},
   "outputs": [],
   "source": [
    "# complex * complex -> complex\n",
    "\n",
    "x = 5.6 + 3.2j\n",
    "y = 6.82 - 11j\n",
    "\n",
    "x * y, type(x * y)"
   ]
  },
  {
   "cell_type": "code",
   "execution_count": null,
   "id": "da594936",
   "metadata": {},
   "outputs": [],
   "source": [
    "# complex * complex -> complex\n",
    "\n",
    "x = 1 + 11j\n",
    "y = 1 - 11j\n",
    "\n",
    "x * y, type(x * y)"
   ]
  },
  {
   "cell_type": "code",
   "execution_count": null,
   "id": "b5317ac6",
   "metadata": {},
   "outputs": [],
   "source": [
    "# int * float -> float\n",
    "\n",
    "x = 5\n",
    "y = 6.82\n",
    "\n",
    "x * y, type(x * y)"
   ]
  },
  {
   "cell_type": "code",
   "execution_count": null,
   "id": "d95e66ef",
   "metadata": {},
   "outputs": [],
   "source": [
    "# int * complex -> complex\n",
    "\n",
    "x = 5\n",
    "y = 6.82 - 11j\n",
    "\n",
    "x * y, type(x * y)"
   ]
  },
  {
   "cell_type": "code",
   "execution_count": null,
   "id": "2fd37f45",
   "metadata": {},
   "outputs": [],
   "source": [
    "# float * complex -> complex\n",
    "\n",
    "x = 5.6\n",
    "y = 6.82 - 11j\n",
    "\n",
    "x * y, type(x * y)"
   ]
  },
  {
   "attachments": {},
   "cell_type": "markdown",
   "id": "ece044e9",
   "metadata": {},
   "source": [
    "## Division"
   ]
  },
  {
   "cell_type": "code",
   "execution_count": null,
   "id": "868ea5b2",
   "metadata": {},
   "outputs": [],
   "source": [
    "# int / int -> float if divisor is n-zero\n",
    "\n",
    "x = 5\n",
    "y = 6\n",
    "\n",
    "x / y, type(x / y)"
   ]
  },
  {
   "cell_type": "code",
   "execution_count": null,
   "id": "d0d4d112",
   "metadata": {},
   "outputs": [],
   "source": [
    "# int / int -> ZeroDivisionError if divisor is zero\n",
    "\n",
    "x = 5\n",
    "y = 0\n",
    "\n",
    "x / y, type(x / y)"
   ]
  },
  {
   "cell_type": "code",
   "execution_count": null,
   "id": "c97ae19d",
   "metadata": {},
   "outputs": [],
   "source": [
    "# float / float -> float if divisor is non-zero\n",
    "\n",
    "x = 15.6\n",
    "y = 6.82\n",
    "\n",
    "x / y, type(x / y)"
   ]
  },
  {
   "cell_type": "code",
   "execution_count": null,
   "id": "a276e2c5",
   "metadata": {},
   "outputs": [],
   "source": [
    "# float / float -> ZeroDivisionError if divisor is zero\n",
    "\n",
    "x = 15.6\n",
    "y = 0.0\n",
    "\n",
    "x / y, type(x / y)"
   ]
  },
  {
   "cell_type": "code",
   "execution_count": null,
   "id": "a6c81a3f",
   "metadata": {},
   "outputs": [],
   "source": [
    "# complex / complex -> complex if divisor is non-zero\n",
    "\n",
    "x = 5.6 + 3.2j\n",
    "y = 6.82 - 11j\n",
    "\n",
    "x / y, type(x / y)"
   ]
  },
  {
   "cell_type": "code",
   "execution_count": null,
   "id": "05d651d9",
   "metadata": {},
   "outputs": [],
   "source": [
    "# complex / complex -> ZeroDivisionError if divisor is zero\n",
    "\n",
    "x = 5.6 + 3.2j\n",
    "y = 0j\n",
    "\n",
    "x / y, type(x / y)"
   ]
  },
  {
   "cell_type": "code",
   "execution_count": null,
   "id": "b97f76ca",
   "metadata": {},
   "outputs": [],
   "source": [
    "# int / float -> float or ZeroDivisionError\n",
    "\n",
    "x = 25\n",
    "y = 6.82\n",
    "\n",
    "x / y, type(x / y)"
   ]
  },
  {
   "cell_type": "code",
   "execution_count": null,
   "id": "baf560c7",
   "metadata": {},
   "outputs": [],
   "source": [
    "# int / complex -> complex or ZeroDivisionError\n",
    "\n",
    "x = 5\n",
    "y = 6.82 - 11j\n",
    "\n",
    "x / y, type(x / y)"
   ]
  },
  {
   "cell_type": "code",
   "execution_count": null,
   "id": "e812e21d",
   "metadata": {},
   "outputs": [],
   "source": [
    "# float / complex -> complex or ZeroDivisionError\n",
    "\n",
    "x = 5.6\n",
    "y = 6.82 - 11j\n",
    "\n",
    "x / y, type(x / y)"
   ]
  },
  {
   "attachments": {},
   "cell_type": "markdown",
   "id": "f65e63c2",
   "metadata": {},
   "source": [
    "## Modulo"
   ]
  },
  {
   "cell_type": "code",
   "execution_count": null,
   "id": "d51ca966",
   "metadata": {},
   "outputs": [],
   "source": [
    "# int % int -> int\n",
    "\n",
    "x = 10\n",
    "y = 6\n",
    "\n",
    "x % y, type(x % y)"
   ]
  },
  {
   "cell_type": "code",
   "execution_count": null,
   "id": "69f76170",
   "metadata": {},
   "outputs": [],
   "source": [
    "# float % float -> float\n",
    "\n",
    "x = 15.6\n",
    "y = 6.2\n",
    "\n",
    "x % y, type(x % y)"
   ]
  },
  {
   "cell_type": "code",
   "execution_count": null,
   "id": "6315f0bc",
   "metadata": {},
   "outputs": [],
   "source": [
    "# float % float -> float\n",
    "\n",
    "x = 15.\n",
    "y = 6.\n",
    "\n",
    "x % y, type(x % y)"
   ]
  },
  {
   "cell_type": "code",
   "execution_count": null,
   "id": "3d6f5191",
   "metadata": {},
   "outputs": [],
   "source": [
    "# complex % complex -> TypeError\n",
    "\n",
    "x = 5.6 + 3.2j\n",
    "y = 6.82 - 11j\n",
    "\n",
    "x % y, type(x % y)"
   ]
  },
  {
   "cell_type": "code",
   "execution_count": null,
   "id": "5b6e2ea8",
   "metadata": {},
   "outputs": [],
   "source": [
    "# int % float -> float\n",
    "\n",
    "x = 18\n",
    "y = 6.82\n",
    "\n",
    "x % y, type(x % y)"
   ]
  },
  {
   "cell_type": "code",
   "execution_count": null,
   "id": "42ad5daa",
   "metadata": {},
   "outputs": [],
   "source": [
    "# int % complex -> TypeError\n",
    "\n",
    "x = 5\n",
    "y = 6.82 - 11j\n",
    "\n",
    "x % y, type(x % y)"
   ]
  },
  {
   "cell_type": "code",
   "execution_count": null,
   "id": "9c004277",
   "metadata": {},
   "outputs": [],
   "source": [
    "# float % complex -> TypeError\n",
    "\n",
    "x = 5.6\n",
    "y = 6.82 - 11j\n",
    "\n",
    "x % y, type(x % y)"
   ]
  },
  {
   "attachments": {},
   "cell_type": "markdown",
   "id": "ea265025",
   "metadata": {},
   "source": [
    "## Integer / floor division"
   ]
  },
  {
   "cell_type": "code",
   "execution_count": null,
   "id": "a51a39f6",
   "metadata": {},
   "outputs": [],
   "source": [
    "# int // int -> int\n",
    "\n",
    "x = 27\n",
    "y = 6\n",
    "\n",
    "x // y, type(x // y)"
   ]
  },
  {
   "cell_type": "code",
   "execution_count": null,
   "id": "10be24a3",
   "metadata": {},
   "outputs": [],
   "source": [
    "# float // float -> float\n",
    "\n",
    "x = 27.6\n",
    "y = 6.82\n",
    "\n",
    "x // y, type(x // y)"
   ]
  },
  {
   "cell_type": "code",
   "execution_count": null,
   "id": "332efcbf",
   "metadata": {},
   "outputs": [],
   "source": [
    "# complex // complex -> TypeError\n",
    "\n",
    "x = 5.6 + 3.2j\n",
    "y = 6.82 - 11j\n",
    "\n",
    "x // y, type(x // y)"
   ]
  },
  {
   "cell_type": "code",
   "execution_count": null,
   "id": "66e24b81",
   "metadata": {},
   "outputs": [],
   "source": [
    "# int // float -> float\n",
    "\n",
    "x = 25\n",
    "y = 6.82\n",
    "\n",
    "x // y, type(x // y)"
   ]
  },
  {
   "cell_type": "code",
   "execution_count": null,
   "id": "96f4cab4",
   "metadata": {},
   "outputs": [],
   "source": [
    "# int // complex -> TypeError\n",
    "\n",
    "x = 5\n",
    "y = 6.82 - 11j\n",
    "\n",
    "x // y, type(x // y)"
   ]
  },
  {
   "cell_type": "code",
   "execution_count": null,
   "id": "9e9c14bf",
   "metadata": {},
   "outputs": [],
   "source": [
    "# float // complex -> TypeError\n",
    "\n",
    "x = 5.6\n",
    "y = 6.82 - 11j\n",
    "\n",
    "x // y, type(x // y)"
   ]
  },
  {
   "attachments": {},
   "cell_type": "markdown",
   "id": "42a6f76f",
   "metadata": {},
   "source": [
    "## Exponentiation"
   ]
  },
  {
   "cell_type": "code",
   "execution_count": null,
   "id": "b6d44741",
   "metadata": {},
   "outputs": [],
   "source": [
    "# int ** int -> int if exponent is non-negative\n",
    "\n",
    "x = 2\n",
    "y = 10\n",
    "\n",
    "x ** y, type(x ** y)"
   ]
  },
  {
   "cell_type": "code",
   "execution_count": null,
   "id": "67112268",
   "metadata": {},
   "outputs": [],
   "source": [
    "# int ** int -> float if exponent is negative\n",
    "\n",
    "x = 2\n",
    "y = -3\n",
    "\n",
    "x ** y ** 2, type(x ** y)"
   ]
  },
  {
   "cell_type": "code",
   "execution_count": null,
   "id": "4ff97849",
   "metadata": {},
   "outputs": [],
   "source": [
    "# int ** int -> complex if base is negative\n",
    "\n",
    "x = -1\n",
    "y = 0.5\n",
    "\n",
    "x ** y, type(x ** y)"
   ]
  },
  {
   "cell_type": "code",
   "execution_count": null,
   "id": "bc129bec",
   "metadata": {},
   "outputs": [],
   "source": [
    "# int ** int -> ZeroDivisionError if zero (0) is raised to negative power\n",
    "\n",
    "x = 0\n",
    "y = -1\n",
    "\n",
    "x ** y, type(x ** y)"
   ]
  },
  {
   "cell_type": "code",
   "execution_count": null,
   "id": "3353b292",
   "metadata": {},
   "outputs": [],
   "source": [
    "# float ** float -> float or complex or ZeroDivisionError\n",
    "\n",
    "x = 5.6\n",
    "y = 6.82\n",
    "\n",
    "x ** y, type(x ** y)"
   ]
  },
  {
   "cell_type": "code",
   "execution_count": null,
   "id": "c3a2f5c9",
   "metadata": {},
   "outputs": [],
   "source": [
    "# complex ** complex -> complex or ZeroDivisionError\n",
    "\n",
    "x = 1 + 1j\n",
    "y = 6 - 14j\n",
    "\n",
    "x ** y, type(x ** y)"
   ]
  },
  {
   "cell_type": "code",
   "execution_count": null,
   "id": "ad4dd33b",
   "metadata": {},
   "outputs": [],
   "source": [
    "# int ** float -> float or complex or ZeroDivisionError\n",
    "\n",
    "x = 5\n",
    "y = 6.82\n",
    "\n",
    "x ** y, type(x ** y)"
   ]
  },
  {
   "cell_type": "code",
   "execution_count": null,
   "id": "2a646b5f",
   "metadata": {},
   "outputs": [],
   "source": [
    "# int ** complex -> complex or ZeroDivisionError\n",
    "\n",
    "x = 5\n",
    "y = 6.82 - 11j\n",
    "\n",
    "x ** y, type(x ** y)"
   ]
  },
  {
   "cell_type": "code",
   "execution_count": null,
   "id": "1e57a314",
   "metadata": {},
   "outputs": [],
   "source": [
    "# float ** complex -> complex or ZeroDivisionError\n",
    "\n",
    "x = 5.6\n",
    "y = 6.82 - 11j\n",
    "\n",
    "x ** y, type(x ** y)"
   ]
  }
 ],
 "metadata": {
  "celltoolbar": "Slideshow",
  "kernelspec": {
   "display_name": "Python 3 (ipykernel)",
   "language": "python",
   "name": "python3"
  },
  "language_info": {
   "codemirror_mode": {
    "name": "ipython",
    "version": 3
   },
   "file_extension": ".py",
   "mimetype": "text/x-python",
   "name": "python",
   "nbconvert_exporter": "python",
   "pygments_lexer": "ipython3",
   "version": "3.11.5"
  },
  "vscode": {
   "interpreter": {
    "hash": "916dbcbb3f70747c44a77c7bcd40155683ae19c65e1c03b4aa3499c5328201f1"
   }
  }
 },
 "nbformat": 4,
 "nbformat_minor": 5
}
