{
 "cells": [
  {
   "cell_type": "markdown",
   "metadata": {},
   "source": [
    "# Programming with Python\n",
    "\n",
    "## Lecture 06: `for` loops and `list`\n",
    "\n",
    "### Khachatur Khechoyan\n",
    "\n",
    "#### Yerevan State University\n",
    "#### Portmind"
   ]
  },
  {
   "cell_type": "markdown",
   "metadata": {},
   "source": [
    "# Problem solving session"
   ]
  },
  {
   "cell_type": "markdown",
   "metadata": {},
   "source": [
    "## Basic problems\n",
    "\n",
    "Basic Calculations with Lists:\n",
    "\n",
    "- Find the sum and average of the numbers in a list.\n",
    "- Find the maximum and minimum value in a list.\n",
    "\n",
    "List Manipulations:\n",
    "\n",
    "- Count how many times a specific value appears in a list.\n",
    "- Remove all occurrences of a specific value from a list.\n",
    "- Implement a function that returns every second element from a list.\n",
    "\n",
    "Nested Lists:\n",
    "\n",
    "- Given a matrix (a list of lists), compute the sum of its diagonals.\n",
    "- Given a matrix (a list of lists), check if it is symmetric.\n",
    "- Given a matrix (a list of lists), check if it is a lower triangular matrix.\n",
    "\n",
    "List Comprehensions:\n",
    "\n",
    "- Use a list comprehension to get all the even numbers from a list.\n",
    "- Use a list comprehension to square all the numbers in a list.\n"
   ]
  },
  {
   "cell_type": "code",
   "execution_count": 11,
   "metadata": {},
   "outputs": [
    {
     "name": "stdout",
     "output_type": "stream",
     "text": [
      "15\n"
     ]
    }
   ],
   "source": [
    "m = [\n",
    "    [1, 2, 3],\n",
    "    [4, 5, 6],\n",
    "    [7, 8, 9],\n",
    "    [10, 11, 12]\n",
    "]\n",
    "s=0\n",
    "\n",
    "\n",
    "for i in range(min(len(m), len(m[0]))):\n",
    "    s+= m[i][i]\n",
    "print(s)"
   ]
  },
  {
   "cell_type": "code",
   "execution_count": 16,
   "metadata": {},
   "outputs": [],
   "source": [
    "def a(l, n):\n",
    "    s = 0\n",
    "    for i in l:\n",
    "        if i == n:\n",
    "            s+=1\n",
    "    return s"
   ]
  },
  {
   "cell_type": "code",
   "execution_count": 17,
   "metadata": {},
   "outputs": [
    {
     "data": {
      "text/plain": [
       "3"
      ]
     },
     "execution_count": 17,
     "metadata": {},
     "output_type": "execute_result"
    }
   ],
   "source": [
    "a([1,2,1,2,2], 2)"
   ]
  },
  {
   "cell_type": "code",
   "execution_count": 17,
   "metadata": {},
   "outputs": [
    {
     "name": "stdout",
     "output_type": "stream",
     "text": [
      "True\n"
     ]
    }
   ],
   "source": [
    "m = [\n",
    "    [1, 2, 3],\n",
    "    [0, 5, 6],\n",
    "    [0, 0, 9],\n",
    "    [0, 0, 0]\n",
    "]\n",
    "\n",
    "k = [\n",
    "    [1, 0, 5, 6],\n",
    "    [3, 5, 0, 1],\n",
    "    [9, 7, 8, 1]\n",
    "]\n",
    "is_lower_triangular = True\n",
    "for i in range(len(m)):\n",
    "    for j in range(len(m[0])):\n",
    "        if i > j:\n",
    "            if m[i][j] != 0:\n",
    "                is_lower_triangular = False\n",
    "                break\n",
    "print(is_lower_triangular)"
   ]
  },
  {
   "cell_type": "markdown",
   "metadata": {},
   "source": [
    "## Problem 1\n",
    "\n",
    "Write a program that prinst all numbers from 1 to 100 that are not divisible by 2, 3 and 5."
   ]
  },
  {
   "cell_type": "code",
   "execution_count": 23,
   "metadata": {},
   "outputs": [
    {
     "name": "stdout",
     "output_type": "stream",
     "text": [
      "1\n",
      "7\n",
      "11\n",
      "13\n",
      "17\n",
      "19\n",
      "23\n",
      "29\n",
      "31\n",
      "37\n",
      "41\n",
      "43\n",
      "47\n",
      "49\n",
      "53\n",
      "59\n",
      "61\n",
      "67\n",
      "71\n",
      "73\n",
      "77\n",
      "79\n",
      "83\n",
      "89\n",
      "91\n",
      "97\n"
     ]
    }
   ],
   "source": [
    "\n",
    "for i in range(1, 101):\n",
    "    if i%2!=0 and i%3!=0 and i%5!=0:\n",
    "        print(i)"
   ]
  },
  {
   "cell_type": "markdown",
   "metadata": {},
   "source": [
    "## Problem 2 - Multiplication table\n",
    "\n",
    "Write a program that prints a multiplication table for numbers from 1 to 9.\n",
    "\n",
    "\n",
    "1 2 3 4 5 6 7 8 9 \\\n",
    "2 4 6 8 10 12 14 16 18 \\\n",
    "3 6 9 12 15 18 21 24 27 \\\n",
    "4 8 12 16 20 24 28 32 36 \\\n",
    "5 10 15 20 25 30 35 40 45 \\\n",
    "6 12 18 24 30 36 42 48 54 \\\n",
    "7 14 21 28 35 42 49 56 63 \\\n",
    "8 16 24 32 40 48 56 64 72 \\\n",
    "9 18 27 36 45 54 63 72 81\n",
    "\n"
   ]
  },
  {
   "cell_type": "code",
   "execution_count": null,
   "metadata": {},
   "outputs": [],
   "source": []
  },
  {
   "cell_type": "markdown",
   "metadata": {},
   "source": [
    "## Problem 3\n",
    "\n",
    "Given the following list of numbers, replace all negative numbers with -1 and all positive numbers with 1.\n",
    "\n",
    "```python\n",
    "a = [10, -15, 3, 8, 0, 9, -6, 13, -1, 5]\n",
    "```"
   ]
  },
  {
   "cell_type": "code",
   "execution_count": null,
   "metadata": {},
   "outputs": [],
   "source": []
  },
  {
   "cell_type": "markdown",
   "metadata": {},
   "source": [
    "## Problem 4\n",
    "\n",
    "Do the same as in Problem 3, but this time, instead of replacing the numbers, create a new list."
   ]
  },
  {
   "cell_type": "code",
   "execution_count": null,
   "metadata": {},
   "outputs": [],
   "source": []
  },
  {
   "cell_type": "markdown",
   "metadata": {},
   "source": [
    "## Problem 5\n",
    "\n",
    "Write a prgram that asks the user to enter a number and prints all the divisors of that number."
   ]
  },
  {
   "cell_type": "code",
   "execution_count": 7,
   "metadata": {},
   "outputs": [
    {
     "name": "stdout",
     "output_type": "stream",
     "text": [
      "13 is a prime number\n"
     ]
    }
   ],
   "source": [
    "n = int(input(\"Enter a number: \"))\n",
    "\n",
    "divisors = []\n",
    "\n",
    "for i in range(1, n+1):\n",
    "    if n % i == 0:\n",
    "        divisors.append(i)\n",
    "\n",
    "if len(divisors) == 2:\n",
    "    print(\"{} is a prime number\".format(n))"
   ]
  },
  {
   "cell_type": "code",
   "execution_count": 10,
   "metadata": {},
   "outputs": [],
   "source": []
  },
  {
   "cell_type": "code",
   "execution_count": 12,
   "metadata": {},
   "outputs": [],
   "source": [
    "def find_divisors(x):\n",
    "    divisors = []\n",
    "    for i in range(1, x+1):\n",
    "        if x % i == 0:\n",
    "            divisors.append(i)\n",
    "    return divisors\n",
    "\n",
    "def is_prime(x):\n",
    "    divisors = find_divisors(x)\n",
    "    if len(divisors) == 2:\n",
    "        return True\n",
    "    return False\n",
    "print(is_prime(8))"
   ]
  },
  {
   "cell_type": "code",
   "execution_count": 15,
   "metadata": {},
   "outputs": [
    {
     "data": {
      "text/plain": [
       "True"
      ]
     },
     "execution_count": 15,
     "metadata": {},
     "output_type": "execute_result"
    }
   ],
   "source": [
    "a = int(input(\"Enter a number: \"))\n",
    "is_prime(a)"
   ]
  },
  {
   "cell_type": "code",
   "execution_count": 11,
   "metadata": {},
   "outputs": [
    {
     "data": {
      "text/plain": [
       "[1, 2, 5, 10]"
      ]
     },
     "execution_count": 11,
     "metadata": {},
     "output_type": "execute_result"
    }
   ],
   "source": [
    "find_divisors(10)"
   ]
  },
  {
   "cell_type": "code",
   "execution_count": 4,
   "metadata": {},
   "outputs": [
    {
     "name": "stdout",
     "output_type": "stream",
     "text": [
      "[1, 2, 5, 10]\n"
     ]
    }
   ],
   "source": [
    "n = int(input(\"Enter a number: \"))\n",
    "\n",
    "divisors = []\n",
    "\n",
    "i = 1\n",
    "while i <= n:\n",
    "    if n % i == 0:\n",
    "        divisors.append(i)\n",
    "    i+=1\n",
    "print(divisors)"
   ]
  },
  {
   "cell_type": "code",
   "execution_count": 3,
   "metadata": {},
   "outputs": [
    {
     "name": "stdout",
     "output_type": "stream",
     "text": [
      "[1, 2, 5, 10]\n"
     ]
    }
   ],
   "source": [
    "print(divisors)"
   ]
  },
  {
   "cell_type": "markdown",
   "metadata": {},
   "source": [
    "## Problem 6\n",
    "\n",
    "Implement the run-length encoding algorithm: for a list `['a', 'a', 'a', 'b', 'b', 'c', 'a']`, the output should be `[(3, 'a'), (2, 'b'), (1, 'c'), (1, 'a')]`."
   ]
  },
  {
   "cell_type": "code",
   "execution_count": null,
   "metadata": {},
   "outputs": [],
   "source": []
  },
  {
   "cell_type": "markdown",
   "metadata": {},
   "source": []
  }
 ],
 "metadata": {
  "kernelspec": {
   "display_name": ".ysu",
   "language": "python",
   "name": "python3"
  },
  "language_info": {
   "codemirror_mode": {
    "name": "ipython",
    "version": 3
   },
   "file_extension": ".py",
   "mimetype": "text/x-python",
   "name": "python",
   "nbconvert_exporter": "python",
   "pygments_lexer": "ipython3",
   "version": "3.9.6"
  },
  "orig_nbformat": 4
 },
 "nbformat": 4,
 "nbformat_minor": 2
}
