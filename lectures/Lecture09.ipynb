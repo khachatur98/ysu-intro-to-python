{
 "cells": [
  {
   "cell_type": "markdown",
   "metadata": {},
   "source": [
    "# Programming with Python\n",
    "\n",
    "## Lecture 06: `for` loops and `list`\n",
    "\n",
    "### Khachatur Khechoyan\n",
    "\n",
    "#### Yerevan State University\n",
    "#### Portmind"
   ]
  },
  {
   "cell_type": "markdown",
   "metadata": {},
   "source": [
    "# Problem solving session"
   ]
  },
  {
   "cell_type": "markdown",
   "metadata": {},
   "source": [
    "## Basic problems\n",
    "\n",
    "Basic Calculations with Lists:\n",
    "\n",
    "- Find the sum and average of the numbers in a list.\n",
    "- Find the maximum and minimum value in a list.\n",
    "\n",
    "List Manipulations:\n",
    "\n",
    "- Count how many times a specific value appears in a list.\n",
    "- Remove all occurrences of a specific value from a list.\n",
    "- Implement a function that returns every second element from a list.\n",
    "\n",
    "Nested Lists:\n",
    "\n",
    "- Given a matrix (a list of lists), compute the sum of its diagonals.\n",
    "- Given a matrix (a list of lists), check if it is symmetric.\n",
    "- Given a matrix (a list of lists), check if it is a lower triangular matrix.\n",
    "\n",
    "List Comprehensions:\n",
    "\n",
    "- Use a list comprehension to get all the even numbers from a list.\n",
    "- Use a list comprehension to square all the numbers in a list.\n"
   ]
  },
  {
   "cell_type": "markdown",
   "metadata": {},
   "source": [
    "## Problem 1\n",
    "\n",
    "Write a program that prinst all numbers from 0 to 100 that are not divisible by 2, 3 and 5."
   ]
  },
  {
   "cell_type": "code",
   "execution_count": null,
   "metadata": {},
   "outputs": [],
   "source": []
  },
  {
   "cell_type": "markdown",
   "metadata": {},
   "source": [
    "## Problem 2 - Multiplication table\n",
    "\n",
    "Write a program that prints a multiplication table for numbers from 1 to 9.\n",
    "\n",
    "\n",
    "1 2 3 4 5 6 7 8 9 \\\n",
    "2 4 6 8 10 12 14 16 18 \\\n",
    "3 6 9 12 15 18 21 24 27 \\\n",
    "4 8 12 16 20 24 28 32 36 \\\n",
    "5 10 15 20 25 30 35 40 45 \\\n",
    "6 12 18 24 30 36 42 48 54 \\\n",
    "7 14 21 28 35 42 49 56 63 \\\n",
    "8 16 24 32 40 48 56 64 72 \\\n",
    "9 18 27 36 45 54 63 72 81\n",
    "\n"
   ]
  },
  {
   "cell_type": "code",
   "execution_count": null,
   "metadata": {},
   "outputs": [],
   "source": []
  },
  {
   "cell_type": "markdown",
   "metadata": {},
   "source": [
    "## Problem 3\n",
    "\n",
    "Given the following list of numbers, replace all negative numbers with -1 and all positive numbers with 1.\n",
    "\n",
    "```python\n",
    "a = [10, -15, 3, 8, 0, 9, -6, 13, -1, 5]\n",
    "```"
   ]
  },
  {
   "cell_type": "code",
   "execution_count": null,
   "metadata": {},
   "outputs": [],
   "source": []
  },
  {
   "cell_type": "markdown",
   "metadata": {},
   "source": [
    "## Problem 4\n",
    "\n",
    "Do the same as in Problem 3, but this time, instead of replacing the numbers, create a new list."
   ]
  },
  {
   "cell_type": "code",
   "execution_count": null,
   "metadata": {},
   "outputs": [],
   "source": []
  },
  {
   "cell_type": "markdown",
   "metadata": {},
   "source": [
    "## Problem 5\n",
    "\n",
    "Write a prgram that asks the user to enter a number and prints all the divisors of that number."
   ]
  },
  {
   "cell_type": "code",
   "execution_count": null,
   "metadata": {},
   "outputs": [],
   "source": []
  },
  {
   "cell_type": "markdown",
   "metadata": {},
   "source": [
    "## Problem 6.\n",
    "\n",
    "Write a program that finds the maximum number in a list of numbers without using the built-in `max` function."
   ]
  },
  {
   "cell_type": "code",
   "execution_count": null,
   "metadata": {},
   "outputs": [],
   "source": []
  },
  {
   "cell_type": "markdown",
   "metadata": {},
   "source": [
    "## Problem 7\n",
    "\n",
    "Implement the run-length encoding algorithm: for a list `['a', 'a', 'a', 'b', 'b', 'c', 'a']`, the output should be `[(3, 'a'), (2, 'b'), (1, 'c'), (1, 'a')]`."
   ]
  },
  {
   "cell_type": "markdown",
   "metadata": {},
   "source": []
  }
 ],
 "metadata": {
  "kernelspec": {
   "display_name": ".ysu",
   "language": "python",
   "name": "python3"
  },
  "language_info": {
   "name": "python",
   "version": "3.9.6"
  },
  "orig_nbformat": 4
 },
 "nbformat": 4,
 "nbformat_minor": 2
}
