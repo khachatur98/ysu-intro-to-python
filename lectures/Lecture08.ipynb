{
 "cells": [
  {
   "cell_type": "markdown",
   "id": "74750d32",
   "metadata": {
    "slideshow": {
     "slide_type": "slide"
    }
   },
   "source": [
    "# Programming with Python\n",
    "\n",
    "## Lecture 08: Lists and tuples\n",
    "\n",
    "### Khachatur Khechoyan\n",
    "\n",
    "#### Yerevan State University\n",
    "#### Portmind"
   ]
  },
  {
   "cell_type": "markdown",
   "id": "7522b6a2",
   "metadata": {
    "slideshow": {
     "slide_type": "slide"
    }
   },
   "source": [
    "## `remove(value)`\n",
    "\n",
    "`remove(x)` method removes the first element from the list whose value is equal to `value`."
   ]
  },
  {
   "cell_type": "code",
   "execution_count": null,
   "id": "7c47e561",
   "metadata": {
    "slideshow": {
     "slide_type": "fragment"
    }
   },
   "outputs": [],
   "source": [
    "colours = [\"green\", \"blue\", \"red\", \"white\", \"black\", \"blue\"]\n",
    "colours"
   ]
  },
  {
   "cell_type": "code",
   "execution_count": null,
   "id": "d335db53",
   "metadata": {
    "slideshow": {
     "slide_type": "fragment"
    }
   },
   "outputs": [],
   "source": [
    "colours.remove(\"blue\")"
   ]
  },
  {
   "cell_type": "code",
   "execution_count": null,
   "id": "6f0123b5",
   "metadata": {
    "slideshow": {
     "slide_type": "fragment"
    }
   },
   "outputs": [],
   "source": [
    "colours"
   ]
  },
  {
   "cell_type": "markdown",
   "id": "e3a18b3b",
   "metadata": {
    "slideshow": {
     "slide_type": "slide"
    }
   },
   "source": [
    "## `pop(idx)`\n",
    "\n",
    "`pop(idx)` method removes the element at position `idx` from the list. The parameter `idx` is not required and by default it drops the last element."
   ]
  },
  {
   "cell_type": "code",
   "execution_count": null,
   "id": "1afd389f",
   "metadata": {
    "slideshow": {
     "slide_type": "fragment"
    }
   },
   "outputs": [],
   "source": [
    "colours = [\"green\", \"blue\", \"red\", \"white\", \"black\", \"blue\"]\n",
    "colours"
   ]
  },
  {
   "cell_type": "code",
   "execution_count": null,
   "id": "68460426",
   "metadata": {
    "slideshow": {
     "slide_type": "fragment"
    }
   },
   "outputs": [],
   "source": [
    "colours.pop()"
   ]
  },
  {
   "cell_type": "code",
   "execution_count": null,
   "id": "8a7c2ab6",
   "metadata": {
    "slideshow": {
     "slide_type": "fragment"
    }
   },
   "outputs": [],
   "source": [
    "colours"
   ]
  },
  {
   "cell_type": "code",
   "execution_count": null,
   "id": "2eef36cd",
   "metadata": {
    "slideshow": {
     "slide_type": "fragment"
    }
   },
   "outputs": [],
   "source": [
    "colours.pop(2)"
   ]
  },
  {
   "cell_type": "code",
   "execution_count": null,
   "id": "e3f88bc7",
   "metadata": {
    "slideshow": {
     "slide_type": "fragment"
    }
   },
   "outputs": [],
   "source": [
    "colours"
   ]
  },
  {
   "cell_type": "markdown",
   "id": "be0cf6e5",
   "metadata": {
    "slideshow": {
     "slide_type": "slide"
    }
   },
   "source": [
    "## `del` operator\n",
    "\n",
    "`del` operator deletes the specified elements without returning them."
   ]
  },
  {
   "cell_type": "code",
   "execution_count": null,
   "id": "0652b9db",
   "metadata": {
    "slideshow": {
     "slide_type": "fragment"
    }
   },
   "outputs": [],
   "source": [
    "colours = [\"green\", \"blue\", \"red\", \"white\", \"black\", \"blue\"]\n",
    "colours"
   ]
  },
  {
   "cell_type": "code",
   "execution_count": null,
   "id": "19ca51ef",
   "metadata": {
    "slideshow": {
     "slide_type": "fragment"
    }
   },
   "outputs": [],
   "source": [
    "del colours[-1]"
   ]
  },
  {
   "cell_type": "code",
   "execution_count": null,
   "id": "5645fb6b",
   "metadata": {
    "slideshow": {
     "slide_type": "fragment"
    }
   },
   "outputs": [],
   "source": [
    "colours"
   ]
  },
  {
   "cell_type": "code",
   "execution_count": null,
   "id": "356b3153",
   "metadata": {
    "slideshow": {
     "slide_type": "fragment"
    }
   },
   "outputs": [],
   "source": [
    "del colours[1:3]"
   ]
  },
  {
   "cell_type": "code",
   "execution_count": null,
   "id": "6354a285",
   "metadata": {
    "slideshow": {
     "slide_type": "fragment"
    }
   },
   "outputs": [],
   "source": [
    "colours"
   ]
  },
  {
   "cell_type": "code",
   "execution_count": null,
   "id": "9182a2dd",
   "metadata": {
    "slideshow": {
     "slide_type": "fragment"
    }
   },
   "outputs": [],
   "source": [
    "del colours"
   ]
  },
  {
   "cell_type": "code",
   "execution_count": null,
   "id": "f72ee663",
   "metadata": {
    "slideshow": {
     "slide_type": "fragment"
    }
   },
   "outputs": [],
   "source": [
    "colours"
   ]
  },
  {
   "cell_type": "markdown",
   "id": "2ea647f0",
   "metadata": {
    "slideshow": {
     "slide_type": "slide"
    }
   },
   "source": [
    "## `clear()`\n",
    "\n",
    "`clear()` empties the contents of a list."
   ]
  },
  {
   "cell_type": "code",
   "execution_count": null,
   "id": "9f03bede",
   "metadata": {
    "slideshow": {
     "slide_type": "fragment"
    }
   },
   "outputs": [],
   "source": [
    "colours = [\"green\", \"blue\", \"red\", \"white\", \"black\", \"blue\"]\n",
    "colours"
   ]
  },
  {
   "cell_type": "code",
   "execution_count": null,
   "id": "ed5e6790",
   "metadata": {
    "slideshow": {
     "slide_type": "fragment"
    }
   },
   "outputs": [],
   "source": [
    "colours.clear()"
   ]
  },
  {
   "cell_type": "code",
   "execution_count": null,
   "id": "16d5767b",
   "metadata": {
    "slideshow": {
     "slide_type": "fragment"
    }
   },
   "outputs": [],
   "source": [
    "colours"
   ]
  },
  {
   "cell_type": "markdown",
   "id": "ac465927",
   "metadata": {
    "slideshow": {
     "slide_type": "slide"
    }
   },
   "source": [
    "## `sort()`\n",
    "\n",
    "`sort()` sorts the elements of a list."
   ]
  },
  {
   "cell_type": "code",
   "execution_count": null,
   "id": "8cb1c1d3",
   "metadata": {
    "slideshow": {
     "slide_type": "fragment"
    }
   },
   "outputs": [],
   "source": [
    "numbers = [33, 24, 40, 70, 18, 78, 14, 98, 63, 50]\n",
    "numbers"
   ]
  },
  {
   "cell_type": "code",
   "execution_count": null,
   "id": "c1a1dc9e",
   "metadata": {
    "slideshow": {
     "slide_type": "fragment"
    }
   },
   "outputs": [],
   "source": [
    "numbers.sort()"
   ]
  },
  {
   "cell_type": "code",
   "execution_count": null,
   "id": "52889e91",
   "metadata": {
    "slideshow": {
     "slide_type": "fragment"
    }
   },
   "outputs": [],
   "source": [
    "numbers"
   ]
  },
  {
   "cell_type": "code",
   "execution_count": null,
   "id": "cdf6f35b",
   "metadata": {
    "slideshow": {
     "slide_type": "fragment"
    }
   },
   "outputs": [],
   "source": [
    "numbers = [33, 24, 40, 70, 18, 78, 14, 98, 63, 50]\n",
    "numbers"
   ]
  },
  {
   "cell_type": "code",
   "execution_count": null,
   "id": "f184d619",
   "metadata": {
    "slideshow": {
     "slide_type": "fragment"
    }
   },
   "outputs": [],
   "source": [
    "numbers.sort(reverse=True)"
   ]
  },
  {
   "cell_type": "code",
   "execution_count": null,
   "id": "f86daa6a",
   "metadata": {
    "slideshow": {
     "slide_type": "fragment"
    }
   },
   "outputs": [],
   "source": [
    "numbers"
   ]
  },
  {
   "cell_type": "markdown",
   "id": "4b279cdf",
   "metadata": {
    "slideshow": {
     "slide_type": "slide"
    }
   },
   "source": [
    "## `sorted()`\n",
    "\n",
    "`sorted()` is a function that returns a new sorted list from an iterable"
   ]
  },
  {
   "cell_type": "code",
   "execution_count": null,
   "id": "041d76e2",
   "metadata": {
    "slideshow": {
     "slide_type": "fragment"
    }
   },
   "outputs": [],
   "source": [
    "numbers = [33, 24, 40, 70, 18, 78, 14, 98, 63, 50]\n",
    "numbers"
   ]
  },
  {
   "cell_type": "code",
   "execution_count": null,
   "id": "95578efb",
   "metadata": {
    "slideshow": {
     "slide_type": "fragment"
    }
   },
   "outputs": [],
   "source": [
    "sorted_numbers = sorted(numbers)\n",
    "sorted_numbers"
   ]
  },
  {
   "cell_type": "code",
   "execution_count": null,
   "id": "5f1d4bd0",
   "metadata": {
    "slideshow": {
     "slide_type": "fragment"
    }
   },
   "outputs": [],
   "source": [
    "numbers"
   ]
  },
  {
   "cell_type": "code",
   "execution_count": null,
   "id": "adb12787",
   "metadata": {
    "slideshow": {
     "slide_type": "fragment"
    }
   },
   "outputs": [],
   "source": [
    "sorted_numbers = sorted(numbers, reverse=True)\n",
    "sorted_numbers"
   ]
  },
  {
   "cell_type": "code",
   "execution_count": null,
   "id": "33031549",
   "metadata": {
    "slideshow": {
     "slide_type": "fragment"
    }
   },
   "outputs": [],
   "source": [
    "numbers"
   ]
  },
  {
   "cell_type": "markdown",
   "id": "0e2f3f25",
   "metadata": {
    "slideshow": {
     "slide_type": "slide"
    }
   },
   "source": [
    "## Nested lists"
   ]
  },
  {
   "cell_type": "code",
   "execution_count": null,
   "id": "c4449a6a",
   "metadata": {
    "slideshow": {
     "slide_type": "fragment"
    }
   },
   "outputs": [],
   "source": [
    "x = [\"John\", \"Doe\", 22, False, [1, 2, 3, 4, 5]]\n",
    "x"
   ]
  },
  {
   "cell_type": "code",
   "execution_count": null,
   "id": "db2073f3",
   "metadata": {
    "slideshow": {
     "slide_type": "fragment"
    }
   },
   "outputs": [],
   "source": [
    "x[4]"
   ]
  },
  {
   "cell_type": "code",
   "execution_count": null,
   "id": "fc766850",
   "metadata": {
    "slideshow": {
     "slide_type": "fragment"
    }
   },
   "outputs": [],
   "source": [
    "x[4][1]"
   ]
  },
  {
   "cell_type": "code",
   "execution_count": null,
   "id": "3f4286b3",
   "metadata": {
    "slideshow": {
     "slide_type": "fragment"
    }
   },
   "outputs": [],
   "source": [
    "x[4][1:4]"
   ]
  },
  {
   "cell_type": "markdown",
   "id": "173085b6",
   "metadata": {
    "slideshow": {
     "slide_type": "slide"
    }
   },
   "source": [
    "## Matrix"
   ]
  },
  {
   "cell_type": "code",
   "execution_count": null,
   "id": "ec961030",
   "metadata": {
    "slideshow": {
     "slide_type": "fragment"
    }
   },
   "outputs": [],
   "source": [
    "matrix = [\n",
    "    [1, 2, 3],\n",
    "    [4, 5, 6],\n",
    "    [7, 8, 9],\n",
    "    [10, 11, 12],\n",
    "]\n",
    "matrix"
   ]
  },
  {
   "cell_type": "code",
   "execution_count": null,
   "id": "4fbeb31a",
   "metadata": {},
   "outputs": [],
   "source": [
    "len(matrix), len(matrix[0])"
   ]
  },
  {
   "cell_type": "code",
   "execution_count": null,
   "id": "d3ac45eb",
   "metadata": {
    "slideshow": {
     "slide_type": "fragment"
    }
   },
   "outputs": [],
   "source": [
    "matrix[0]"
   ]
  },
  {
   "cell_type": "code",
   "execution_count": null,
   "id": "180430b5",
   "metadata": {
    "slideshow": {
     "slide_type": "fragment"
    }
   },
   "outputs": [],
   "source": [
    "matrix[1]"
   ]
  },
  {
   "cell_type": "code",
   "execution_count": null,
   "id": "e59ae98a",
   "metadata": {
    "slideshow": {
     "slide_type": "fragment"
    }
   },
   "outputs": [],
   "source": [
    "matrix[2][1]"
   ]
  },
  {
   "cell_type": "markdown",
   "id": "6c89dcb3",
   "metadata": {
    "slideshow": {
     "slide_type": "slide"
    }
   },
   "source": [
    "## Tensor"
   ]
  },
  {
   "cell_type": "code",
   "execution_count": null,
   "id": "022fa5c2",
   "metadata": {
    "slideshow": {
     "slide_type": "fragment"
    }
   },
   "outputs": [],
   "source": [
    "tensor = [\n",
    "    [\n",
    "        [1, 2, 3],\n",
    "        [4, 5, 6],\n",
    "        [7, 8, 9],\n",
    "    ],\n",
    "    [\n",
    "        [12, 12, 13],\n",
    "        [14, 15, 16],\n",
    "        [17, 18, 19],\n",
    "    ],\n",
    "]\n",
    "tensor"
   ]
  },
  {
   "cell_type": "code",
   "execution_count": null,
   "id": "881340c1",
   "metadata": {
    "slideshow": {
     "slide_type": "fragment"
    }
   },
   "outputs": [],
   "source": [
    "len(tensor), len(tensor[0]), len(tensor[0][0])"
   ]
  },
  {
   "cell_type": "code",
   "execution_count": null,
   "id": "70de7a76",
   "metadata": {
    "slideshow": {
     "slide_type": "fragment"
    }
   },
   "outputs": [],
   "source": [
    "tensor[0]"
   ]
  },
  {
   "cell_type": "code",
   "execution_count": null,
   "id": "94bf3516",
   "metadata": {
    "slideshow": {
     "slide_type": "fragment"
    }
   },
   "outputs": [],
   "source": [
    "tensor[1][2][0]"
   ]
  },
  {
   "cell_type": "markdown",
   "id": "4a9c0a8a",
   "metadata": {
    "slideshow": {
     "slide_type": "slide"
    }
   },
   "source": [
    "## `range` as a sequence of numbers\n",
    "\n",
    "`range` is a type that indicates an immutable sequence of numbers. It is usually used in `for` loops to iterate a specific number of times.\n",
    "\n",
    "`range(start, stop, step)` function is sused to create `range` objects.\n",
    "\n",
    "- `start`: indicates the start of the range (`0` by default)\n",
    "- `stop`: indicates the stop of the range\n",
    "- `step`: indicates the step of the range (`1` by default)\n",
    "\n",
    "The range elements are determined by the following formula:\n",
    "\n",
    "- `r[i] = start + step*i, where i >= 0 and r[i] < stop` if `step` is positive,\n",
    "- `r[i] = start + step*i, where i >= 0 and r[i] > stop` if `step` is negative."
   ]
  },
  {
   "cell_type": "markdown",
   "id": "39a68446",
   "metadata": {
    "slideshow": {
     "slide_type": "subslide"
    }
   },
   "source": [
    "### `range(stop)`"
   ]
  },
  {
   "cell_type": "code",
   "execution_count": null,
   "id": "4fa22135",
   "metadata": {
    "slideshow": {
     "slide_type": "fragment"
    }
   },
   "outputs": [],
   "source": [
    "range(5)"
   ]
  },
  {
   "cell_type": "code",
   "execution_count": null,
   "id": "871869e8",
   "metadata": {
    "slideshow": {
     "slide_type": "fragment"
    }
   },
   "outputs": [],
   "source": [
    "for i in range(5):\n",
    "    print(i)"
   ]
  },
  {
   "cell_type": "code",
   "execution_count": null,
   "id": "464dfe2a",
   "metadata": {
    "slideshow": {
     "slide_type": "fragment"
    }
   },
   "outputs": [],
   "source": [
    "list(range(5))"
   ]
  },
  {
   "cell_type": "markdown",
   "id": "2e562bcf",
   "metadata": {
    "slideshow": {
     "slide_type": "subslide"
    }
   },
   "source": [
    "### `range(start, stop)`"
   ]
  },
  {
   "cell_type": "code",
   "execution_count": null,
   "id": "706a4649",
   "metadata": {
    "slideshow": {
     "slide_type": "fragment"
    }
   },
   "outputs": [],
   "source": [
    "range(-4, 5)"
   ]
  },
  {
   "cell_type": "code",
   "execution_count": null,
   "id": "8c5b9f04",
   "metadata": {
    "slideshow": {
     "slide_type": "fragment"
    }
   },
   "outputs": [],
   "source": [
    "for i in range(-4, 5):\n",
    "    print(i)"
   ]
  },
  {
   "cell_type": "code",
   "execution_count": null,
   "id": "e0620c16",
   "metadata": {
    "slideshow": {
     "slide_type": "fragment"
    }
   },
   "outputs": [],
   "source": [
    "list(range(-4, 5))"
   ]
  },
  {
   "cell_type": "markdown",
   "id": "38446602",
   "metadata": {
    "slideshow": {
     "slide_type": "subslide"
    }
   },
   "source": [
    "### `range(start, stop, step)`"
   ]
  },
  {
   "cell_type": "code",
   "execution_count": null,
   "id": "272a239c",
   "metadata": {
    "slideshow": {
     "slide_type": "fragment"
    }
   },
   "outputs": [],
   "source": [
    "range(1, 10, 0)"
   ]
  },
  {
   "cell_type": "markdown",
   "id": "2be7e4b0",
   "metadata": {
    "slideshow": {
     "slide_type": "subslide"
    }
   },
   "source": [
    "#### Positive step"
   ]
  },
  {
   "cell_type": "code",
   "execution_count": null,
   "id": "af1e29ca",
   "metadata": {
    "slideshow": {
     "slide_type": "fragment"
    }
   },
   "outputs": [],
   "source": [
    "range(0, 100, 20)"
   ]
  },
  {
   "cell_type": "code",
   "execution_count": null,
   "id": "18dc7814",
   "metadata": {
    "slideshow": {
     "slide_type": "fragment"
    }
   },
   "outputs": [],
   "source": [
    "for i in range(0, 101, 20):\n",
    "    print(i)"
   ]
  },
  {
   "cell_type": "code",
   "execution_count": null,
   "id": "dd5340e0",
   "metadata": {
    "slideshow": {
     "slide_type": "fragment"
    }
   },
   "outputs": [],
   "source": [
    "list(range(0, 100, 20))"
   ]
  },
  {
   "cell_type": "markdown",
   "id": "86a48f18",
   "metadata": {
    "slideshow": {
     "slide_type": "subslide"
    }
   },
   "source": [
    "#### Negative step"
   ]
  },
  {
   "cell_type": "code",
   "execution_count": null,
   "id": "30645fd5",
   "metadata": {},
   "outputs": [],
   "source": [
    "range(10 ** 9)"
   ]
  },
  {
   "cell_type": "code",
   "execution_count": null,
   "id": "2f1cd7a1",
   "metadata": {
    "slideshow": {
     "slide_type": "fragment"
    }
   },
   "outputs": [],
   "source": [
    "range(10, 0, -1)"
   ]
  },
  {
   "cell_type": "code",
   "execution_count": null,
   "id": "cd85f6e7",
   "metadata": {
    "scrolled": true,
    "slideshow": {
     "slide_type": "fragment"
    }
   },
   "outputs": [],
   "source": [
    "for i in range(10, 0, -1):\n",
    "    print(i)"
   ]
  },
  {
   "cell_type": "code",
   "execution_count": null,
   "id": "91a64712",
   "metadata": {
    "slideshow": {
     "slide_type": "fragment"
    }
   },
   "outputs": [],
   "source": [
    "list(range(10, 0, -1))"
   ]
  },
  {
   "cell_type": "markdown",
   "id": "53223991",
   "metadata": {
    "slideshow": {
     "slide_type": "slide"
    }
   },
   "source": [
    "## List creation\n",
    "\n",
    "We usually need to create a list of items. For example, we can use the following code snippet to create a list of numbers squared.\n",
    "\n",
    "```python\n",
    "lst = []\n",
    "for item in sequence:\n",
    "    lst.append(expression)\n",
    "lst\n",
    "```\n",
    "\n",
    "However, there is a more elegant and Pythonic way to perform it."
   ]
  },
  {
   "cell_type": "code",
   "execution_count": null,
   "id": "c06f41a0",
   "metadata": {
    "slideshow": {
     "slide_type": "fragment"
    }
   },
   "outputs": [],
   "source": [
    "squares = []\n",
    "for i in range(11):\n",
    "    squares.append(i ** 2)\n",
    "squares"
   ]
  },
  {
   "cell_type": "markdown",
   "id": "1f01cdf5",
   "metadata": {
    "slideshow": {
     "slide_type": "slide"
    }
   },
   "source": [
    "## List comprehensions"
   ]
  },
  {
   "cell_type": "markdown",
   "id": "75e9421c",
   "metadata": {
    "slideshow": {
     "slide_type": "fragment"
    }
   },
   "source": [
    "Python allows us to use the declarative style of list comprehension expressions to create lists.\n",
    "\n",
    "```python\n",
    "[expression for item in sequence]\n",
    "```\n",
    "\n",
    "- `expression` is any valid expression that usually depends on the value of `item`.\n",
    "- `item` is an element from `sequence`.\n",
    "- `sequence` is an iterable."
   ]
  },
  {
   "cell_type": "code",
   "execution_count": null,
   "id": "3d9db49e",
   "metadata": {
    "slideshow": {
     "slide_type": "fragment"
    }
   },
   "outputs": [],
   "source": [
    "squares = [i ** 2 for i in range(11)]\n",
    "squares"
   ]
  },
  {
   "cell_type": "markdown",
   "id": "19661576",
   "metadata": {
    "slideshow": {
     "slide_type": "slide"
    }
   },
   "source": [
    "## Using conditions for filtering\n",
    "\n",
    "```python\n",
    "[expression for item in sequence if condition]\n",
    "```\n",
    "\n",
    "- `expression` is any valid expression that usually depends on the value of `item`.\n",
    "- `item` is an element from `sequence`.\n",
    "- `sequence` is an iterable.\n",
    "- `condition` is a conditional expression."
   ]
  },
  {
   "cell_type": "code",
   "execution_count": null,
   "id": "70a3ea3b",
   "metadata": {
    "slideshow": {
     "slide_type": "fragment"
    }
   },
   "outputs": [],
   "source": [
    "even_squares = [i ** 2 for i in range(11) if i % 2 == 0]\n",
    "even_squares"
   ]
  },
  {
   "cell_type": "markdown",
   "id": "3962b5f9",
   "metadata": {
    "slideshow": {
     "slide_type": "slide"
    }
   },
   "source": [
    "## Multiple `for` statements in listcomps"
   ]
  },
  {
   "cell_type": "code",
   "execution_count": null,
   "id": "bf24ecca",
   "metadata": {
    "slideshow": {
     "slide_type": "fragment"
    }
   },
   "outputs": [],
   "source": [
    "cartesian_product = []\n",
    "for i in range(3):\n",
    "    for j in range(3, 6):\n",
    "        cartesian_product.append([i, j])\n",
    "cartesian_product"
   ]
  },
  {
   "cell_type": "code",
   "execution_count": null,
   "id": "c1379bed",
   "metadata": {
    "slideshow": {
     "slide_type": "fragment"
    }
   },
   "outputs": [],
   "source": [
    "cartesian_product = [[i, j] for i in range(3) for j in range(3, 6)]\n",
    "cartesian_product"
   ]
  },
  {
   "cell_type": "code",
   "execution_count": null,
   "id": "8b27aa89",
   "metadata": {
    "slideshow": {
     "slide_type": "fragment"
    }
   },
   "outputs": [],
   "source": [
    "cartesian_product = [i * j for i in range(3) for j in range(3, 6) if j - i > 2]\n",
    "cartesian_product"
   ]
  },
  {
   "cell_type": "markdown",
   "id": "ebbd6300",
   "metadata": {
    "slideshow": {
     "slide_type": "slide"
    }
   },
   "source": [
    "## Nested list comprehensions\n",
    "\n",
    "`expression` in the list comprehension can be any valid Python expression, including another list comprehension expression.\n",
    "\n",
    "```python\n",
    "[[expression for item_inner in sequence_inner] for item_outer in sequence_outer]\n",
    "```"
   ]
  },
  {
   "cell_type": "code",
   "execution_count": null,
   "id": "782143a8",
   "metadata": {
    "slideshow": {
     "slide_type": "fragment"
    }
   },
   "outputs": [],
   "source": [
    "matrix = [\n",
    "    [1, 2, 3],\n",
    "    [4, 5, 6],\n",
    "    [7, 8, 9],\n",
    "    [10, 11, 12],\n",
    "]\n",
    "matrix"
   ]
  },
  {
   "cell_type": "code",
   "execution_count": null,
   "id": "d0948fdc",
   "metadata": {
    "slideshow": {
     "slide_type": "fragment"
    }
   },
   "outputs": [],
   "source": [
    "number_of_columns = len(matrix[0])\n",
    "matrix_transposed = [[row[column] for row in matrix] for column in range(number_of_columns)]\n",
    "matrix_transposed"
   ]
  },
  {
   "cell_type": "markdown",
   "id": "188788e4",
   "metadata": {
    "slideshow": {
     "slide_type": "slide"
    }
   },
   "source": [
    "## Equivalent statements without listcomps"
   ]
  },
  {
   "cell_type": "code",
   "execution_count": null,
   "id": "f0487eec",
   "metadata": {
    "slideshow": {
     "slide_type": "fragment"
    }
   },
   "outputs": [],
   "source": [
    "number_of_columns = len(matrix[0])\n",
    "matrix_transposed = []\n",
    "for column in range(number_of_columns):\n",
    "    matrix_transposed.append([row[column] for row in matrix])\n",
    "matrix_transposed"
   ]
  },
  {
   "cell_type": "code",
   "execution_count": null,
   "id": "ecc311fa",
   "metadata": {
    "slideshow": {
     "slide_type": "fragment"
    }
   },
   "outputs": [],
   "source": [
    "number_of_columns = len(matrix[0])\n",
    "matrix_transposed = []\n",
    "for column in range(number_of_columns):\n",
    "    transposed_row = []\n",
    "    for row in matrix:\n",
    "        transposed_row.append(row[column])\n",
    "    matrix_transposed.append(transposed_row)\n",
    "matrix_transposed"
   ]
  },
  {
   "cell_type": "markdown",
   "id": "f25e89c5",
   "metadata": {
    "slideshow": {
     "slide_type": "slide"
    }
   },
   "source": [
    "# Tuples\n",
    "\n",
    "Tuples are an immutable sequence of values. They are usually defined by using round brackets `()` or `tuple()` constructor function."
   ]
  },
  {
   "cell_type": "code",
   "execution_count": null,
   "id": "a894add7",
   "metadata": {
    "slideshow": {
     "slide_type": "fragment"
    }
   },
   "outputs": [],
   "source": [
    "t = 1, 2, 3\n",
    "t"
   ]
  },
  {
   "cell_type": "code",
   "execution_count": null,
   "id": "bb5ee61f",
   "metadata": {
    "slideshow": {
     "slide_type": "fragment"
    }
   },
   "outputs": [],
   "source": [
    "t = (1, 2, 3)\n",
    "t"
   ]
  },
  {
   "cell_type": "code",
   "execution_count": null,
   "id": "e796cd11",
   "metadata": {
    "slideshow": {
     "slide_type": "fragment"
    }
   },
   "outputs": [],
   "source": [
    "t = tuple([1, 2, 3])\n",
    "t"
   ]
  },
  {
   "cell_type": "code",
   "execution_count": null,
   "id": "936f6940",
   "metadata": {
    "slideshow": {
     "slide_type": "fragment"
    }
   },
   "outputs": [],
   "source": [
    "t = (\"John\", \"Doe\", 42, True)\n",
    "t"
   ]
  },
  {
   "cell_type": "code",
   "execution_count": null,
   "id": "eec91c17",
   "metadata": {
    "slideshow": {
     "slide_type": "subslide"
    }
   },
   "outputs": [],
   "source": [
    "empty_tuple = ()\n",
    "empty_tuple"
   ]
  },
  {
   "cell_type": "code",
   "execution_count": null,
   "id": "b28ffcbe",
   "metadata": {
    "slideshow": {
     "slide_type": "fragment"
    }
   },
   "outputs": [],
   "source": [
    "empty_tuple = tuple()\n",
    "empty_tuple"
   ]
  },
  {
   "cell_type": "code",
   "execution_count": null,
   "id": "94ed92d5",
   "metadata": {
    "slideshow": {
     "slide_type": "fragment"
    }
   },
   "outputs": [],
   "source": [
    "t = (1,)\n",
    "t"
   ]
  }
 ],
 "metadata": {
  "celltoolbar": "Slideshow",
  "kernelspec": {
   "display_name": "Python 3 (ipykernel)",
   "language": "python",
   "name": "python3"
  },
  "language_info": {
   "codemirror_mode": {
    "name": "ipython",
    "version": 3
   },
   "file_extension": ".py",
   "mimetype": "text/x-python",
   "name": "python",
   "nbconvert_exporter": "python",
   "pygments_lexer": "ipython3",
   "version": "3.8.10"
  }
 },
 "nbformat": 4,
 "nbformat_minor": 5
}
