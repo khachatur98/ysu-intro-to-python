{
 "cells": [
  {
   "attachments": {},
   "cell_type": "markdown",
   "id": "d6515b7c",
   "metadata": {
    "slideshow": {
     "slide_type": "slide"
    }
   },
   "source": [
    "# Programming with Python\n",
    "\n",
    "## Lecture 03: Expressions, statements and operators\n",
    "\n",
    "### Khachatur Khechoyan\n",
    "\n",
    "#### Yerevan State University\n",
    "#### Portmind"
   ]
  },
  {
   "attachments": {},
   "cell_type": "markdown",
   "id": "b3a42831",
   "metadata": {},
   "source": [
    "# Some mathematical operators\n"
   ]
  },
  {
   "cell_type": "code",
   "execution_count": null,
   "id": "7836bf5e",
   "metadata": {},
   "outputs": [],
   "source": [
    "minimum = min(47, 95, 88, 73, 88, 84) # returns the minimum of the numbers\n",
    "\n",
    "print(minimum)"
   ]
  },
  {
   "cell_type": "code",
   "execution_count": null,
   "id": "45fcd40d",
   "metadata": {},
   "outputs": [],
   "source": [
    "maximum = max(47, 95, 88, 73, 88, 84) # returns the maximum of the numbers\n",
    "\n",
    "print(maximum)"
   ]
  },
  {
   "cell_type": "code",
   "execution_count": null,
   "id": "61f57485",
   "metadata": {},
   "outputs": [],
   "source": [
    "absolute = abs(100) # returns the absolute value of the number\n",
    "print(absolute)\n",
    "absolute = abs(-100) # returns the absolute value of the number\n",
    "print(absolute)\n"
   ]
  },
  {
   "cell_type": "code",
   "execution_count": null,
   "id": "0011e668",
   "metadata": {},
   "outputs": [],
   "source": [
    "print(pow(2, 3)) # returns 2 to the power of 3, equivalent to 2 ** 3\n",
    "print(pow(1.1, 5.5))"
   ]
  },
  {
   "cell_type": "code",
   "execution_count": null,
   "id": "8e94d4f3",
   "metadata": {},
   "outputs": [],
   "source": [
    "print(round(3.49)) # returns 3\n",
    "print(round(3.5)) # returns 4\n",
    "print(round(3.51)) # returns 4\n",
    "print(round(3.49, 1)) # returns 3.5\n",
    "print(round(3.44, 1)) # returns 3.4"
   ]
  },
  {
   "cell_type": "code",
   "execution_count": null,
   "id": "2ee41d9e",
   "metadata": {},
   "outputs": [],
   "source": [
    "# from math import floor, ceil\n",
    "\n",
    "import math\n",
    "\n",
    "print(math.floor(3.9)) # returns 3\n",
    "print(math.floor(3.1)) # returns 3\n",
    "print(math.ceil(3.9)) # returns 4\n",
    "print(math.ceil(3.1)) # returns 4"
   ]
  },
  {
   "cell_type": "code",
   "execution_count": null,
   "id": "57c68a36",
   "metadata": {},
   "outputs": [],
   "source": [
    "print(math.floor(-3.9)) # returns what?\n",
    "print(math.ceil(-3.9)) # returns what?"
   ]
  },
  {
   "cell_type": "code",
   "execution_count": null,
   "id": "c0fa8388",
   "metadata": {},
   "outputs": [],
   "source": [
    "print(math.pi)\n",
    "print(math.e)\n",
    "print(math.sin(math.pi/2))\n",
    "print(math.cos(math.pi/2))\n",
    "print(math.tan(math.pi/2))\n",
    "print(math.radians(360))"
   ]
  },
  {
   "attachments": {},
   "cell_type": "markdown",
   "id": "867642f8",
   "metadata": {},
   "source": [
    "### Exercise 1: define variables a, b, c and d and assign them values 1, 2, 3 and 4 respectively.\n",
    "\n",
    "### Evaluate the following expressions:\n",
    "\n",
    "#### 1. $\\frac{a + \\frac{b}{c}}{b^2+d}$\n",
    "#### 2. $cos^2(d) + sin^2(d)$"
   ]
  },
  {
   "attachments": {},
   "cell_type": "markdown",
   "id": "4904a7ab",
   "metadata": {
    "slideshow": {
     "slide_type": "slide"
    }
   },
   "source": [
    "# Truthy and falsy values\n",
    "\n",
    "Any object can be tested for truth value, for use in an `if` or `while` condition or as operand of the Boolean operations below (i.e. `or`, `and`, `not`).\n",
    "\n",
    "If a value evaluates to `True` in a Boolean context, then it is a truthy value. Otherwise, it is a falsy value.\n",
    "\n",
    "Reference: [Python documentation](https://docs.python.org/3/library/stdtypes.html#truth-value-testing)"
   ]
  },
  {
   "attachments": {},
   "cell_type": "markdown",
   "id": "a60c4ffd",
   "metadata": {
    "slideshow": {
     "slide_type": "subslide"
    }
   },
   "source": [
    "## bool() function\n",
    "\n",
    "`bool()` is a built-in function that can be used for truth value testing."
   ]
  },
  {
   "cell_type": "code",
   "execution_count": null,
   "id": "a8ad4f51",
   "metadata": {
    "slideshow": {
     "slide_type": "fragment"
    }
   },
   "outputs": [],
   "source": [
    "x = 42\n",
    "\n",
    "bool(x)"
   ]
  },
  {
   "attachments": {},
   "cell_type": "markdown",
   "id": "59555fba",
   "metadata": {
    "slideshow": {
     "slide_type": "subslide"
    }
   },
   "source": [
    "## Truthy values\n",
    "\n",
    "By default, an object is considered true unless its class defines special methods and changes this behavior.\n",
    "\n",
    "For example:\n",
    "\n",
    "- `True`\n",
    "- Non-zero numeric values\n",
    "- Non-empty sequences or collections\n",
    "\n",
    "Reference: [Python documentation](https://docs.python.org/3/library/stdtypes.html#truth-value-testing)"
   ]
  },
  {
   "cell_type": "code",
   "execution_count": null,
   "id": "535931ab",
   "metadata": {
    "slideshow": {
     "slide_type": "fragment"
    }
   },
   "outputs": [],
   "source": [
    "bool(True)"
   ]
  },
  {
   "cell_type": "code",
   "execution_count": null,
   "id": "5ff4cd11",
   "metadata": {
    "slideshow": {
     "slide_type": "fragment"
    }
   },
   "outputs": [],
   "source": [
    "bool(7)"
   ]
  },
  {
   "cell_type": "code",
   "execution_count": null,
   "id": "d9038fd4",
   "metadata": {},
   "outputs": [],
   "source": [
    "bool(-1)"
   ]
  },
  {
   "cell_type": "code",
   "execution_count": null,
   "id": "2b3106be",
   "metadata": {
    "slideshow": {
     "slide_type": "fragment"
    }
   },
   "outputs": [],
   "source": [
    "bool(\"hello world\")"
   ]
  },
  {
   "attachments": {},
   "cell_type": "markdown",
   "id": "0d7edae0",
   "metadata": {
    "slideshow": {
     "slide_type": "subslide"
    }
   },
   "source": [
    "## Falsy values\n",
    "\n",
    "- Constants\n",
    "    - `False`\n",
    "    - `None`\n",
    "- Zero of any numeric type\n",
    "    - `0`\n",
    "    - `0.0`\n",
    "    - `0j`\n",
    "    - `Decimal(0)`\n",
    "    - `Fraction(0, 1)`\n",
    "\n",
    "- Empty sequences and collections\n",
    "    - `''`\n",
    "    - `()`\n",
    "    - `[]`\n",
    "    - `{}`\n",
    "    - `set()`\n",
    "    - `range(0)`\n",
    "\n",
    "Reference: [Python documentation](https://docs.python.org/3/library/stdtypes.html#truth-value-testing)"
   ]
  },
  {
   "attachments": {},
   "cell_type": "markdown",
   "id": "7dea5d7b",
   "metadata": {
    "slideshow": {
     "slide_type": "subslide"
    }
   },
   "source": [
    "### Constants"
   ]
  },
  {
   "cell_type": "code",
   "execution_count": null,
   "id": "7a691a34",
   "metadata": {
    "slideshow": {
     "slide_type": "fragment"
    }
   },
   "outputs": [],
   "source": [
    "bool(False)"
   ]
  },
  {
   "cell_type": "code",
   "execution_count": null,
   "id": "9a66ce74",
   "metadata": {
    "slideshow": {
     "slide_type": "fragment"
    }
   },
   "outputs": [],
   "source": [
    "bool(None)"
   ]
  },
  {
   "attachments": {},
   "cell_type": "markdown",
   "id": "b4d21b71",
   "metadata": {
    "slideshow": {
     "slide_type": "subslide"
    }
   },
   "source": [
    "### Numeric types"
   ]
  },
  {
   "cell_type": "code",
   "execution_count": null,
   "id": "58621130",
   "metadata": {
    "slideshow": {
     "slide_type": "fragment"
    }
   },
   "outputs": [],
   "source": [
    "bool(0)"
   ]
  },
  {
   "cell_type": "code",
   "execution_count": null,
   "id": "deb6727f",
   "metadata": {
    "slideshow": {
     "slide_type": "fragment"
    }
   },
   "outputs": [],
   "source": [
    "bool(0.0)"
   ]
  },
  {
   "cell_type": "code",
   "execution_count": null,
   "id": "b50f8aaf",
   "metadata": {
    "slideshow": {
     "slide_type": "fragment"
    }
   },
   "outputs": [],
   "source": [
    "bool(0j)"
   ]
  },
  {
   "cell_type": "code",
   "execution_count": null,
   "id": "0291657f",
   "metadata": {
    "slideshow": {
     "slide_type": "fragment"
    }
   },
   "outputs": [],
   "source": [
    "# from decimal import Decimal\n",
    "\n",
    "# bool(Decimal(0))\n",
    "\n",
    "import decimal\n",
    "\n",
    "bool(decimal.Decimal(0))"
   ]
  },
  {
   "cell_type": "code",
   "execution_count": null,
   "id": "b1c2a64b",
   "metadata": {
    "slideshow": {
     "slide_type": "fragment"
    }
   },
   "outputs": [],
   "source": [
    "from fractions import Fraction\n",
    "\n",
    "bool(Fraction(0, 1))"
   ]
  },
  {
   "cell_type": "code",
   "execution_count": null,
   "id": "1bb7544a",
   "metadata": {},
   "outputs": [],
   "source": [
    "0.1+0.2"
   ]
  },
  {
   "cell_type": "code",
   "execution_count": null,
   "id": "02d315d8",
   "metadata": {},
   "outputs": [],
   "source": [
    "Fraction(1, 10) + Fraction(2, 10)"
   ]
  },
  {
   "attachments": {},
   "cell_type": "markdown",
   "id": "de190b6c",
   "metadata": {
    "slideshow": {
     "slide_type": "subslide"
    }
   },
   "source": [
    "### Sequences and collections"
   ]
  },
  {
   "cell_type": "code",
   "execution_count": null,
   "id": "c7de8635",
   "metadata": {
    "slideshow": {
     "slide_type": "fragment"
    }
   },
   "outputs": [],
   "source": [
    "bool('')"
   ]
  },
  {
   "cell_type": "code",
   "execution_count": null,
   "id": "cb38b9ee",
   "metadata": {
    "slideshow": {
     "slide_type": "fragment"
    }
   },
   "outputs": [],
   "source": [
    "bool(())"
   ]
  },
  {
   "cell_type": "code",
   "execution_count": null,
   "id": "7fb4a240",
   "metadata": {
    "slideshow": {
     "slide_type": "fragment"
    }
   },
   "outputs": [],
   "source": [
    "bool([])"
   ]
  },
  {
   "cell_type": "code",
   "execution_count": null,
   "id": "e447377c",
   "metadata": {
    "slideshow": {
     "slide_type": "fragment"
    }
   },
   "outputs": [],
   "source": [
    "bool({})"
   ]
  },
  {
   "cell_type": "code",
   "execution_count": null,
   "id": "e2689cb0",
   "metadata": {
    "slideshow": {
     "slide_type": "fragment"
    }
   },
   "outputs": [],
   "source": [
    "bool(set())"
   ]
  },
  {
   "cell_type": "code",
   "execution_count": null,
   "id": "b1effafe",
   "metadata": {
    "slideshow": {
     "slide_type": "fragment"
    }
   },
   "outputs": [],
   "source": [
    "bool(range(0))"
   ]
  },
  {
   "attachments": {},
   "cell_type": "markdown",
   "id": "c7e96efc",
   "metadata": {
    "slideshow": {
     "slide_type": "slide"
    }
   },
   "source": [
    "# Comparison operators\n",
    "\n",
    "| Operator | Name                  | Example | Meaning                                   |\n",
    "|----------|-----------------------|---------|-------------------------------------------|\n",
    "| ==       | Equal                 | x == y  | Checks if x is equal to y                 |\n",
    "| !=       | Not equal             | x != y  | Checks if x is not equal to y             |\n",
    "| <        | Strictly less than    | x < y   | Checks if x is less than y                |\n",
    "| <=       | Less than or equal    | x <= y  | Checks if x is less than or equal to y    |\n",
    "| >        | Strictly greater than | x > y   | Checks if x is greater than y             |\n",
    "| >=       | Greater than or equal | x >= y  | Checks if x is greater than or equal to y |"
   ]
  },
  {
   "attachments": {},
   "cell_type": "markdown",
   "id": "e8e8a5ef",
   "metadata": {
    "slideshow": {
     "slide_type": "subslide"
    }
   },
   "source": [
    "## Equal"
   ]
  },
  {
   "cell_type": "code",
   "execution_count": null,
   "id": "e2fb8c48",
   "metadata": {
    "slideshow": {
     "slide_type": "fragment"
    }
   },
   "outputs": [],
   "source": [
    "x = 5\n",
    "y = 5\n",
    "\n",
    "x == y, type(x == y)"
   ]
  },
  {
   "cell_type": "code",
   "execution_count": null,
   "id": "ed7fc2dd",
   "metadata": {
    "slideshow": {
     "slide_type": "fragment"
    }
   },
   "outputs": [],
   "source": [
    "x = 5\n",
    "y = 8\n",
    "\n",
    "x == y, type(x == y)"
   ]
  },
  {
   "cell_type": "code",
   "execution_count": null,
   "id": "ef61a3a1",
   "metadata": {
    "slideshow": {
     "slide_type": "fragment"
    }
   },
   "outputs": [],
   "source": [
    "x = \"Batman\"\n",
    "y = 'Batman'\n",
    "\n",
    "x == y, type(x == y)"
   ]
  },
  {
   "cell_type": "code",
   "execution_count": null,
   "id": "c5ec9af8",
   "metadata": {
    "slideshow": {
     "slide_type": "fragment"
    }
   },
   "outputs": [],
   "source": [
    "x = \"Batman\"\n",
    "y = 'Bat man'\n",
    "\n",
    "x == y, type(x == y)"
   ]
  },
  {
   "attachments": {},
   "cell_type": "markdown",
   "id": "766e97c4",
   "metadata": {
    "slideshow": {
     "slide_type": "subslide"
    }
   },
   "source": [
    "### Note on floating-point numbers\n",
    "\n",
    "- Unexpected results happen because of rounding errors in floating-point numbers."
   ]
  },
  {
   "cell_type": "code",
   "execution_count": null,
   "id": "749f4558",
   "metadata": {
    "slideshow": {
     "slide_type": "fragment"
    }
   },
   "outputs": [],
   "source": [
    "1.1 + 2.2"
   ]
  },
  {
   "cell_type": "code",
   "execution_count": null,
   "id": "0ee0c34f",
   "metadata": {
    "slideshow": {
     "slide_type": "fragment"
    }
   },
   "outputs": [],
   "source": [
    "x = 1.1 + 2.2\n",
    "y = 3.3\n",
    "\n",
    "x == y, type(x == y)"
   ]
  },
  {
   "cell_type": "code",
   "execution_count": null,
   "id": "a70daa4f",
   "metadata": {
    "slideshow": {
     "slide_type": "fragment"
    }
   },
   "outputs": [],
   "source": [
    "x = 1.1 + 2.2\n",
    "y = 3.3\n",
    "\n",
    "math.isclose(x, y), type(math.isclose(x, y))"
   ]
  },
  {
   "attachments": {},
   "cell_type": "markdown",
   "id": "3d74f940",
   "metadata": {
    "slideshow": {
     "slide_type": "subslide"
    }
   },
   "source": [
    "## Not equal"
   ]
  },
  {
   "cell_type": "code",
   "execution_count": null,
   "id": "8dbe9a6e",
   "metadata": {
    "slideshow": {
     "slide_type": "fragment"
    }
   },
   "outputs": [],
   "source": [
    "x = 5\n",
    "y = 5\n",
    "\n",
    "x != y, type(x != y)"
   ]
  },
  {
   "cell_type": "code",
   "execution_count": null,
   "id": "e745a275",
   "metadata": {
    "slideshow": {
     "slide_type": "fragment"
    }
   },
   "outputs": [],
   "source": [
    "x = 5\n",
    "y = 8\n",
    "\n",
    "x != y, type(x != y)"
   ]
  },
  {
   "cell_type": "code",
   "execution_count": null,
   "id": "ee2ec617",
   "metadata": {
    "slideshow": {
     "slide_type": "fragment"
    }
   },
   "outputs": [],
   "source": [
    "x = \"Batman\"\n",
    "y = 'Batman'\n",
    "\n",
    "x != y, type(x != y)"
   ]
  },
  {
   "cell_type": "code",
   "execution_count": null,
   "id": "367d1cdd",
   "metadata": {
    "slideshow": {
     "slide_type": "fragment"
    }
   },
   "outputs": [],
   "source": [
    "x = \"Batman\"\n",
    "y = 'Bat man'\n",
    "\n",
    "x != y, type(x != y)"
   ]
  },
  {
   "attachments": {},
   "cell_type": "markdown",
   "id": "85d31daa",
   "metadata": {
    "slideshow": {
     "slide_type": "subslide"
    }
   },
   "source": [
    "## Strictly less than"
   ]
  },
  {
   "cell_type": "code",
   "execution_count": null,
   "id": "4abf76d6",
   "metadata": {
    "slideshow": {
     "slide_type": "fragment"
    }
   },
   "outputs": [],
   "source": [
    "x = 15\n",
    "y = 5\n",
    "\n",
    "x < y, type(x < y)"
   ]
  },
  {
   "cell_type": "code",
   "execution_count": null,
   "id": "28d9c12f",
   "metadata": {
    "slideshow": {
     "slide_type": "fragment"
    }
   },
   "outputs": [],
   "source": [
    "x = 5\n",
    "y = 5\n",
    "\n",
    "x < y, type(x < y)"
   ]
  },
  {
   "cell_type": "code",
   "execution_count": null,
   "id": "212bcd8d",
   "metadata": {
    "slideshow": {
     "slide_type": "fragment"
    }
   },
   "outputs": [],
   "source": [
    "x = 5\n",
    "y = 8\n",
    "\n",
    "x < y, type(x < y)"
   ]
  },
  {
   "cell_type": "code",
   "execution_count": null,
   "id": "3ba9e36c",
   "metadata": {
    "slideshow": {
     "slide_type": "fragment"
    }
   },
   "outputs": [],
   "source": [
    "x = 1 + 3j\n",
    "y = 2 - 4j\n",
    "\n",
    "x < y, type(x < y)"
   ]
  },
  {
   "attachments": {},
   "cell_type": "markdown",
   "id": "46a5efd8",
   "metadata": {
    "slideshow": {
     "slide_type": "subslide"
    }
   },
   "source": [
    "## Less than or equal"
   ]
  },
  {
   "cell_type": "code",
   "execution_count": null,
   "id": "d482a442",
   "metadata": {
    "slideshow": {
     "slide_type": "fragment"
    }
   },
   "outputs": [],
   "source": [
    "x = 15\n",
    "y = 5\n",
    "\n",
    "x <= y, type(x <= y)"
   ]
  },
  {
   "cell_type": "code",
   "execution_count": null,
   "id": "fbe64643",
   "metadata": {
    "slideshow": {
     "slide_type": "fragment"
    }
   },
   "outputs": [],
   "source": [
    "x = 5\n",
    "y = 5\n",
    "\n",
    "x <= y, type(x <= y)"
   ]
  },
  {
   "cell_type": "code",
   "execution_count": null,
   "id": "7a9d243d",
   "metadata": {
    "slideshow": {
     "slide_type": "fragment"
    }
   },
   "outputs": [],
   "source": [
    "x = 5\n",
    "y = 8\n",
    "\n",
    "x <= y, type(x <= y)"
   ]
  },
  {
   "cell_type": "code",
   "execution_count": null,
   "id": "1707dfd7",
   "metadata": {
    "slideshow": {
     "slide_type": "fragment"
    }
   },
   "outputs": [],
   "source": [
    "x = 1 + 3j\n",
    "y = 2 - 4j\n",
    "\n",
    "x <= y, type(x <= y)"
   ]
  },
  {
   "attachments": {},
   "cell_type": "markdown",
   "id": "1774fe66",
   "metadata": {
    "slideshow": {
     "slide_type": "subslide"
    }
   },
   "source": [
    "## Strictly greater than"
   ]
  },
  {
   "cell_type": "code",
   "execution_count": null,
   "id": "7acbc399",
   "metadata": {
    "slideshow": {
     "slide_type": "fragment"
    }
   },
   "outputs": [],
   "source": [
    "x = 15\n",
    "y = 5\n",
    "\n",
    "x > y, type(x > y)"
   ]
  },
  {
   "cell_type": "code",
   "execution_count": null,
   "id": "0a2d6ebd",
   "metadata": {
    "slideshow": {
     "slide_type": "fragment"
    }
   },
   "outputs": [],
   "source": [
    "x = 5\n",
    "y = 5\n",
    "\n",
    "x > y, type(x > y)"
   ]
  },
  {
   "cell_type": "code",
   "execution_count": null,
   "id": "ab87057b",
   "metadata": {
    "slideshow": {
     "slide_type": "fragment"
    }
   },
   "outputs": [],
   "source": [
    "x = 5\n",
    "y = 8\n",
    "\n",
    "x > y, type(x > y)"
   ]
  },
  {
   "cell_type": "code",
   "execution_count": null,
   "id": "9b8f9e3e",
   "metadata": {
    "slideshow": {
     "slide_type": "fragment"
    }
   },
   "outputs": [],
   "source": [
    "x = 1 + 3j\n",
    "y = 2 - 4j\n",
    "\n",
    "x > y, type(x > y)"
   ]
  },
  {
   "attachments": {},
   "cell_type": "markdown",
   "id": "104b1283",
   "metadata": {
    "slideshow": {
     "slide_type": "slide"
    }
   },
   "source": [
    "## Greater than or equal"
   ]
  },
  {
   "cell_type": "code",
   "execution_count": null,
   "id": "6464c528",
   "metadata": {
    "slideshow": {
     "slide_type": "fragment"
    }
   },
   "outputs": [],
   "source": [
    "x = 15\n",
    "y = 5\n",
    "\n",
    "x >= y, type(x >= y)"
   ]
  },
  {
   "cell_type": "code",
   "execution_count": null,
   "id": "46ee3701",
   "metadata": {
    "slideshow": {
     "slide_type": "fragment"
    }
   },
   "outputs": [],
   "source": [
    "x = 5\n",
    "y = 5\n",
    "\n",
    "x >= y, type(x >= y)"
   ]
  },
  {
   "cell_type": "code",
   "execution_count": null,
   "id": "dcb61346",
   "metadata": {
    "slideshow": {
     "slide_type": "fragment"
    }
   },
   "outputs": [],
   "source": [
    "x = 5\n",
    "y = 8\n",
    "\n",
    "x >= y, type(x >= y)"
   ]
  },
  {
   "cell_type": "code",
   "execution_count": null,
   "id": "0818fb96",
   "metadata": {
    "scrolled": true,
    "slideshow": {
     "slide_type": "fragment"
    }
   },
   "outputs": [],
   "source": [
    "x = 1 + 3j\n",
    "y = 2 - 4j\n",
    "\n",
    "x >= y, type(x >= y)"
   ]
  },
  {
   "cell_type": "code",
   "execution_count": null,
   "id": "ccf377ad",
   "metadata": {},
   "outputs": [],
   "source": []
  }
 ],
 "metadata": {
  "celltoolbar": "Slideshow",
  "kernelspec": {
   "display_name": "Python 3 (ipykernel)",
   "language": "python",
   "name": "python3"
  },
  "language_info": {
   "codemirror_mode": {
    "name": "ipython",
    "version": 3
   },
   "file_extension": ".py",
   "mimetype": "text/x-python",
   "name": "python",
   "nbconvert_exporter": "python",
   "pygments_lexer": "ipython3",
   "version": "3.11.5"
  },
  "vscode": {
   "interpreter": {
    "hash": "916dbcbb3f70747c44a77c7bcd40155683ae19c65e1c03b4aa3499c5328201f1"
   }
  }
 },
 "nbformat": 4,
 "nbformat_minor": 5
}
