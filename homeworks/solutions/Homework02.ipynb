{
 "cells": [
  {
   "cell_type": "markdown",
   "metadata": {},
   "source": [
    "# Problem 1"
   ]
  },
  {
   "cell_type": "code",
   "execution_count": null,
   "metadata": {},
   "outputs": [],
   "source": [
    "print((1.2*3.67**4-4.3**2*14.89*5.2) / (1+2+3+4+5+6+7+8+9))\n",
    "print((1**3+2**3+3**3+4**3+5**3) / ((56*47)%13) - (4**(5**6))%7)"
   ]
  },
  {
   "cell_type": "markdown",
   "metadata": {},
   "source": [
    "# Problem 2"
   ]
  },
  {
   "cell_type": "code",
   "execution_count": null,
   "metadata": {},
   "outputs": [],
   "source": [
    "player1 = input(\"Player 1: \")\n",
    "player2 = input(\"Player 2: \")\n",
    "\n",
    "if player1 == \"rock\":\n",
    "    if player2 == \"paper\":\n",
    "        print(\"Player 2 wins\")\n",
    "    elif player2 == \"scissors\":\n",
    "        print(\"Player 1 wins\")\n",
    "    else:\n",
    "        print(\"Draw\")\n",
    "\n",
    "if player1 == \"paper\":\n",
    "    if player2 == \"rock\":\n",
    "        print(\"Player 1 wins\")\n",
    "    elif player2 == \"scissors\":\n",
    "        print(\"Player 2 wins\")\n",
    "    else:\n",
    "        print(\"Draw\")\n",
    "\n",
    "if player1 == \"scissors\":\n",
    "    if player2 == \"paper\":\n",
    "        print(\"Player 1 wins\")\n",
    "    elif player2 == \"rock\":\n",
    "        print(\"Player 2 wins\")\n",
    "    else:\n",
    "        print(\"Draw\")\n"
   ]
  },
  {
   "cell_type": "markdown",
   "metadata": {},
   "source": [
    "# Problem 3"
   ]
  },
  {
   "cell_type": "code",
   "execution_count": null,
   "metadata": {},
   "outputs": [],
   "source": [
    "weight = float(input(\"Enter weight in kg: \"))\n",
    "height = float(input(\"Enter height in m: \"))\n",
    "\n",
    "bmi = weight/height**2\n",
    "\n",
    "print(f\"BMI is {bmi}\")\n",
    "if bmi < 18.5:\n",
    "    print(\"Underweight\")\n",
    "elif bmi < 25:\n",
    "    print(\"Normal\")\n",
    "elif bmi < 30:\n",
    "    print(\"Overweight\")\n",
    "else:\n",
    "    print(\"Obese\")"
   ]
  },
  {
   "cell_type": "markdown",
   "metadata": {},
   "source": [
    "# Problem 4"
   ]
  },
  {
   "cell_type": "code",
   "execution_count": null,
   "metadata": {},
   "outputs": [],
   "source": [
    "import math\n",
    "\n",
    "number = int(input(\"Enter a number: \"))\n",
    "\n",
    "log = math.log2(number)\n",
    "if math.isclose(log, int(log)):\n",
    "    print(\"True\")\n",
    "else:\n",
    "    print(\"False\")"
   ]
  },
  {
   "cell_type": "markdown",
   "metadata": {},
   "source": [
    "# Problem 5"
   ]
  },
  {
   "cell_type": "code",
   "execution_count": null,
   "metadata": {},
   "outputs": [],
   "source": [
    "a = float(input(\"Enter a: \"))\n",
    "b = float(input(\"Enter b: \"))\n",
    "c = float(input(\"Enter c: \"))\n",
    "\n",
    "if a == 0:\n",
    "    print(\"Not a quadratic equation, One root: \", -c/b)\n",
    "else:\n",
    "    d = b**2-4*a*c\n",
    "    if d == 0:\n",
    "        print(\"One root: \", -b/(2*a))\n",
    "    else:\n",
    "        x1 = (-b+d**0.5)/(2*a)\n",
    "        x2 = (-b-d**0.5)/(2*a)\n",
    "        print(\"Two roots are \", x1, x2)"
   ]
  },
  {
   "cell_type": "code",
   "execution_count": null,
   "metadata": {},
   "outputs": [],
   "source": []
  }
 ],
 "metadata": {
  "kernelspec": {
   "display_name": ".ysu",
   "language": "python",
   "name": "python3"
  },
  "language_info": {
   "codemirror_mode": {
    "name": "ipython",
    "version": 3
   },
   "file_extension": ".py",
   "mimetype": "text/x-python",
   "name": "python",
   "nbconvert_exporter": "python",
   "pygments_lexer": "ipython3",
   "version": "3.9.6"
  }
 },
 "nbformat": 4,
 "nbformat_minor": 2
}
