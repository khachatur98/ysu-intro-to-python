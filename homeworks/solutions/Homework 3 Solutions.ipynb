{
 "cells": [
  {
   "cell_type": "markdown",
   "id": "375f9d09",
   "metadata": {},
   "source": [
    "# Problem 1"
   ]
  },
  {
   "cell_type": "code",
   "execution_count": 1,
   "id": "60754245",
   "metadata": {},
   "outputs": [],
   "source": [
    "def is_pythagorean(a, b, c):\n",
    "    if c**2==a**2+b**2:\n",
    "        return True\n",
    "    else:\n",
    "        return False\n"
   ]
  },
  {
   "cell_type": "code",
   "execution_count": 2,
   "id": "037c7d27",
   "metadata": {},
   "outputs": [
    {
     "name": "stdout",
     "output_type": "stream",
     "text": [
      "True\n"
     ]
    }
   ],
   "source": [
    "print(is_pythagorean(3, 4, 5)) "
   ]
  },
  {
   "cell_type": "code",
   "execution_count": 3,
   "id": "da4b8098",
   "metadata": {},
   "outputs": [
    {
     "name": "stdout",
     "output_type": "stream",
     "text": [
      "False\n"
     ]
    }
   ],
   "source": [
    "print(is_pythagorean(3, 4, 6))"
   ]
  },
  {
   "cell_type": "markdown",
   "id": "3437b5c5",
   "metadata": {},
   "source": [
    "# Problem 2"
   ]
  },
  {
   "cell_type": "code",
   "execution_count": 8,
   "id": "a64c2405",
   "metadata": {},
   "outputs": [],
   "source": [
    "def chunk(l, size):\n",
    "    a=[]\n",
    "    for i in range(0,len(l),size):\n",
    "        a.append(l[i:i+size])\n",
    "    return a\n",
    "    "
   ]
  },
  {
   "cell_type": "code",
   "execution_count": 13,
   "id": "f4ecd052",
   "metadata": {},
   "outputs": [
    {
     "name": "stdout",
     "output_type": "stream",
     "text": [
      "[[1, 2, 3, 4], [5, 6, 7, 8], [9]]\n"
     ]
    }
   ],
   "source": [
    "print(chunk([1, 2, 3, 4, 5, 6, 7, 8, 9], 4))"
   ]
  },
  {
   "cell_type": "markdown",
   "id": "c1ea6125",
   "metadata": {},
   "source": [
    "# Problem 3"
   ]
  },
  {
   "cell_type": "code",
   "execution_count": 14,
   "id": "351c80bd",
   "metadata": {},
   "outputs": [],
   "source": [
    "def deduplicate(l):\n",
    "    a=[]\n",
    "    for i in l:\n",
    "        if i not in a:\n",
    "            a.append(i)\n",
    "    return a"
   ]
  },
  {
   "cell_type": "code",
   "execution_count": 15,
   "id": "3e45aae4",
   "metadata": {},
   "outputs": [
    {
     "name": "stdout",
     "output_type": "stream",
     "text": [
      "[1, 2, 3, 4, 5]\n"
     ]
    }
   ],
   "source": [
    "print(deduplicate([1, 2, 3, 1, 2, 3, 4, 5]))"
   ]
  },
  {
   "cell_type": "markdown",
   "id": "e61a414c",
   "metadata": {},
   "source": [
    "# Problem 4"
   ]
  },
  {
   "cell_type": "code",
   "execution_count": 16,
   "id": "583d62dd",
   "metadata": {},
   "outputs": [],
   "source": [
    "def find_missing(l):\n",
    "    left=0\n",
    "    right=left+1\n",
    "    while right<len(l):\n",
    "        if l[right]-l[left]==2:\n",
    "            return l[right]-1\n",
    "        left+=1\n",
    "        right+=1"
   ]
  },
  {
   "cell_type": "code",
   "execution_count": 19,
   "id": "9fd7e4ce",
   "metadata": {},
   "outputs": [
    {
     "name": "stdout",
     "output_type": "stream",
     "text": [
      "42\n"
     ]
    }
   ],
   "source": [
    "a = list(range(1, 101))\n",
    "a.remove(42)\n",
    "print(find_missing(a))"
   ]
  },
  {
   "cell_type": "code",
   "execution_count": 18,
   "id": "399401fa",
   "metadata": {},
   "outputs": [],
   "source": [
    "def find_missing(l):\n",
    "    expected_sum=sum(range(0,101))\n",
    "    sum_of_list=sum(l)\n",
    "    missing=expected_sum- sum_of_list\n",
    "    return missing"
   ]
  },
  {
   "cell_type": "markdown",
   "id": "9bde978e",
   "metadata": {},
   "source": [
    "# Problem 5"
   ]
  },
  {
   "cell_type": "code",
   "execution_count": 20,
   "id": "fa5ef6b4",
   "metadata": {},
   "outputs": [],
   "source": [
    "def rotate(l, k):\n",
    "    return l[k:]+l[:k]"
   ]
  },
  {
   "cell_type": "code",
   "execution_count": 21,
   "id": "01d09d07",
   "metadata": {},
   "outputs": [
    {
     "name": "stdout",
     "output_type": "stream",
     "text": [
      "[3, 4, 5, 6, 1, 2]\n"
     ]
    }
   ],
   "source": [
    "print(rotate([1, 2, 3, 4, 5, 6], 2)) "
   ]
  },
  {
   "cell_type": "code",
   "execution_count": 22,
   "id": "ac725323",
   "metadata": {},
   "outputs": [],
   "source": [
    "def rotate(l, k):\n",
    "    m=l[0:k]\n",
    "    del l[0:k]\n",
    "    l.extend(m)\n",
    "    return l"
   ]
  },
  {
   "cell_type": "code",
   "execution_count": 23,
   "id": "29f42f06",
   "metadata": {},
   "outputs": [
    {
     "name": "stdout",
     "output_type": "stream",
     "text": [
      "[3, 4, 5, 6, 1, 2]\n"
     ]
    }
   ],
   "source": [
    "print(rotate([1, 2, 3, 4, 5, 6], 2)) "
   ]
  },
  {
   "cell_type": "code",
   "execution_count": null,
   "id": "2ac2b144",
   "metadata": {},
   "outputs": [],
   "source": []
  }
 ],
 "metadata": {
  "kernelspec": {
   "display_name": "Python 3 (ipykernel)",
   "language": "python",
   "name": "python3"
  },
  "language_info": {
   "codemirror_mode": {
    "name": "ipython",
    "version": 3
   },
   "file_extension": ".py",
   "mimetype": "text/x-python",
   "name": "python",
   "nbconvert_exporter": "python",
   "pygments_lexer": "ipython3",
   "version": "3.9.13"
  }
 },
 "nbformat": 4,
 "nbformat_minor": 5
}
