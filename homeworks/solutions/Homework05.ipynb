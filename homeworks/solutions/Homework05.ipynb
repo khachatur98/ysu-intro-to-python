{
 "cells": [
  {
   "cell_type": "markdown",
   "metadata": {},
   "source": [
    "## Problem 1"
   ]
  },
  {
   "cell_type": "code",
   "execution_count": 2,
   "metadata": {},
   "outputs": [],
   "source": [
    "def count_frequency(strings): \n",
    "    freqs = {}\n",
    "    for s in strings:\n",
    "        if s in freqs:\n",
    "            freqs[s] += 1\n",
    "        else:\n",
    "            freqs[s] = 1\n",
    "    return freqs"
   ]
  },
  {
   "cell_type": "code",
   "execution_count": 3,
   "metadata": {},
   "outputs": [
    {
     "data": {
      "text/plain": [
       "{'apple': 3, 'banana': 2, 'orange': 1}"
      ]
     },
     "execution_count": 3,
     "metadata": {},
     "output_type": "execute_result"
    }
   ],
   "source": [
    "count_frequency([\"apple\", \"banana\", \"apple\", \"orange\", \"banana\", \"apple\"])"
   ]
  },
  {
   "cell_type": "markdown",
   "metadata": {},
   "source": [
    "## Problem 2"
   ]
  },
  {
   "cell_type": "code",
   "execution_count": 4,
   "metadata": {},
   "outputs": [],
   "source": [
    "def inverse_dict(d): \n",
    "    inv_d = {}\n",
    "    for key in d:\n",
    "        value = d[key]\n",
    "        if value in inv_d:\n",
    "            inv_d[value].append(key)\n",
    "        else:\n",
    "            inv_d[value] = [key]\n",
    "    return inv_d\n"
   ]
  },
  {
   "cell_type": "code",
   "execution_count": 5,
   "metadata": {},
   "outputs": [
    {
     "name": "stdout",
     "output_type": "stream",
     "text": [
      "{1: ['a', 'c'], 2: ['b']}\n"
     ]
    }
   ],
   "source": [
    "d = {\"a\": 1, \"b\": 2, \"c\": 1} \n",
    "print(inverse_dict(d))"
   ]
  },
  {
   "cell_type": "markdown",
   "metadata": {},
   "source": [
    "## Problem 3"
   ]
  },
  {
   "cell_type": "code",
   "execution_count": 6,
   "metadata": {},
   "outputs": [
    {
     "name": "stdout",
     "output_type": "stream",
     "text": [
      "{'a': 5, 'b': 17, 'c': 4, 'd': 4}\n"
     ]
    }
   ],
   "source": [
    "def merge_sum_dicts(d1, d2): \n",
    "    d = {}\n",
    "    for key in d1:\n",
    "        d[key] = d1[key]\n",
    "    for key in d2:\n",
    "        if key in d:\n",
    "            d[key] += d2[key]\n",
    "        else:\n",
    "            d[key] = d2[key]\n",
    "    return d \n",
    " \n",
    "d1 = {\"a\": 5, \"b\": 10, \"c\": 3} \n",
    "d2 = {\"b\": 7, \"c\": 1, \"d\": 4} \n",
    "print(merge_sum_dicts(d1, d2)) # {\"a\": 5, \"b\": 17, \"c\": 4, \"d\": 4}\n"
   ]
  },
  {
   "cell_type": "markdown",
   "metadata": {},
   "source": [
    "## Problem 4"
   ]
  },
  {
   "cell_type": "code",
   "execution_count": 8,
   "metadata": {},
   "outputs": [
    {
     "name": "stdout",
     "output_type": "stream",
     "text": [
      "True\n",
      "True\n"
     ]
    }
   ],
   "source": [
    "def are_anagrams(s1, s2):\n",
    "    s1 = s1.lower().replace(\" \", \"\")\n",
    "    s2 = s2.lower().replace(\" \", \"\")\n",
    "    d1 = {}\n",
    "    d2 = {}\n",
    "    for c in s1:\n",
    "        if c in d1:\n",
    "            d1[c] += 1\n",
    "        else:\n",
    "            d1[c] = 1\n",
    "    for c in s2:\n",
    "        if c in d2:\n",
    "            d2[c] += 1\n",
    "        else:\n",
    "            d2[c] = 1\n",
    "    \n",
    "    return d1 == d2\n",
    " \n",
    "print(are_anagrams(\"listen\", \"silent\")) # True \n",
    "print(are_anagrams(\"I am Lord Voldemort\", \"Tom Marvolo Riddle\")) # True"
   ]
  },
  {
   "cell_type": "markdown",
   "metadata": {},
   "source": [
    "## Problem 5"
   ]
  },
  {
   "cell_type": "code",
   "execution_count": 9,
   "metadata": {},
   "outputs": [
    {
     "name": "stdout",
     "output_type": "stream",
     "text": [
      "True\n",
      "True\n",
      "True\n",
      "False\n"
     ]
    }
   ],
   "source": [
    "def are_shifted(s1, s2): \n",
    "    if len(s1) != len(s2):\n",
    "        return False\n",
    "    first_diff = ord(s1[0]) - ord(s2[0])\n",
    "    for i in range(len(s1)):\n",
    "        if ord(s1[i]) - ord(s2[i]) != first_diff:\n",
    "            return False\n",
    "    return True\n",
    " \n",
    "print(are_shifted(\"abc\", \"bcd\")) # True \n",
    "print(are_shifted(\"abc\", \"xyz\")) # True \n",
    "print(are_shifted(\"Hello\", \"Lipps\")) # True \n",
    "print(are_shifted(\"Hello\", \"World\")) # False"
   ]
  },
  {
   "cell_type": "code",
   "execution_count": null,
   "metadata": {},
   "outputs": [],
   "source": []
  }
 ],
 "metadata": {
  "kernelspec": {
   "display_name": ".ysu",
   "language": "python",
   "name": "python3"
  },
  "language_info": {
   "codemirror_mode": {
    "name": "ipython",
    "version": 3
   },
   "file_extension": ".py",
   "mimetype": "text/x-python",
   "name": "python",
   "nbconvert_exporter": "python",
   "pygments_lexer": "ipython3",
   "version": "3.9.6"
  }
 },
 "nbformat": 4,
 "nbformat_minor": 2
}
